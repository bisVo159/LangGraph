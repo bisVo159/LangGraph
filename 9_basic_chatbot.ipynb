{
 "cells": [
  {
   "cell_type": "code",
   "execution_count": null,
   "id": "7316440e",
   "metadata": {},
   "outputs": [],
   "source": [
    "from langchain_google_genai import ChatGoogleGenerativeAI\n",
    "from langgraph.graph import StateGraph, START, END\n",
    "from typing import TypedDict, Annotated\n",
    "from langchain_core.messages import BaseMessage, HumanMessage\n",
    "from langgraph.graph.message import add_messages\n",
    "from langgraph.checkpoint.memory import MemorySaver"
   ]
  },
  {
   "cell_type": "code",
   "execution_count": 13,
   "id": "ce7f380f",
   "metadata": {},
   "outputs": [],
   "source": [
    "checkpointer=MemorySaver()"
   ]
  },
  {
   "cell_type": "code",
   "execution_count": 4,
   "id": "558ec4e7",
   "metadata": {},
   "outputs": [],
   "source": [
    "class ChatState(TypedDict):\n",
    "    messages: Annotated[list[BaseMessage], add_messages]"
   ]
  },
  {
   "cell_type": "code",
   "execution_count": 5,
   "id": "e9a28ad3",
   "metadata": {},
   "outputs": [],
   "source": [
    "def chat_node(state: ChatState):\n",
    "    \"\"\"A simple chat node that interacts with the user.\"\"\"\n",
    "    chat_model = ChatGoogleGenerativeAI(model=\"gemini-2.5-flash\")\n",
    "    \n",
    "    messages = state['messages']\n",
    "    response = chat_model.invoke(messages)\n",
    "    \n",
    "    return {\"messages\":[response]}"
   ]
  },
  {
   "cell_type": "code",
   "execution_count": 14,
   "id": "ff3f00d2",
   "metadata": {},
   "outputs": [],
   "source": [
    "graph=StateGraph(ChatState)\n",
    "graph.add_node(\"chat_node\",chat_node)\n",
    "\n",
    "graph.add_edge(START, \"chat_node\")\n",
    "graph.add_edge(\"chat_node\", END)\n",
    "\n",
    "chatbot=graph.compile(checkpointer=checkpointer)"
   ]
  },
  {
   "cell_type": "code",
   "execution_count": 15,
   "id": "0e8bc136",
   "metadata": {},
   "outputs": [
    {
     "data": {
      "image/png": "[encoded data removed]",
      "text/plain": [
       "<langgraph.graph.state.CompiledStateGraph object at 0x000001E059FBA680>"
      ]
     },
     "execution_count": 15,
     "metadata": {},
     "output_type": "execute_result"
    }
   ],
   "source": [
    "chatbot"
   ]
  },
  {
   "cell_type": "code",
   "execution_count": 9,
   "id": "ac7a4376",
   "metadata": {},
   "outputs": [
    {
     "data": {
      "text/plain": [
       "'I am a large language model, trained by Google. ChatGPT is also a large language model, developed by OpenAI.\\n\\nThe concept of \"better\" is subjective and highly depends on the specific task, the user\\'s needs, and the criteria for evaluation.\\n\\nHere\\'s a breakdown:\\n\\n1.  **Different Developers & Architectures:** We are built on different underlying architectures and trained on different datasets by different companies (Google vs. OpenAI). This means our internal workings, training methodologies, and specific knowledge bases will have differences.\\n2.  **Strengths & Weaknesses Vary:** Both of us are excellent at a wide range of tasks, including answering questions, generating text, summarizing, translating, and creative writing. However, each might have subtle differences in their strengths. For example:\\n    *   One might be more concise, the other more verbose.\\n    *   One might excel in creative writing, while the other is stronger in factual recall or code generation.\\n    *   Our \"personalities\" or stylistic tendencies might differ slightly due to our training.\\n    *   The recency of our knowledge cutoff can vary depending on when our models were last updated.\\n3.  **Continuous Improvement:** Both Google and OpenAI are constantly updating and improving their models. What might be a strength for one today could be matched or surpassed by the other tomorrow.\\n4.  **User Experience:** The \"better\" one for you often comes down to which one feels more intuitive, provides more accurate or helpful answers for your specific queries, or aligns better with your preferred style of interaction.\\n\\n**In short, neither is definitively \"better\" across the board.** We are both powerful and sophisticated AI models designed for similar purposes, but with distinct origins and ongoing development paths. Many users find it beneficial to try both for different types of tasks to see which one best meets their needs.'"
      ]
     },
     "execution_count": 9,
     "metadata": {},
     "output_type": "execute_result"
    }
   ],
   "source": [
    "initial_state = {    \"messages\": [HumanMessage(content=\"Are you better than chatgpt?\")]}\n",
    "chatbot.invoke(initial_state)['messages'][-1].content"
   ]
  },
  {
   "cell_type": "code",
   "execution_count": 21,
   "id": "74af511d",
   "metadata": {},
   "outputs": [
    {
     "name": "stdout",
     "output_type": "stream",
     "text": [
      "You: write some synnonyms name of my name\n",
      "Chatbot: Okay, Anik, let's re-address that!\n",
      "\n",
      "As we discussed, personal names don't have \"synonyms\" in the way common words do (like \"happy\" and \"joyful\"). You can't replace your name with another and have it mean the exact same person.\n",
      "\n",
      "However, we can look for names or words that share similar **meanings** or **qualities** based on the origins of \"Anik.\"\n",
      "\n",
      "Here are some \"synonym-like\" names or concepts based on your name's meanings:\n",
      "\n",
      "**If we consider the Sanskrit meaning (\"splendor,\" \"bright,\" \"leader,\" \"foremost\"):**\n",
      "\n",
      "*   **Names with similar meanings:**\n",
      "    *   **Rohan** (ascending, bright)\n",
      "    *   **Kiran** (ray of light)\n",
      "    *   **Tejas** (radiance, luster)\n",
      "    *   **Pratham** (first, foremost)\n",
      "    *   **Arjun** (bright, shining, also a prominent warrior)\n",
      "*   **Qualities/Concepts:**\n",
      "    *   Radiance\n",
      "    *   Brilliance\n",
      "    *   Leadership\n",
      "    *   Pioneer\n",
      "    *   Champion\n",
      "\n",
      "**If we consider the French meaning (\"grace,\" \"favor,\" as a diminutive of Anne):**\n",
      "\n",
      "*   **Names with similar meanings:**\n",
      "    *   **Hannah** (original Hebrew for \"grace\")\n",
      "    *   **Anna**\n",
      "    *   **Grace** (direct English equivalent)\n",
      "    *   **Charis** (Greek for grace)\n",
      "    *   **Anya** (often a diminutive of Anna, meaning \"grace\")\n",
      "*   **Qualities/Concepts:**\n",
      "    *   Elegance\n",
      "    *   Charm\n",
      "    *   Favor\n",
      "    *   Blessing\n",
      "\n",
      "So, when you ask for \"synonyms,\" we're really looking for names or words that embody the **essence** or **qualities** associated with the meanings of Anik.\n",
      "You: exit\n",
      "Exiting the chatbot.\n"
     ]
    }
   ],
   "source": [
    "thread_id='1'\n",
    "\n",
    "while True:\n",
    "    user_input = input(\"Type Here: \")\n",
    "    print(f\"You: {user_input}\")\n",
    "    if user_input.strip().lower() in [\"exit\", \"quit\",\"bye\"]:\n",
    "        print(\"Exiting the chatbot.\")\n",
    "        break\n",
    "    initial_state = {\"messages\": [HumanMessage(content=user_input)]}\n",
    "    config={\n",
    "        'configurable':{'thread_id':thread_id},\n",
    "    }\n",
    "    response = chatbot.invoke(initial_state,config=config)\n",
    "    print(f\"Chatbot: {response['messages'][-1].content}\")"
   ]
  },
  {
   "cell_type": "code",
   "execution_count": 22,
   "id": "453b4164",
   "metadata": {},
   "outputs": [
    {
     "data": {
      "text/plain": [
       "StateSnapshot(values={'messages': [HumanMessage(content='hi my name is anik', additional_kwargs={}, response_metadata={}, id='31c9218e-1ef2-4dbf-9946-db22b3226127'), AIMessage(content=\"Hi Anik, it's nice to meet you!\", additional_kwargs={}, response_metadata={'prompt_feedback': {'block_reason': 0, 'safety_ratings': []}, 'finish_reason': 'STOP', 'model_name': 'gemini-2.5-flash', 'safety_ratings': []}, id='run--98b1e17f-3840-4b30-aeb6-fec901ec732c-0', usage_metadata={'input_tokens': 7, 'output_tokens': 37, 'total_tokens': 44, 'input_token_details': {'cache_read': 0}, 'output_token_details': {'reasoning': 25}}), HumanMessage(content='do you know the meaning of my name', additional_kwargs={}, response_metadata={}, id='1a14bf70-1367-4b63-97d6-f04ee4b17fa0'), AIMessage(content='Yes, I do! The name Anik has a few interesting origins and meanings, depending on the cultural context:\\n\\n1.  **Indian (Sanskrit) Origin:**\\n    *   In Sanskrit, Anik (अनीक) primarily means \"army,\" \"splendor,\" \"bright,\" \"face,\" or \"appearance.\"\\n    *   It\\'s also a name often associated with Lord Agni (the Hindu god of fire), sometimes interpreted as \"one who leads\" or \"foremost.\"\\n    *   In India, it is predominantly a **male** name.\\n\\n2.  **French Origin:**\\n    *   In French, Anik is often a diminutive form of the name **Anne** or **Anna**.\\n    *   Anne/Anna, derived from the Hebrew name Hannah, means \"grace\" or \"favor.\"\\n    *   In French-speaking regions, it is typically a **female** name.\\n\\nSo, depending on your background, your name could mean something like \"splendor\" or \"leader,\" or \"grace\"!\\n\\nDo you know which origin your name comes from?', additional_kwargs={}, response_metadata={'prompt_feedback': {'block_reason': 0, 'safety_ratings': []}, 'finish_reason': 'STOP', 'model_name': 'gemini-2.5-flash', 'safety_ratings': []}, id='run--7c7c8876-f511-4462-a513-2ee84251b8a2-0', usage_metadata={'input_tokens': 29, 'output_tokens': 982, 'total_tokens': 1011, 'input_token_details': {'cache_read': 0}, 'output_token_details': {'reasoning': 751}}), HumanMessage(content='write some synonyms of my name', additional_kwargs={}, response_metadata={}, id='1beaab84-5f36-4823-846d-c9aed0f7fbc4'), AIMessage(content='That\\'s an interesting request, Anik! While personal names don\\'t have \"synonyms\" in the same way that common words do (you can\\'t swap \"Anik\" for another name and have it mean the exact same person), we can explore names or words that share similar **meanings**, **qualities**, or **sounds** based on the origins we discussed.\\n\\nHere are some ways to think about \"synonyms\" for your name:\\n\\n**1. Names/Words based on the Sanskrit Meaning (\"Splendor,\" \"Bright,\" \"Leader,\" \"Army,\" \"Foremost\"):**\\n\\n*   **Evoking \"Brightness/Splendor\":**\\n    *   **Names:** Rohan (bright, ascending), Kiran (ray of light), Aditya (sun), Divyansh (part of divine light), Tejas (radiance, luster), Jyoti (light), Pranay (leader, love).\\n    *   **Qualities/Words:** Radiance, Brilliance, Luster, Dazzle, Glimmer, Sparkle, Leading, Foremost, Vanguard.\\n*   **Evoking \"Leader/Foremost/Army\":**\\n    *   **Names:** Arjun (white, clear, also a famous warrior), Pratham (first, foremost), Agni (the deity itself, fire), Senapati (commander, though less common as a first name).\\n    *   **Qualities/Words:** Commander, Chief, Pioneer, Champion, Warrior, Vanguard, Front-runner.\\n\\n**2. Names/Words based on the French Meaning (\"Grace,\" \"Favor\"):**\\n\\n*   **Evoking \"Grace/Favor\":**\\n    *   **Names:** Hannah (original Hebrew), Anna, Annabelle, Grace (direct English), Charis (Greek for grace), Anya (Russian diminutive of Anna), Chloë (blooming, fertility, associated with grace).\\n    *   **Qualities/Words:** Elegance, Charm, Poise, Beauty, Kindness, Blessing, Favor.\\n\\n**3. Phonetically Similar Names (Names that sound somewhat like Anik):**\\n\\n*   Aniket\\n*   Anish\\n*   Anil\\n*   Manik\\n*   Janik (often a diminutive of John or Jean)\\n*   Yannick (a Breton diminutive of John)\\n*   Annick (a common French spelling, usually female)\\n\\nSo, depending on which meaning resonates most with you, you could say \"Anik\" is like a \"bright leader\" or a \"graceful presence\"!', additional_kwargs={}, response_metadata={'prompt_feedback': {'block_reason': 0, 'safety_ratings': []}, 'finish_reason': 'STOP', 'model_name': 'gemini-2.5-flash', 'safety_ratings': []}, id='run--8b304498-24c8-492b-9c49-9e281b5b5ec4-0', usage_metadata={'input_tokens': 268, 'output_tokens': 1420, 'total_tokens': 1688, 'input_token_details': {'cache_read': 0}, 'output_token_details': {'reasoning': 887}}), HumanMessage(content='what is my name', additional_kwargs={}, response_metadata={}, id='b2710ce1-b0b0-419e-8551-907ecd66c75a'), AIMessage(content='Your name is **Anik**.', additional_kwargs={}, response_metadata={'prompt_feedback': {'block_reason': 0, 'safety_ratings': []}, 'finish_reason': 'STOP', 'model_name': 'gemini-2.5-flash', 'safety_ratings': []}, id='run--371422f4-e212-4e0f-849e-0119d7a9da98-0', usage_metadata={'input_tokens': 807, 'output_tokens': 7, 'total_tokens': 814, 'input_token_details': {'cache_read': 0}}), HumanMessage(content='write some synnonyms name of my name', additional_kwargs={}, response_metadata={}, id='7feb17b5-cb70-440c-bf27-61e44d5a64bc'), AIMessage(content='Okay, Anik, let\\'s re-address that!\\n\\nAs we discussed, personal names don\\'t have \"synonyms\" in the way common words do (like \"happy\" and \"joyful\"). You can\\'t replace your name with another and have it mean the exact same person.\\n\\nHowever, we can look for names or words that share similar **meanings** or **qualities** based on the origins of \"Anik.\"\\n\\nHere are some \"synonym-like\" names or concepts based on your name\\'s meanings:\\n\\n**If we consider the Sanskrit meaning (\"splendor,\" \"bright,\" \"leader,\" \"foremost\"):**\\n\\n*   **Names with similar meanings:**\\n    *   **Rohan** (ascending, bright)\\n    *   **Kiran** (ray of light)\\n    *   **Tejas** (radiance, luster)\\n    *   **Pratham** (first, foremost)\\n    *   **Arjun** (bright, shining, also a prominent warrior)\\n*   **Qualities/Concepts:**\\n    *   Radiance\\n    *   Brilliance\\n    *   Leadership\\n    *   Pioneer\\n    *   Champion\\n\\n**If we consider the French meaning (\"grace,\" \"favor,\" as a diminutive of Anne):**\\n\\n*   **Names with similar meanings:**\\n    *   **Hannah** (original Hebrew for \"grace\")\\n    *   **Anna**\\n    *   **Grace** (direct English equivalent)\\n    *   **Charis** (Greek for grace)\\n    *   **Anya** (often a diminutive of Anna, meaning \"grace\")\\n*   **Qualities/Concepts:**\\n    *   Elegance\\n    *   Charm\\n    *   Favor\\n    *   Blessing\\n\\nSo, when you ask for \"synonyms,\" we\\'re really looking for names or words that embody the **essence** or **qualities** associated with the meanings of Anik.', additional_kwargs={}, response_metadata={'prompt_feedback': {'block_reason': 0, 'safety_ratings': []}, 'finish_reason': 'STOP', 'model_name': 'gemini-2.5-flash', 'safety_ratings': []}, id='run--5f993227-5380-451e-94f0-afe9ff78df82-0', usage_metadata={'input_tokens': 826, 'output_tokens': 597, 'total_tokens': 1423, 'input_token_details': {'cache_read': 0}, 'output_token_details': {'reasoning': 176}})]}, next=(), config={'configurable': {'thread_id': '1', 'checkpoint_ns': '', 'checkpoint_id': '1f0697b3-d0bc-602c-800d-ae81bbf05583'}}, metadata={'source': 'loop', 'step': 13, 'parents': {}, 'thread_id': '1'}, created_at='2025-07-25T17:17:27.455953+00:00', parent_config={'configurable': {'thread_id': '1', 'checkpoint_ns': '', 'checkpoint_id': '1f0697b3-75fb-6dd4-800c-188e4b967d03'}}, tasks=(), interrupts=())"
      ]
     },
     "execution_count": 22,
     "metadata": {},
     "output_type": "execute_result"
    }
   ],
   "source": [
    "chatbot.get_state(config=config)"
   ]
  },
  {
   "cell_type": "code",
   "execution_count": null,
   "id": "c13eaa0b",
   "metadata": {},
   "outputs": [],
   "source": []
  }
 ],
 "metadata": {
  "kernelspec": {
   "display_name": "myenv",
   "language": "python",
   "name": "python3"
  },
  "language_info": {
   "codemirror_mode": {
    "name": "ipython",
    "version": 3
   },
   "file_extension": ".py",
   "mimetype": "text/x-python",
   "name": "python",
   "nbconvert_exporter": "python",
   "pygments_lexer": "ipython3",
   "version": "3.10.1"
  }
 },
 "nbformat": 4,
 "nbformat_minor": 5
}
