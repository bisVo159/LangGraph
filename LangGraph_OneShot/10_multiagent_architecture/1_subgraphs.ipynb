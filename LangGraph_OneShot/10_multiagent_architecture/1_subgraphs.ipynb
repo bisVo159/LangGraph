{
 "cells": [
  {
   "cell_type": "code",
   "execution_count": 109,
   "id": "52ad1541",
   "metadata": {},
   "outputs": [],
   "source": [
    "from typing_extensions import TypedDict,List\n",
    "from langgraph.graph.state import StateGraph, START"
   ]
  },
  {
   "cell_type": "code",
   "execution_count": 115,
   "id": "3b20f36f",
   "metadata": {},
   "outputs": [],
   "source": [
    "from numpy import add\n",
    "\n",
    "\n",
    "class SubgraphState(TypedDict):\n",
    "    a: str  \n",
    "    b: str  \n",
    "    f: str\n",
    "    arr: List[int]\n",
    "\n",
    "def subgraph_node_1(state: SubgraphState):\n",
    "    return {\"b\": \"biswas\",}\n",
    "\n",
    "def subgraph_node_2(state: SubgraphState):\n",
    "    return {\"f\": state[\"a\"]+ state['b'] }\n",
    "\n",
    "def add_in_arr(state: SubgraphState):\n",
    "    arr = state.get(\"arr\", [])\n",
    "    arr.append(1)\n",
    "    return {\"arr\": arr}\n",
    "\n",
    "subgraph_builder = StateGraph(SubgraphState)\n",
    "subgraph_builder.add_node(subgraph_node_1)\n",
    "subgraph_builder.add_node(subgraph_node_2)\n",
    "subgraph_builder.add_node(add_in_arr)\n",
    "subgraph_builder.add_edge(START, \"subgraph_node_1\")\n",
    "subgraph_builder.add_edge(\"subgraph_node_1\", \"subgraph_node_2\")\n",
    "subgraph_builder.add_edge(\"subgraph_node_2\", \"add_in_arr\")\n",
    "subgraph = subgraph_builder.compile()\n",
    "\n",
    "class ParentState(TypedDict):\n",
    "    a: str\n",
    "    b: str\n",
    "    f: str\n",
    "    arr: List[int]\n",
    "\n",
    "def node_1(state: ParentState):\n",
    "    return {\"a\": \"hi! \" + state[\"a\"]}\n",
    "\n",
    "builder = StateGraph(ParentState)\n",
    "builder.add_node(\"node_1\", node_1)\n",
    "builder.add_node(\"node_2\", subgraph)\n",
    "builder.add_node(\"node_3\",add_in_arr)\n",
    "builder.add_edge(START, \"node_1\")\n",
    "builder.add_edge(\"node_1\", \"node_2\")\n",
    "builder.add_edge(\"node_2\", \"node_3\")\n",
    "graph = builder.compile()"
   ]
  },
  {
   "cell_type": "code",
   "execution_count": 116,
   "id": "07181da4",
   "metadata": {},
   "outputs": [
    {
     "name": "stdout",
     "output_type": "stream",
     "text": [
      "{'node_1': {'a': 'hi! anik'}}\n",
      "{'node_2': {'a': 'hi! anik', 'b': 'biswas', 'f': 'hi! anikbiswas', 'arr': [1]}}\n",
      "{'node_3': {'arr': [1, 1]}}\n"
     ]
    }
   ],
   "source": [
    "for chunk in graph.stream({\"a\": \"anik\"}):\n",
    "    print(chunk)"
   ]
  },
  {
   "cell_type": "code",
   "execution_count": 117,
   "id": "bc9a4da2",
   "metadata": {},
   "outputs": [
    {
     "data": {
      "text/plain": [
       "{'a': 'hi! anik', 'b': 'biswas', 'f': 'hi! anikbiswas', 'arr': [1, 1]}"
      ]
     },
     "execution_count": 117,
     "metadata": {},
     "output_type": "execute_result"
    }
   ],
   "source": [
    "graph.invoke({\"a\": \"anik\"})"
   ]
  },
  {
   "cell_type": "code",
   "execution_count": null,
   "id": "e014fb67",
   "metadata": {},
   "outputs": [],
   "source": []
  }
 ],
 "metadata": {
  "kernelspec": {
   "display_name": "myenv",
   "language": "python",
   "name": "python3"
  },
  "language_info": {
   "codemirror_mode": {
    "name": "ipython",
    "version": 3
   },
   "file_extension": ".py",
   "mimetype": "text/x-python",
   "name": "python",
   "nbconvert_exporter": "python",
   "pygments_lexer": "ipython3",
   "version": "3.10.1"
  }
 },
 "nbformat": 4,
 "nbformat_minor": 5
}
