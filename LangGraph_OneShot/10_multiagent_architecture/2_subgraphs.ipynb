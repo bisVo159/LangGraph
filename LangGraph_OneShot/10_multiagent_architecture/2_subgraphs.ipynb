{
 "cells": [
  {
   "cell_type": "code",
   "execution_count": 1,
   "id": "05cc7777",
   "metadata": {},
   "outputs": [],
   "source": [
    "from typing import TypedDict, Annotated\n",
    "from langgraph.graph import add_messages, StateGraph, END\n",
    "from langchain_groq import ChatGroq\n",
    "from langchain_core.messages import AIMessage, HumanMessage\n",
    "from dotenv import load_dotenv\n",
    "from langchain_tavily import TavilySearch\n",
    "from langgraph.prebuilt import ToolNode"
   ]
  },
  {
   "cell_type": "code",
   "execution_count": 2,
   "id": "c1686377",
   "metadata": {},
   "outputs": [],
   "source": [
    "load_dotenv()\n",
    "\n",
    "class ChildState(TypedDict):\n",
    "    messages: Annotated[list, add_messages]\n",
    "\n",
    "search_tool = TavilySearch(max_results=2)\n",
    "tools = [search_tool]\n",
    "\n",
    "llm = ChatGroq(model=\"llama-3.1-8b-instant\")\n",
    "\n",
    "llm_with_tools = llm.bind_tools(tools=tools)"
   ]
  },
  {
   "cell_type": "code",
   "execution_count": 3,
   "id": "26d632ff",
   "metadata": {},
   "outputs": [],
   "source": [
    "def agent(state: ChildState):\n",
    "    return {\n",
    "        \"messages\": [llm_with_tools.invoke(state[\"messages\"])], \n",
    "    }\n",
    "\n",
    "def tools_router(state: ChildState):\n",
    "    last_message = state[\"messages\"][-1]\n",
    "\n",
    "    if(hasattr(last_message, \"tool_calls\") and len(last_message.tool_calls) > 0):\n",
    "        return \"tool_node\"\n",
    "    else: \n",
    "        return END\n",
    "    \n",
    "\n",
    "tool_node = ToolNode(tools=tools)"
   ]
  },
  {
   "cell_type": "code",
   "execution_count": 6,
   "id": "1572ac51",
   "metadata": {},
   "outputs": [],
   "source": [
    "subgraph = StateGraph(ChildState)\n",
    "\n",
    "subgraph.add_node(\"agent\", agent)\n",
    "subgraph.add_node(\"tool_node\", tool_node)\n",
    "subgraph.set_entry_point(\"agent\")\n",
    "\n",
    "subgraph.add_conditional_edges(\"agent\", tools_router,{\n",
    "    \"tool_node\": \"tool_node\",\n",
    "    END: END\n",
    "})\n",
    "subgraph.add_edge(\"tool_node\", \"agent\")\n",
    "\n",
    "search_app = subgraph.compile()"
   ]
  },
  {
   "cell_type": "code",
   "execution_count": 7,
   "id": "cab72164",
   "metadata": {},
   "outputs": [
    {
     "data": {
      "image/png": "[encoded data removed]",
      "text/plain": [
       "<IPython.core.display.Image object>"
      ]
     },
     "metadata": {},
     "output_type": "display_data"
    }
   ],
   "source": [
    "from IPython.display import Image, display\n",
    "from langchain_core.runnables.graph import MermaidDrawMethod\n",
    "\n",
    "display(\n",
    "    Image(\n",
    "        search_app.get_graph().draw_mermaid_png(\n",
    "            draw_method=MermaidDrawMethod.API\n",
    "        )\n",
    "    )\n",
    ")"
   ]
  },
  {
   "cell_type": "code",
   "execution_count": 12,
   "id": "2d2d9836",
   "metadata": {},
   "outputs": [
    {
     "data": {
      "text/plain": [
       "{'messages': [HumanMessage(content='weather in kolkata', additional_kwargs={}, response_metadata={}, id='0adc3d3f-ae8d-41e6-a9f4-f5eb7f267a24'),\n",
       "  AIMessage(content='', additional_kwargs={'tool_calls': [{'id': '8bb71gp9a', 'function': {'arguments': '{\"query\":\"Kolkata weather\",\"topic\":\"news\"}', 'name': 'tavily_search'}, 'type': 'function'}]}, response_metadata={'token_usage': {'completion_tokens': 24, 'prompt_tokens': 1790, 'total_tokens': 1814, 'completion_time': 0.034215688, 'prompt_time': 0.124563952, 'queue_time': 0.046978247, 'total_time': 0.15877964}, 'model_name': 'llama-3.1-8b-instant', 'system_fingerprint': 'fp_2115512ff6', 'service_tier': 'on_demand', 'finish_reason': 'tool_calls', 'logprobs': None}, id='run--71ff290f-7166-4045-ad9f-d03da34f2cd0-0', tool_calls=[{'name': 'tavily_search', 'args': {'query': 'Kolkata weather', 'topic': 'news'}, 'id': '8bb71gp9a', 'type': 'tool_call'}], usage_metadata={'input_tokens': 1790, 'output_tokens': 24, 'total_tokens': 1814}),\n",
       "  ToolMessage(content='{\"query\": \"Kolkata weather\", \"follow_up_questions\": null, \"answer\": null, \"images\": [], \"results\": [{\"url\": \"https://english.khabarhub.com/2025/31/493614/\", \"title\": \"Fertilizer to be available in next 10 days: Agriculture minister - Khabarhub\", \"score\": 0.08332938, \"published_date\": \"Sun, 31 Aug 2025 10:16:16 GMT\", \"content\": \"# Fertilizer to be available in next 10 days: Agriculture minister Minister for Agriculture and Livestock Development Ramnath Adhikari/RSS KAPILVASTU: Minister for Agriculture and Livestock Development Ramnath Adhikari has said that urea fertilizer will be available from India within the next 10 days. Speaking at a program organized in Chandrauta today, Minister Adhikari said fertilizer imported from Kolkata would arrive within 10 days, ensuring easy access for farmers. District Vice President of the same party, Umakanta Khanal, suggested the government develop a plan to provide fertilizer, seeds, and other agricultural inputs to farmers before the rainy season from next year. KATHMANDU: Prime Minister KP Sharma Oli and his Indian counterpart TIANJIN: Prime Minister KP Sharma Oli and Prime Minister of info@khabarhub.com\", \"raw_content\": null}, {\"url\": \"https://www.cbsnews.com/sacramento/video/turning-up-the-heat-with-chili-peppers-whats-in-season-with-michael-marks/\", \"title\": \"Turning up the heat with chili peppers | What\\'s in Season with Michael Marks - CBS News\", \"score\": 0.059982073, \"published_date\": \"Wed, 27 Aug 2025 18:17:00 GMT\", \"content\": \"livelive: CBS News 24/7### CBS News Baltimore: Local News, Weather & More livelive: CBS News Boston### CBS News Chicago: Local News, Weather & More livelive: CBS News Chicago### CBS News Colorado: Local News, Weather & More livelive: CBS News Los Angeles### CBS News Miami: Local News, Weather & More livelive: CBS News Minnesota### CBS News New York: Local News, Weather & More livelive: CBS News New York### CBS News Philadelphia: Local News, Weather & More livelive: CBS News Pittsburgh### CBS News Sacramento: Local News, Weather & More livelive: CBS News Sacramento### CBS News Texas: Local News, Weather & More 02:1817h ago### Tuesday evening Northern California weather forecast: August 26, 2025 01:3419h ago### Northern California treated to unusually active summer weather\", \"raw_content\": null}], \"response_time\": 0.34, \"request_id\": \"37166a91-c919-4cac-9f37-62060e4b83e3\"}', name='tavily_search', id='fe3e8e94-b04d-4447-9bed-3d367b77a7f0', tool_call_id='8bb71gp9a'),\n",
       "  AIMessage(content='The weather in Kolkata is not explicitly mentioned in the search results provided. However, based on the search results, it appears that there is a mention of a weather-related news article from Kolkata, which may be related to the current weather conditions in the city.\\n\\nTo get more accurate and up-to-date information about the weather in Kolkata, I would recommend calling the function again with the following parameters:\\n\\n', additional_kwargs={'tool_calls': [{'id': 'bw1x84m32', 'function': {'arguments': '{\"query\":\"Kolkata weather today\",\"topic\":\"news\"}', 'name': 'tavily_search'}, 'type': 'function'}]}, response_metadata={'token_usage': {'completion_tokens': 117, 'prompt_tokens': 2447, 'total_tokens': 2564, 'completion_time': 0.217901003, 'prompt_time': 0.170198283, 'queue_time': 0.045522177, 'total_time': 0.388099286}, 'model_name': 'llama-3.1-8b-instant', 'system_fingerprint': 'fp_7083106d2c', 'service_tier': 'on_demand', 'finish_reason': 'tool_calls', 'logprobs': None}, id='run--d2cd1e34-1f50-4a48-b0a0-e32bfa482a25-0', tool_calls=[{'name': 'tavily_search', 'args': {'query': 'Kolkata weather today', 'topic': 'news'}, 'id': 'bw1x84m32', 'type': 'tool_call'}], usage_metadata={'input_tokens': 2447, 'output_tokens': 117, 'total_tokens': 2564}),\n",
       "  ToolMessage(content='{\"query\": \"Kolkata weather today\", \"follow_up_questions\": null, \"answer\": null, \"images\": [], \"results\": [{\"url\": \"https://english.khabarhub.com/2025/31/493614/\", \"title\": \"Fertilizer to be available in next 10 days: Agriculture minister - Khabarhub\", \"score\": 0.11382585, \"published_date\": \"Sun, 31 Aug 2025 10:16:16 GMT\", \"content\": \"# Fertilizer to be available in next 10 days: Agriculture minister Minister for Agriculture and Livestock Development Ramnath Adhikari/RSS KAPILVASTU: Minister for Agriculture and Livestock Development Ramnath Adhikari has said that urea fertilizer will be available from India within the next 10 days. Speaking at a program organized in Chandrauta today, Minister Adhikari said fertilizer imported from Kolkata would arrive within 10 days, ensuring easy access for farmers. District Vice President of the same party, Umakanta Khanal, suggested the government develop a plan to provide fertilizer, seeds, and other agricultural inputs to farmers before the rainy season from next year. KATHMANDU: Prime Minister KP Sharma Oli and his Indian counterpart TIANJIN: Prime Minister KP Sharma Oli and Prime Minister of info@khabarhub.com\", \"raw_content\": null}, {\"url\": \"https://www.cbsnews.com/philadelphia/video/horse-named-big-dom-in-honor-of-philadelphia-eagles-security-chief-wins-first-race/\", \"title\": \"Horse named Big Dom in honor of Philadelphia Eagles\\' security chief wins first race - CBS News\", \"score\": 0.054243922, \"published_date\": \"Wed, 27 Aug 2025 20:21:00 GMT\", \"content\": \"livelive: CBS News New York### CBS News Philadelphia livelive: CBS News Philadelphia### CBS News Pittsburgh 01:348h ago### Sunny skies, cooler than average temperatures around Philadelphia area | NEXT Weather 00:3321h ago### Another clear and comfortable night in the Philadelphia region 03:1322h ago### Sunny, cooler-than-average weather around Philadelphia area with isolated chance of PM sprinkles 04:17Aug 26, 2025### Beautiful week of weather ahead in Philadelphia area with cooler-than-average temps 03:55Aug 25, 2025### Warm and sunny Monday in Philadelphia area, dry week ahead 04:07Aug 25, 2025### Below-average temps in Philadelphia area, mostly sunny and pleasant weather Monday 03:17Aug 22, 2025### Sunny weather around Philadelphia region with highs in low to mid-80s 03:36Aug 22, 2025### Sunny and warm Friday in Philadelphia area, enjoyable weekend weather on the way\", \"raw_content\": null}], \"response_time\": 0.42, \"request_id\": \"caba5411-dbdf-4972-ac10-14c41de88bae\"}', name='tavily_search', id='a137f341-cf3c-4b12-b047-32c311c55df2', tool_call_id='bw1x84m32'),\n",
       "  AIMessage(content='The current weather in Kolkata is not explicitly mentioned in the search results. However, based on the search results, it appears that the weather in Kolkata is expected to be warm and sunny, with temperatures cooler than average. The search results also mention that fertilizer will be available in the next 10 days, which may be related to agricultural activities in the region.', additional_kwargs={}, response_metadata={'token_usage': {'completion_tokens': 72, 'prompt_tokens': 3127, 'total_tokens': 3199, 'completion_time': 0.116914488, 'prompt_time': 0.251995257, 'queue_time': 0.051038582, 'total_time': 0.368909745}, 'model_name': 'llama-3.1-8b-instant', 'system_fingerprint': 'fp_2115512ff6', 'service_tier': 'on_demand', 'finish_reason': 'stop', 'logprobs': None}, id='run--67789c8d-ae41-4a26-b62b-a9b2a993a803-0', usage_metadata={'input_tokens': 3127, 'output_tokens': 72, 'total_tokens': 3199})]}"
      ]
     },
     "execution_count": 12,
     "metadata": {},
     "output_type": "execute_result"
    }
   ],
   "source": [
    "search_app.invoke({\"messages\": [HumanMessage(content=\"weather in kolkata\")]})"
   ]
  },
  {
   "cell_type": "code",
   "execution_count": 10,
   "id": "28bceb44",
   "metadata": {},
   "outputs": [
    {
     "data": {
      "text/plain": [
       "{'query': 'weather in kolkata',\n",
       " 'follow_up_questions': None,\n",
       " 'answer': None,\n",
       " 'images': [],\n",
       " 'results': [{'title': 'Weather in Kolkata',\n",
       "   'url': 'https://www.weatherapi.com/',\n",
       "   'content': \"{'location': {'name': 'Kolkata', 'region': 'West Bengal', 'country': 'India', 'lat': 22.5697, 'lon': 88.3697, 'tz_id': 'Asia/Kolkata', 'localtime_epoch': 1756882117, 'localtime': '2025-09-03 12:18'}, 'current': {'last_updated_epoch': 1756881900, 'last_updated': '2025-09-03 12:15', 'temp_c': 29.4, 'temp_f': 84.9, 'is_day': 1, 'condition': {'text': 'Mist', 'icon': '//cdn.weatherapi.com/weather/64x64/day/143.png', 'code': 1030}, 'wind_mph': 16.6, 'wind_kph': 26.6, 'wind_degree': 122, 'wind_dir': 'ESE', 'pressure_mb': 1003.0, 'pressure_in': 29.62, 'precip_mm': 0.15, 'precip_in': 0.01, 'humidity': 84, 'cloud': 75, 'feelslike_c': 36.1, 'feelslike_f': 97.1, 'windchill_c': 28.8, 'windchill_f': 83.9, 'heatindex_c': 34.6, 'heatindex_f': 94.4, 'dewpoint_c': 25.5, 'dewpoint_f': 77.8, 'vis_km': 3.5, 'vis_miles': 2.0, 'uv': 7.2, 'gust_mph': 21.6, 'gust_kph': 34.8}}\",\n",
       "   'score': 0.9465626,\n",
       "   'raw_content': None},\n",
       "  {'url': 'https://www.hindustantimes.com/cities/kolkata-news/kolkata-weather-today-aqi-and-rain-forecast-updates-march-9-2025-101741483807923.html',\n",
       "   'title': 'Kolkata Weather and AQI Today: Warm start at 21.7 °C, ...',\n",
       "   'content': \"The temperature in Kolkata today, on March 9, 2025, is 29.11 °C. The day's forecast indicates a minimum and maximum temperature of 21.7 °C and 34.02 °C,\",\n",
       "   'score': 0.93295,\n",
       "   'raw_content': None}],\n",
       " 'response_time': 1.57,\n",
       " 'request_id': '8e03eacc-04f7-4e02-93e8-644b10614db9'}"
      ]
     },
     "execution_count": 10,
     "metadata": {},
     "output_type": "execute_result"
    }
   ],
   "source": [
    "search_tool.invoke(\"weather in kolkata\")"
   ]
  },
  {
   "cell_type": "markdown",
   "id": "2a2cbd76",
   "metadata": {},
   "source": [
    "Case 1: Shared Schema (Direct Embedding)"
   ]
  },
  {
   "cell_type": "code",
   "execution_count": 14,
   "id": "d576818e",
   "metadata": {},
   "outputs": [
    {
     "data": {
      "text/plain": [
       "{'messages': [HumanMessage(content='How is the weather in kolkata?', additional_kwargs={}, response_metadata={}, id='6a99a96b-899f-477e-a905-406ca85ff95c'),\n",
       "  AIMessage(content='', additional_kwargs={'tool_calls': [{'id': 'c0af38ryj', 'function': {'arguments': '{\"query\":\"kolkata weather\",\"topic\":\"news\"}', 'name': 'tavily_search'}, 'type': 'function'}]}, response_metadata={'token_usage': {'completion_tokens': 24, 'prompt_tokens': 1794, 'total_tokens': 1818, 'completion_time': 0.036180664, 'prompt_time': 0.138700047, 'queue_time': 0.051289062, 'total_time': 0.174880711}, 'model_name': 'llama-3.1-8b-instant', 'system_fingerprint': 'fp_7083106d2c', 'service_tier': 'on_demand', 'finish_reason': 'tool_calls', 'logprobs': None}, id='run--b18cfb12-2fbf-444a-b5a2-84bd19e6338d-0', tool_calls=[{'name': 'tavily_search', 'args': {'query': 'kolkata weather', 'topic': 'news'}, 'id': 'c0af38ryj', 'type': 'tool_call'}], usage_metadata={'input_tokens': 1794, 'output_tokens': 24, 'total_tokens': 1818}),\n",
       "  ToolMessage(content='{\"query\": \"kolkata weather\", \"follow_up_questions\": null, \"answer\": null, \"images\": [], \"results\": [{\"url\": \"https://english.khabarhub.com/2025/31/493614/\", \"title\": \"Fertilizer to be available in next 10 days: Agriculture minister - Khabarhub\", \"score\": 0.08323991, \"published_date\": \"Sun, 31 Aug 2025 10:16:16 GMT\", \"content\": \"# Fertilizer to be available in next 10 days: Agriculture minister Minister for Agriculture and Livestock Development Ramnath Adhikari/RSS KAPILVASTU: Minister for Agriculture and Livestock Development Ramnath Adhikari has said that urea fertilizer will be available from India within the next 10 days. Speaking at a program organized in Chandrauta today, Minister Adhikari said fertilizer imported from Kolkata would arrive within 10 days, ensuring easy access for farmers. District Vice President of the same party, Umakanta Khanal, suggested the government develop a plan to provide fertilizer, seeds, and other agricultural inputs to farmers before the rainy season from next year. KATHMANDU: Prime Minister KP Sharma Oli and his Indian counterpart TIANJIN: Prime Minister KP Sharma Oli and Prime Minister of info@khabarhub.com\", \"raw_content\": null}, {\"url\": \"https://www.cbsnews.com/sacramento/video/turning-up-the-heat-with-chili-peppers-whats-in-season-with-michael-marks/\", \"title\": \"Turning up the heat with chili peppers | What\\'s in Season with Michael Marks - CBS News\", \"score\": 0.059521202, \"published_date\": \"Wed, 27 Aug 2025 18:17:00 GMT\", \"content\": \"livelive: CBS News 24/7### CBS News Baltimore: Local News, Weather & More livelive: CBS News Boston### CBS News Chicago: Local News, Weather & More livelive: CBS News Chicago### CBS News Colorado: Local News, Weather & More livelive: CBS News Los Angeles### CBS News Miami: Local News, Weather & More livelive: CBS News Minnesota### CBS News New York: Local News, Weather & More livelive: CBS News New York### CBS News Philadelphia: Local News, Weather & More livelive: CBS News Pittsburgh### CBS News Sacramento: Local News, Weather & More livelive: CBS News Sacramento### CBS News Texas: Local News, Weather & More 02:1817h ago### Tuesday evening Northern California weather forecast: August 26, 2025 01:3419h ago### Northern California treated to unusually active summer weather\", \"raw_content\": null}], \"response_time\": 0.14, \"request_id\": \"82c1ca46-52e4-43ff-aa5f-3f18668ee7d0\"}', name='tavily_search', id='ef4efd0c-5bd1-4f08-ba1a-e2f4adefa091', tool_call_id='c0af38ryj'),\n",
       "  AIMessage(content='The weather in Kolkata is not explicitly mentioned in the search results. However, the search results do mention that there is a heatwave in Northern California, USA, with unusually active summer weather. It is likely that the weather in Kolkata is hot and humid during this time of the year, but there is no specific information available in the search results.', additional_kwargs={}, response_metadata={'token_usage': {'completion_tokens': 70, 'prompt_tokens': 2454, 'total_tokens': 2524, 'completion_time': 0.110498587, 'prompt_time': 0.232855809, 'queue_time': 0.04455194, 'total_time': 0.343354396}, 'model_name': 'llama-3.1-8b-instant', 'system_fingerprint': 'fp_7083106d2c', 'service_tier': 'on_demand', 'finish_reason': 'stop', 'logprobs': None}, id='run--9739aa51-c364-45a3-9c22-d9e57c7b0341-0', usage_metadata={'input_tokens': 2454, 'output_tokens': 70, 'total_tokens': 2524})]}"
      ]
     },
     "execution_count": 14,
     "metadata": {},
     "output_type": "execute_result"
    }
   ],
   "source": [
    "from typing import TypedDict, Annotated\n",
    "from langgraph.graph import add_messages, StateGraph, START, END\n",
    "from langchain_core.messages import HumanMessage\n",
    "\n",
    "# Define parent graph with the same schema\n",
    "class ParentState(TypedDict):\n",
    "    messages: Annotated[list, add_messages]\n",
    "\n",
    "# Create parent graph\n",
    "parent_graph = StateGraph(ParentState)\n",
    "\n",
    "# Add the subgraph as a node\n",
    "parent_graph.add_node(\"search_agent\", search_app)\n",
    "\n",
    "# Connect the flow\n",
    "parent_graph.add_edge(START, \"search_agent\")\n",
    "parent_graph.add_edge(\"search_agent\", END)\n",
    "\n",
    "# Compile parent graph\n",
    "parent_app = parent_graph.compile()\n",
    "\n",
    "# Run the parent graph\n",
    "result = parent_app.invoke({\"messages\": [HumanMessage(content=\"How is the weather in kolkata?\")]})\n",
    "result"
   ]
  },
  {
   "cell_type": "markdown",
   "id": "99cce97a",
   "metadata": {},
   "source": [
    "Case 2: Different Schema (Invoke with Transformation)"
   ]
  },
  {
   "cell_type": "code",
   "execution_count": 18,
   "id": "1b0e5a68",
   "metadata": {},
   "outputs": [
    {
     "name": "stdout",
     "output_type": "stream",
     "text": [
      "{'query': 'How is the weather in kolkata today?', 'response': 'The weather in Kolkata today is not explicitly stated in the search results provided. However, a fertilizer shipment is expected to arrive from Kolkata within the next 10 days, suggesting that Kolkata is a port city that is likely to experience good weather at this time of year.\\n\\nTo get a more accurate answer, I would recommend searching for more specific information about the weather in Kolkata. For example, I could try searching for \"Kolkata weather today\" or \"Kolkata weather forecast.\"'}\n"
     ]
    }
   ],
   "source": [
    "from typing import TypedDict, Annotated, Dict\n",
    "from langgraph.graph import StateGraph, START, END\n",
    "from langchain_core.messages import HumanMessage\n",
    "\n",
    "# Define parent graph with different schema\n",
    "class QueryState(TypedDict):\n",
    "    query: str\n",
    "    response: str\n",
    "\n",
    "# Function to invoke subgraph\n",
    "def search_agent(state: QueryState) -> Dict:\n",
    "    # Transform from parent schema to subgraph schema\n",
    "    subgraph_input = {\n",
    "        \"messages\": [HumanMessage(content=state[\"query\"])]\n",
    "    }\n",
    "    \n",
    "    # Invoke the subgraph\n",
    "    subgraph_result = search_app.invoke(subgraph_input)\n",
    "    \n",
    "    # Transform response back to parent schema\n",
    "    assistant_message = subgraph_result[\"messages\"][-1]\n",
    "    return {\"response\": assistant_message.content}\n",
    "\n",
    "# Create parent graph\n",
    "parent_graph = StateGraph(QueryState)\n",
    "\n",
    "# Add transformation node that invokes subgraph\n",
    "parent_graph.add_node(\"search_agent\", search_agent)\n",
    "\n",
    "# Connect the flow\n",
    "parent_graph.add_edge(START, \"search_agent\")\n",
    "parent_graph.add_edge(\"search_agent\", END)\n",
    "\n",
    "# Compile parent graph\n",
    "parent_app = parent_graph.compile()\n",
    "\n",
    "# Run the parent graph\n",
    "result = parent_app.invoke({\"query\": \"How is the weather in kolkata today?\", \"response\": \"\"})\n",
    "print(result)"
   ]
  },
  {
   "cell_type": "code",
   "execution_count": null,
   "id": "a6a971f7",
   "metadata": {},
   "outputs": [],
   "source": []
  }
 ],
 "metadata": {
  "kernelspec": {
   "display_name": "myenv",
   "language": "python",
   "name": "python3"
  },
  "language_info": {
   "codemirror_mode": {
    "name": "ipython",
    "version": 3
   },
   "file_extension": ".py",
   "mimetype": "text/x-python",
   "name": "python",
   "nbconvert_exporter": "python",
   "pygments_lexer": "ipython3",
   "version": "3.10.1"
  }
 },
 "nbformat": 4,
 "nbformat_minor": 5
}
