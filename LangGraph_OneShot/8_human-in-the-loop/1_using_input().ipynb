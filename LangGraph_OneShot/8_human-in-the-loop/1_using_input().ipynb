{
 "cells": [
  {
   "cell_type": "code",
   "execution_count": 1,
   "id": "2d2ffa6d",
   "metadata": {},
   "outputs": [],
   "source": [
    "from typing import TypedDict, Annotated\n",
    "from langchain_core.messages import HumanMessage\n",
    "from langgraph.graph import add_messages, StateGraph, END\n",
    "from langchain_groq import ChatGroq"
   ]
  },
  {
   "cell_type": "code",
   "execution_count": 2,
   "id": "2e4eea96",
   "metadata": {},
   "outputs": [],
   "source": [
    "class State(TypedDict): \n",
    "    messages: Annotated[list, add_messages]"
   ]
  },
  {
   "cell_type": "code",
   "execution_count": 3,
   "id": "bb1026ad",
   "metadata": {},
   "outputs": [],
   "source": [
    "llm = ChatGroq(model=\"llama-3.1-8b-instant\")"
   ]
  },
  {
   "cell_type": "code",
   "execution_count": 4,
   "id": "c5bb46c6",
   "metadata": {},
   "outputs": [],
   "source": [
    "GENERATE_POST = \"generate_post\"\n",
    "GET_REVIEW_DECISION = \"get_review_decision\"\n",
    "POST = \"post\"\n",
    "COLLECT_FEEDBACK = \"collect_feedback\""
   ]
  },
  {
   "cell_type": "code",
   "execution_count": 5,
   "id": "5de891b1",
   "metadata": {},
   "outputs": [],
   "source": [
    "def generate_post(state: State): \n",
    "    return {\n",
    "        \"messages\": [llm.invoke(state[\"messages\"])]\n",
    "    }"
   ]
  },
  {
   "cell_type": "code",
   "execution_count": 6,
   "id": "cc25b259",
   "metadata": {},
   "outputs": [],
   "source": [
    "def get_review_decision(state: State):  \n",
    "    post_content = state[\"messages\"][-1].content \n",
    "    \n",
    "    print(\"\\n📢 Current LinkedIn Post:\\n\")\n",
    "    print(post_content)\n",
    "    print(\"\\n\")\n",
    "\n",
    "    decision = input(\"Post to LinkedIn? (yes/no): \")\n",
    "\n",
    "    if decision.lower() == \"yes\":\n",
    "        return POST\n",
    "    else:\n",
    "        return COLLECT_FEEDBACK"
   ]
  },
  {
   "cell_type": "code",
   "execution_count": 7,
   "id": "1bda74dd",
   "metadata": {},
   "outputs": [],
   "source": [
    "def post(state: State):  \n",
    "    final_post = state[\"messages\"][-1].content  \n",
    "    print(\"\\n📢 Final LinkedIn Post:\\n\")\n",
    "    print(final_post)\n",
    "    print(\"\\n✅ Post has been approved and is now live on LinkedIn!\")"
   ]
  },
  {
   "cell_type": "code",
   "execution_count": 8,
   "id": "69ca7046",
   "metadata": {},
   "outputs": [],
   "source": [
    "def collect_feedback(state: State):  \n",
    "    feedback = input(\"How can I improve this post?\")\n",
    "    return {\n",
    "        \"messages\": [HumanMessage(content=feedback)]\n",
    "    }"
   ]
  },
  {
   "cell_type": "code",
   "execution_count": 16,
   "id": "a3ea9bdc",
   "metadata": {},
   "outputs": [],
   "source": [
    "graph = StateGraph(State)\n",
    "\n",
    "graph.add_node(GENERATE_POST, generate_post)\n",
    "graph.add_node(COLLECT_FEEDBACK, collect_feedback)\n",
    "graph.add_node(POST, post)\n",
    "\n",
    "graph.set_entry_point(GENERATE_POST)\n",
    "\n",
    "graph.add_conditional_edges(GENERATE_POST, get_review_decision,{\n",
    "    POST:POST,\n",
    "    COLLECT_FEEDBACK:COLLECT_FEEDBACK\n",
    "})\n",
    "graph.add_edge(POST, END)\n",
    "graph.add_edge(COLLECT_FEEDBACK, GENERATE_POST)\n",
    "\n",
    "app = graph.compile()"
   ]
  },
  {
   "cell_type": "code",
   "execution_count": 17,
   "id": "da1faaa8",
   "metadata": {},
   "outputs": [
    {
     "data": {
      "image/png": "[encoded data removed]",
      "text/plain": [
       "<langgraph.graph.state.CompiledStateGraph object at 0x000001C68AD4DBD0>"
      ]
     },
     "execution_count": 17,
     "metadata": {},
     "output_type": "execute_result"
    }
   ],
   "source": [
    "app"
   ]
  },
  {
   "cell_type": "code",
   "execution_count": 18,
   "id": "efa3658e",
   "metadata": {},
   "outputs": [
    {
     "name": "stdout",
     "output_type": "stream",
     "text": [
      "\n",
      "📢 Current LinkedIn Post:\n",
      "\n",
      "**The Future of Content Creation: AI Agents Take Center Stage**\n",
      "\n",
      "As we continue to push the boundaries of technology, the lines between human creativity and artificial intelligence are becoming increasingly blurred. The rise of AI agents in content creation is a trend that's hard to ignore, and it's raising more questions than answers.\n",
      "\n",
      "With the ability to generate high-quality content at unprecedented speeds, AI agents are revolutionizing the way we approach content creation. From blog posts and social media updates to videos and podcasts, the possibilities are endless. But what does this mean for human content creators?\n",
      "\n",
      "**The Pros:**\n",
      "\n",
      "- **Increased Efficiency:** AI agents can produce content in a fraction of the time it takes humans, freeing up time for more strategic and high-level tasks.\n",
      "- **Scalability:** AI agents can handle large volumes of content, making them ideal for businesses with a high volume of content to produce.\n",
      "- **Consistency:** AI agents can maintain a consistent tone and style across all content, making it easier to build a strong brand.\n",
      "\n",
      "**The Cons:**\n",
      "\n",
      "- **Lack of Emotional Intelligence:** AI agents lack the emotional intelligence and empathy that makes human content creation so effective.\n",
      "- **Authenticity:** Can AI-generated content truly be authentic, or is it just a clever imitation?\n",
      "- **Job Displacement:** As AI agents take on more content creation tasks, what happens to human content creators?\n",
      "\n",
      "**The Verdict:**\n",
      "\n",
      "While AI agents are certainly changing the content creation landscape, they're not here to replace human creativity entirely. Instead, they're augmenting our capabilities, freeing us up to focus on higher-level tasks that require emotional intelligence, empathy, and creativity.\n",
      "\n",
      "So, what does this mean for you?\n",
      "\n",
      "- **Stay Ahead of the Curve:** Learn to work alongside AI agents and leverage their strengths to enhance your content creation skills.\n",
      "- **Focus on High-Level Tasks:** Use AI agents to handle routine tasks and focus on creating high-quality, emotionally resonant content that sets you apart.\n",
      "- **Emphasize Your Unique Value:** Highlight what makes you unique as a content creator and focus on developing skills that AI agents can't replicate.\n",
      "\n",
      "The future of content creation is bright, and AI agents are here to stay. But it's up to us to adapt and evolve, leveraging these tools to create content that resonates with audiences on a deeper level.\n",
      "\n",
      "**What are your thoughts on AI agents in content creation? Share your experiences and insights in the comments below!**\n",
      "\n",
      "#ContentCreation #AI #DigitalMarketing #FutureOfWork #CreativeAgency #ContentMarketing\n",
      "\n",
      "\n",
      "\n",
      "📢 Current LinkedIn Post:\n",
      "\n",
      "**The Rise of AI in Content Creation**\n",
      "\n",
      "As technology continues to evolve, AI is becoming increasingly integrated into content creation. This shift raises questions about the role of human content creators.\n",
      "\n",
      "**Benefits of AI in Content Creation:**\n",
      "\n",
      "- **Increased Efficiency:** AI can help speed up content production.\n",
      "- **Scalability:** AI can handle high volumes of content.\n",
      "\n",
      "**What does this mean for human content creators?**\n",
      "\n",
      "- **Focus on High-Level Tasks:** AI can help with routine tasks, freeing up time for more strategic and creative work.\n",
      "\n",
      "**My Take:**\n",
      "\n",
      "While AI is changing the content creation landscape, it's not here to replace human creativity entirely. It's about finding a balance and leveraging AI to enhance our capabilities.\n",
      "\n",
      "**What are your thoughts on AI in content creation? Share your thoughts in the comments below!**\n",
      "\n",
      "#ContentCreation #AI #DigitalMarketing #FutureOfWork\n",
      "\n",
      "\n",
      "\n",
      "📢 Final LinkedIn Post:\n",
      "\n",
      "**The Rise of AI in Content Creation**\n",
      "\n",
      "As technology continues to evolve, AI is becoming increasingly integrated into content creation. This shift raises questions about the role of human content creators.\n",
      "\n",
      "**Benefits of AI in Content Creation:**\n",
      "\n",
      "- **Increased Efficiency:** AI can help speed up content production.\n",
      "- **Scalability:** AI can handle high volumes of content.\n",
      "\n",
      "**What does this mean for human content creators?**\n",
      "\n",
      "- **Focus on High-Level Tasks:** AI can help with routine tasks, freeing up time for more strategic and creative work.\n",
      "\n",
      "**My Take:**\n",
      "\n",
      "While AI is changing the content creation landscape, it's not here to replace human creativity entirely. It's about finding a balance and leveraging AI to enhance our capabilities.\n",
      "\n",
      "**What are your thoughts on AI in content creation? Share your thoughts in the comments below!**\n",
      "\n",
      "#ContentCreation #AI #DigitalMarketing #FutureOfWork\n",
      "\n",
      "✅ Post has been approved and is now live on LinkedIn!\n",
      "{'messages': [HumanMessage(content='Write me a LinkedIn post on AI Agents taking over content creation', additional_kwargs={}, response_metadata={}, id='8432a30a-3127-4af5-b8fe-ade26d533fdf'), AIMessage(content=\"**The Future of Content Creation: AI Agents Take Center Stage**\\n\\nAs we continue to push the boundaries of technology, the lines between human creativity and artificial intelligence are becoming increasingly blurred. The rise of AI agents in content creation is a trend that's hard to ignore, and it's raising more questions than answers.\\n\\nWith the ability to generate high-quality content at unprecedented speeds, AI agents are revolutionizing the way we approach content creation. From blog posts and social media updates to videos and podcasts, the possibilities are endless. But what does this mean for human content creators?\\n\\n**The Pros:**\\n\\n- **Increased Efficiency:** AI agents can produce content in a fraction of the time it takes humans, freeing up time for more strategic and high-level tasks.\\n- **Scalability:** AI agents can handle large volumes of content, making them ideal for businesses with a high volume of content to produce.\\n- **Consistency:** AI agents can maintain a consistent tone and style across all content, making it easier to build a strong brand.\\n\\n**The Cons:**\\n\\n- **Lack of Emotional Intelligence:** AI agents lack the emotional intelligence and empathy that makes human content creation so effective.\\n- **Authenticity:** Can AI-generated content truly be authentic, or is it just a clever imitation?\\n- **Job Displacement:** As AI agents take on more content creation tasks, what happens to human content creators?\\n\\n**The Verdict:**\\n\\nWhile AI agents are certainly changing the content creation landscape, they're not here to replace human creativity entirely. Instead, they're augmenting our capabilities, freeing us up to focus on higher-level tasks that require emotional intelligence, empathy, and creativity.\\n\\nSo, what does this mean for you?\\n\\n- **Stay Ahead of the Curve:** Learn to work alongside AI agents and leverage their strengths to enhance your content creation skills.\\n- **Focus on High-Level Tasks:** Use AI agents to handle routine tasks and focus on creating high-quality, emotionally resonant content that sets you apart.\\n- **Emphasize Your Unique Value:** Highlight what makes you unique as a content creator and focus on developing skills that AI agents can't replicate.\\n\\nThe future of content creation is bright, and AI agents are here to stay. But it's up to us to adapt and evolve, leveraging these tools to create content that resonates with audiences on a deeper level.\\n\\n**What are your thoughts on AI agents in content creation? Share your experiences and insights in the comments below!**\\n\\n#ContentCreation #AI #DigitalMarketing #FutureOfWork #CreativeAgency #ContentMarketing\", additional_kwargs={}, response_metadata={'token_usage': {'completion_tokens': 513, 'prompt_tokens': 47, 'total_tokens': 560, 'completion_time': 0.70733539, 'prompt_time': 0.002369623, 'queue_time': 0.049878447, 'total_time': 0.709705013}, 'model_name': 'llama-3.1-8b-instant', 'system_fingerprint': 'fp_c523237e5d', 'service_tier': 'on_demand', 'finish_reason': 'stop', 'logprobs': None}, id='run--41983e3b-5f11-4658-9c45-042e7d5be8d3-0', usage_metadata={'input_tokens': 47, 'output_tokens': 513, 'total_tokens': 560}), HumanMessage(content='dont exegerate things keep it simle', additional_kwargs={}, response_metadata={}, id='26d74899-aae9-4c66-abe6-41283d2fa852'), AIMessage(content=\"**The Rise of AI in Content Creation**\\n\\nAs technology continues to evolve, AI is becoming increasingly integrated into content creation. This shift raises questions about the role of human content creators.\\n\\n**Benefits of AI in Content Creation:**\\n\\n- **Increased Efficiency:** AI can help speed up content production.\\n- **Scalability:** AI can handle high volumes of content.\\n\\n**What does this mean for human content creators?**\\n\\n- **Focus on High-Level Tasks:** AI can help with routine tasks, freeing up time for more strategic and creative work.\\n\\n**My Take:**\\n\\nWhile AI is changing the content creation landscape, it's not here to replace human creativity entirely. It's about finding a balance and leveraging AI to enhance our capabilities.\\n\\n**What are your thoughts on AI in content creation? Share your thoughts in the comments below!**\\n\\n#ContentCreation #AI #DigitalMarketing #FutureOfWork\", additional_kwargs={}, response_metadata={'token_usage': {'completion_tokens': 178, 'prompt_tokens': 578, 'total_tokens': 756, 'completion_time': 0.26428595, 'prompt_time': 0.034219142, 'queue_time': 0.049528868, 'total_time': 0.298505092}, 'model_name': 'llama-3.1-8b-instant', 'system_fingerprint': 'fp_c523237e5d', 'service_tier': 'on_demand', 'finish_reason': 'stop', 'logprobs': None}, id='run--b6a0139e-3e63-48f2-b502-9ad503d62a32-0', usage_metadata={'input_tokens': 578, 'output_tokens': 178, 'total_tokens': 756})]}\n"
     ]
    }
   ],
   "source": [
    "response = app.invoke({\n",
    "    \"messages\": [HumanMessage(content=\"Write me a LinkedIn post on AI Agents taking over content creation\")]\n",
    "})\n",
    "\n",
    "print(response)"
   ]
  },
  {
   "cell_type": "code",
   "execution_count": null,
   "id": "d75c9a04",
   "metadata": {},
   "outputs": [],
   "source": []
  }
 ],
 "metadata": {
  "kernelspec": {
   "display_name": "myenv",
   "language": "python",
   "name": "python3"
  },
  "language_info": {
   "codemirror_mode": {
    "name": "ipython",
    "version": 3
   },
   "file_extension": ".py",
   "mimetype": "text/x-python",
   "name": "python",
   "nbconvert_exporter": "python",
   "pygments_lexer": "ipython3",
   "version": "3.10.1"
  }
 },
 "nbformat": 4,
 "nbformat_minor": 5
}
