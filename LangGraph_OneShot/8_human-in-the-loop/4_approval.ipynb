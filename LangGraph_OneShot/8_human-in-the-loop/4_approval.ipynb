{
 "cells": [
  {
   "cell_type": "code",
   "execution_count": 26,
   "id": "16dd556b",
   "metadata": {},
   "outputs": [],
   "source": [
    "from langgraph.graph import StateGraph, START, END, add_messages\n",
    "from typing import TypedDict, Annotated, List\n",
    "from langgraph.checkpoint.memory import MemorySaver\n",
    "from langchain_groq import ChatGroq\n",
    "from langchain_tavily import TavilySearch\n",
    "from langgraph.prebuilt import ToolNode\n",
    "from langchain_core.messages import HumanMessage"
   ]
  },
  {
   "cell_type": "code",
   "execution_count": 27,
   "id": "669ec757",
   "metadata": {},
   "outputs": [],
   "source": [
    "memory = MemorySaver()\n",
    "\n",
    "search_tool = TavilySearch(max_results=2)\n",
    "tools = [search_tool]\n",
    "\n",
    "llm = ChatGroq(model=\"llama-3.1-8b-instant\")\n",
    "llm_with_tools = llm.bind_tools(tools=tools)"
   ]
  },
  {
   "cell_type": "code",
   "execution_count": 28,
   "id": "678fbc5a",
   "metadata": {},
   "outputs": [],
   "source": [
    "class BasicState(TypedDict): \n",
    "    messages: Annotated[List, add_messages]"
   ]
  },
  {
   "cell_type": "code",
   "execution_count": 29,
   "id": "2a6b0533",
   "metadata": {},
   "outputs": [],
   "source": [
    "def model(state: BasicState): \n",
    "    return {\n",
    "        \"messages\": [llm_with_tools.invoke(state[\"messages\"])]\n",
    "    }"
   ]
  },
  {
   "cell_type": "code",
   "execution_count": 30,
   "id": "1bc6b0bb",
   "metadata": {},
   "outputs": [],
   "source": [
    "def tools_router(state: BasicState): \n",
    "    last_message = state[\"messages\"][-1]\n",
    "    if(hasattr(last_message, \"tool_calls\") and \n",
    "    len(last_message.tool_calls) > 0):\n",
    "        return \"tools\"\n",
    "    else: \n",
    "        return \"stop\""
   ]
  },
  {
   "cell_type": "code",
   "execution_count": 31,
   "id": "0110d60b",
   "metadata": {},
   "outputs": [],
   "source": [
    "graph = StateGraph(BasicState)\n",
    "graph.add_node(model, \"model\")\n",
    "graph.add_node(\"tools\", ToolNode(tools=tools))\n",
    "\n",
    "graph.set_entry_point(\"model\")\n",
    "graph.add_conditional_edges(\"model\", tools_router,{\n",
    "    \"tools\":\"tools\",\n",
    "    \"stop\":END\n",
    "})\n",
    "\n",
    "graph.add_edge(\"tools\", \"model\")\n",
    "\n",
    "app = graph.compile(checkpointer=memory, interrupt_before=[\"tools\"])"
   ]
  },
  {
   "cell_type": "code",
   "execution_count": 32,
   "id": "8d14e47b",
   "metadata": {},
   "outputs": [
    {
     "data": {
      "image/png": "[encoded data removed]",
      "text/plain": [
       "<IPython.core.display.Image object>"
      ]
     },
     "metadata": {},
     "output_type": "display_data"
    }
   ],
   "source": [
    "from IPython.display import Image, display\n",
    "\n",
    "display(Image(app.get_graph().draw_mermaid_png()))"
   ]
  },
  {
   "cell_type": "code",
   "execution_count": 37,
   "id": "c7a63c58",
   "metadata": {},
   "outputs": [
    {
     "name": "stdout",
     "output_type": "stream",
     "text": [
      "{'messages': [HumanMessage(content='What is the current weather in Kolkata?', additional_kwargs={}, response_metadata={}, id='2a53eff1-732a-45f3-ae3e-5d6b7239d5d5'), HumanMessage(content='What is the current weather in Kolkata?', additional_kwargs={}, response_metadata={}, id='36fd7a41-bbd0-42a1-bca4-0cbed470e3dc'), AIMessage(content='', additional_kwargs={'tool_calls': [{'index': 0, 'id': 'hy1m4c27f', 'function': {'arguments': '{\"include_favicon\":true,\"include_images\":true,\"query\":\"Current weather in Kolkata\",\"search_depth\":\"advanced\",\"topic\":\"news\"}', 'name': 'tavily_search'}, 'type': 'function'}]}, response_metadata={'finish_reason': 'tool_calls', 'model_name': 'llama-3.1-8b-instant', 'system_fingerprint': 'fp_2115512ff6', 'service_tier': 'on_demand'}, id='run--f18dca10-56d4-42a5-8270-9c8cf5e5a954', tool_calls=[{'name': 'tavily_search', 'args': {'include_favicon': True, 'include_images': True, 'query': 'Current weather in Kolkata', 'search_depth': 'advanced', 'topic': 'news'}, 'id': 'hy1m4c27f', 'type': 'tool_call'}], usage_metadata={'input_tokens': 1807, 'output_tokens': 44, 'total_tokens': 1851}), HumanMessage(content='What is the current weather in Kolkata?', additional_kwargs={}, response_metadata={}, id='c3182ca6-2917-4b6f-8761-6459100d3b1b'), HumanMessage(content='What is the current weather in Kolkata?', additional_kwargs={}, response_metadata={}, id='a40ea5d7-d663-4f8d-a31d-a9f5e20738e5')]}\n",
      "messages\n",
      "{'messages': [HumanMessage(content='What is the current weather in Kolkata?', additional_kwargs={}, response_metadata={}, id='2a53eff1-732a-45f3-ae3e-5d6b7239d5d5'), HumanMessage(content='What is the current weather in Kolkata?', additional_kwargs={}, response_metadata={}, id='36fd7a41-bbd0-42a1-bca4-0cbed470e3dc'), AIMessage(content='', additional_kwargs={'tool_calls': [{'index': 0, 'id': 'hy1m4c27f', 'function': {'arguments': '{\"include_favicon\":true,\"include_images\":true,\"query\":\"Current weather in Kolkata\",\"search_depth\":\"advanced\",\"topic\":\"news\"}', 'name': 'tavily_search'}, 'type': 'function'}]}, response_metadata={'finish_reason': 'tool_calls', 'model_name': 'llama-3.1-8b-instant', 'system_fingerprint': 'fp_2115512ff6', 'service_tier': 'on_demand'}, id='run--f18dca10-56d4-42a5-8270-9c8cf5e5a954', tool_calls=[{'name': 'tavily_search', 'args': {'include_favicon': True, 'include_images': True, 'query': 'Current weather in Kolkata', 'search_depth': 'advanced', 'topic': 'news'}, 'id': 'hy1m4c27f', 'type': 'tool_call'}], usage_metadata={'input_tokens': 1807, 'output_tokens': 44, 'total_tokens': 1851}), HumanMessage(content='What is the current weather in Kolkata?', additional_kwargs={}, response_metadata={}, id='c3182ca6-2917-4b6f-8761-6459100d3b1b'), HumanMessage(content='What is the current weather in Kolkata?', additional_kwargs={}, response_metadata={}, id='a40ea5d7-d663-4f8d-a31d-a9f5e20738e5'), AIMessage(content='', additional_kwargs={'tool_calls': [{'id': 'daf0c7v2d', 'function': {'arguments': '{\"exclude_domains\":[\"weather.com\"],\"include_favicon\":false,\"include_images\":true,\"query\":\"Current weather in Kolkata\",\"search_depth\":\"advanced\",\"topic\":\"news\"}', 'name': 'tavily_search'}, 'type': 'function'}]}, response_metadata={'token_usage': {'completion_tokens': 53, 'prompt_tokens': 1882, 'total_tokens': 1935, 'completion_time': 0.049959067, 'prompt_time': 0.139791193, 'queue_time': 0.048045257, 'total_time': 0.18975026}, 'model_name': 'llama-3.1-8b-instant', 'system_fingerprint': 'fp_2115512ff6', 'service_tier': 'on_demand', 'finish_reason': 'tool_calls', 'logprobs': None}, id='run--b912037e-44c8-4061-8a41-a138bb1722fe-0', tool_calls=[{'name': 'tavily_search', 'args': {'exclude_domains': ['weather.com'], 'include_favicon': False, 'include_images': True, 'query': 'Current weather in Kolkata', 'search_depth': 'advanced', 'topic': 'news'}, 'id': 'daf0c7v2d', 'type': 'tool_call'}], usage_metadata={'input_tokens': 1882, 'output_tokens': 53, 'total_tokens': 1935})]}\n",
      "messages\n"
     ]
    }
   ],
   "source": [
    "config = {\"configurable\": {\n",
    "    \"thread_id\": 3\n",
    "}}\n",
    "\n",
    "events = app.stream({\n",
    "    \"messages\": [HumanMessage(content=\"What is the current weather in Kolkata?\")]\n",
    "}, config=config, stream_mode=\"values\")\n",
    "\n",
    "for event in events:\n",
    "    # event[\"messages\"][-1].pretty_print()\n",
    "    print(event)\n",
    "    for node_id, value in event.items():\n",
    "        print(node_id)"
   ]
  },
  {
   "cell_type": "code",
   "execution_count": 21,
   "id": "cbf5099b",
   "metadata": {},
   "outputs": [
    {
     "data": {
      "text/plain": [
       "('tools',)"
      ]
     },
     "execution_count": 21,
     "metadata": {},
     "output_type": "execute_result"
    }
   ],
   "source": [
    "snapshot = app.get_state(config=config)\n",
    "snapshot.next"
   ]
  },
  {
   "cell_type": "code",
   "execution_count": 38,
   "id": "5709b779",
   "metadata": {},
   "outputs": [
    {
     "name": "stdout",
     "output_type": "stream",
     "text": [
      "==================================\u001b[1m Ai Message \u001b[0m==================================\n",
      "Tool Calls:\n",
      "  tavily_search (daf0c7v2d)\n",
      " Call ID: daf0c7v2d\n",
      "  Args:\n",
      "    exclude_domains: ['weather.com']\n",
      "    include_favicon: False\n",
      "    include_images: True\n",
      "    query: Current weather in Kolkata\n",
      "    search_depth: advanced\n",
      "    topic: news\n",
      "=================================\u001b[1m Tool Message \u001b[0m=================================\n",
      "Name: tavily_search\n",
      "\n",
      "{\"query\": \"Current weather in Kolkata\", \"follow_up_questions\": null, \"answer\": null, \"images\": [\"https://static.tnn.in/photo/msid-109103461/109103461.jpg\", \"https://localharyana.com/wp-content/uploads/2024/09/Kolkata-Weather-Update.jpg\", \"https://imgeng.jagran.com/images/2023/sep/rain+(2)1695539654858.jpg\", \"https://static.tnn.in/thumb/msid-110815777,thumbsize-36522,width-1280,height-720,resizemode-75/110815777.jpg\", \"https://www.timeanddate.com/scripts/cityog.php?title=14-Day+Weather+Forecast+for&tint=0x007b7a&city=Kolkata&state=West+Bengal&country=India&image=kolkata1\"], \"results\": [{\"url\": \"https://www.cbsnews.com/philadelphia/video/two-toed-sloth-born-at-elmwood-park-zoo-in-norristown/\", \"title\": \"Two-toed sloth born at Elmwood Park Zoo in Norristown - CBS News\", \"score\": 0.078367025, \"published_date\": \"Thu, 28 Aug 2025 23:43:00 GMT\", \"content\": \"01:0411h ago### NextGen Acela begins service, Frontier to offer direct flights from PHL to Houston | Digital Brief\\n\\n02:3311h ago### Decreasing clouds on Thursday; sunny weather and cool nights continue through Labor Day weekend\\n\\n03:3712h ago### Donna Kelce reacts to engagement, Naomi Osaka turns heads with US Open outfit | What's Trending\\n\\n02:3412h ago### Cause of Chester, Pennsylvania fire under investigation after 3 homes, multiple cars damaged\", \"raw_content\": null}, {\"url\": \"https://www.cbsnews.com/philadelphia/video/first-nextgen-acela-trains-pull-into-30th-street-station-in-philadelphia/\", \"title\": \"First NextGen Acela trains pull into 30th Street Station in Philadelphia - CBS News\", \"score\": 0.077190235, \"published_date\": \"Thu, 28 Aug 2025 13:29:00 GMT\", \"content\": \"AndroidAndroid TVApple TVFire TabletFire TViOSLG TVPluto TVRokuSamsung TVVizio TVXbox OneXumo\\n\\n## Sports\\n\\n### Horse named Big Dom in honor of Philadelphia Eagles' security chief wins first race\\n\\n01:2619h ago### Former Philadelphia Eagles GM Jim Murray remembered for his kindness and work in the community\\n\\n02:23Aug 26, 2025### What is thoracic outlet syndrome? Doctor explains Phillies ace Zack Wheeler's condition, surgery\", \"raw_content\": null}], \"response_time\": 1.59, \"request_id\": \"e66a9ca6-1812-461d-a575-999ea3f300bd\"}\n",
      "==================================\u001b[1m Ai Message \u001b[0m==================================\n",
      "Tool Calls:\n",
      "  tavily_search (pn3ga1qet)\n",
      " Call ID: pn3ga1qet\n",
      "  Args:\n",
      "    exclude_domains: ['cbsnews.com', 'localharyana.com']\n",
      "    include_favicon: False\n",
      "    include_images: True\n",
      "    query: Current weather in Kolkata\n",
      "    search_depth: advanced\n",
      "    topic: news\n"
     ]
    }
   ],
   "source": [
    "events = app.stream(None, config, stream_mode=\"values\")\n",
    "for event in events:\n",
    "    event[\"messages\"][-1].pretty_print()"
   ]
  },
  {
   "cell_type": "code",
   "execution_count": 39,
   "id": "b1551dcf",
   "metadata": {},
   "outputs": [],
   "source": [
    "for even in events:\n",
    "    print(event)"
   ]
  },
  {
   "cell_type": "code",
   "execution_count": null,
   "id": "e42ea2c8",
   "metadata": {},
   "outputs": [],
   "source": []
  }
 ],
 "metadata": {
  "kernelspec": {
   "display_name": "myenv",
   "language": "python",
   "name": "python3"
  },
  "language_info": {
   "codemirror_mode": {
    "name": "ipython",
    "version": 3
   },
   "file_extension": ".py",
   "mimetype": "text/x-python",
   "name": "python",
   "nbconvert_exporter": "python",
   "pygments_lexer": "ipython3",
   "version": "3.10.1"
  }
 },
 "nbformat": 4,
 "nbformat_minor": 5
}
