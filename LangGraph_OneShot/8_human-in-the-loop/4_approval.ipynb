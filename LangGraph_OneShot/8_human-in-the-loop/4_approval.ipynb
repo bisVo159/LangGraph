{
 "cells": [
  {
   "cell_type": "code",
   "execution_count": 1,
   "id": "16dd556b",
   "metadata": {},
   "outputs": [],
   "source": [
    "from langgraph.graph import StateGraph, START, END, add_messages\n",
    "from typing import TypedDict, Annotated, List\n",
    "from langgraph.checkpoint.memory import MemorySaver\n",
    "from langchain_groq import ChatGroq\n",
    "from langchain_tavily import TavilySearch\n",
    "from langgraph.prebuilt import ToolNode\n",
    "from langchain_core.messages import HumanMessage"
   ]
  },
  {
   "cell_type": "code",
   "execution_count": 2,
   "id": "669ec757",
   "metadata": {},
   "outputs": [],
   "source": [
    "memory = MemorySaver()\n",
    "\n",
    "search_tool = TavilySearch(max_results=2)\n",
    "tools = [search_tool]\n",
    "\n",
    "llm = ChatGroq(model=\"llama-3.1-8b-instant\")\n",
    "llm_with_tools = llm.bind_tools(tools=tools)"
   ]
  },
  {
   "cell_type": "code",
   "execution_count": 3,
   "id": "678fbc5a",
   "metadata": {},
   "outputs": [],
   "source": [
    "class BasicState(TypedDict): \n",
    "    messages: Annotated[List, add_messages]"
   ]
  },
  {
   "cell_type": "code",
   "execution_count": 4,
   "id": "2a6b0533",
   "metadata": {},
   "outputs": [],
   "source": [
    "def model(state: BasicState): \n",
    "    return {\n",
    "        \"messages\": [llm_with_tools.invoke(state[\"messages\"])]\n",
    "    }"
   ]
  },
  {
   "cell_type": "code",
   "execution_count": 5,
   "id": "1bc6b0bb",
   "metadata": {},
   "outputs": [],
   "source": [
    "def tools_router(state: BasicState): \n",
    "    last_message = state[\"messages\"][-1]\n",
    "    if(hasattr(last_message, \"tool_calls\") and \n",
    "    len(last_message.tool_calls) > 0):\n",
    "        return \"tools\"\n",
    "    else: \n",
    "        return \"stop\""
   ]
  },
  {
   "cell_type": "code",
   "execution_count": 6,
   "id": "0110d60b",
   "metadata": {},
   "outputs": [],
   "source": [
    "graph = StateGraph(BasicState)\n",
    "graph.add_node(model, \"model\")\n",
    "graph.add_node(\"tools\", ToolNode(tools=tools))\n",
    "\n",
    "graph.set_entry_point(\"model\")\n",
    "graph.add_conditional_edges(\"model\", tools_router,{\n",
    "    \"tools\":\"tools\",\n",
    "    \"stop\":END\n",
    "})\n",
    "\n",
    "graph.add_edge(\"tools\", \"model\")\n",
    "\n",
    "app = graph.compile(checkpointer=memory, interrupt_before=[\"tools\"])"
   ]
  },
  {
   "cell_type": "code",
   "execution_count": 7,
   "id": "8d14e47b",
   "metadata": {},
   "outputs": [
    {
     "data": {
      "image/png": "[encoded data removed]",
      "text/plain": [
       "<IPython.core.display.Image object>"
      ]
     },
     "metadata": {},
     "output_type": "display_data"
    }
   ],
   "source": [
    "from IPython.display import Image, display\n",
    "\n",
    "display(Image(app.get_graph().draw_mermaid_png()))"
   ]
  },
  {
   "cell_type": "code",
   "execution_count": 8,
   "id": "c7a63c58",
   "metadata": {},
   "outputs": [
    {
     "name": "stdout",
     "output_type": "stream",
     "text": [
      "{'messages': [HumanMessage(content='What is the current weather in Kolkata?', additional_kwargs={}, response_metadata={}, id='6149262a-064a-4bbb-bbd3-8542f6351997')]}\n",
      "messages\n",
      "{'messages': [HumanMessage(content='What is the current weather in Kolkata?', additional_kwargs={}, response_metadata={}, id='6149262a-064a-4bbb-bbd3-8542f6351997'), AIMessage(content='', additional_kwargs={'tool_calls': [{'id': 'wgq2trba8', 'function': {'arguments': '{\"query\":\"Current weather in Kolkata\",\"search_depth\":\"advanced\",\"time_range\":\"day\",\"topic\":\"general\"}', 'name': 'tavily_search'}, 'type': 'function'}]}, response_metadata={'token_usage': {'completion_tokens': 39, 'prompt_tokens': 1794, 'total_tokens': 1833, 'completion_time': 0.075484171, 'prompt_time': 0.120235465, 'queue_time': 1.4068246960000002, 'total_time': 0.195719636}, 'model_name': 'llama-3.1-8b-instant', 'system_fingerprint': 'fp_c523237e5d', 'service_tier': 'on_demand', 'finish_reason': 'tool_calls', 'logprobs': None}, id='run--cfc7eb6d-99cf-42db-be90-afc41635bd6d-0', tool_calls=[{'name': 'tavily_search', 'args': {'query': 'Current weather in Kolkata', 'search_depth': 'advanced', 'time_range': 'day', 'topic': 'general'}, 'id': 'wgq2trba8', 'type': 'tool_call'}], usage_metadata={'input_tokens': 1794, 'output_tokens': 39, 'total_tokens': 1833})]}\n",
      "messages\n"
     ]
    }
   ],
   "source": [
    "config = {\"configurable\": {\n",
    "    \"thread_id\": 1\n",
    "}}\n",
    "\n",
    "events = app.stream({\n",
    "    \"messages\": [HumanMessage(content=\"What is the current weather in Kolkata?\")]\n",
    "}, config=config, stream_mode=\"values\")\n",
    "\n",
    "for event in events:\n",
    "    # event[\"messages\"][-1].pretty_print()\n",
    "    print(event)\n",
    "    for node_id, value in event.items():\n",
    "        print(node_id)"
   ]
  },
  {
   "cell_type": "code",
   "execution_count": 10,
   "id": "cbf5099b",
   "metadata": {},
   "outputs": [
    {
     "data": {
      "text/plain": [
       "('tools',)"
      ]
     },
     "execution_count": 10,
     "metadata": {},
     "output_type": "execute_result"
    }
   ],
   "source": [
    "snapshot = app.get_state(config=config)\n",
    "snapshot.next"
   ]
  },
  {
   "cell_type": "code",
   "execution_count": 11,
   "id": "5709b779",
   "metadata": {},
   "outputs": [
    {
     "name": "stdout",
     "output_type": "stream",
     "text": [
      "==================================\u001b[1m Ai Message \u001b[0m==================================\n",
      "Tool Calls:\n",
      "  tavily_search (wbt76e9dz)\n",
      " Call ID: wbt76e9dz\n",
      "  Args:\n",
      "    end_date: None\n",
      "    exclude_domains: None\n",
      "    include_domains: None\n",
      "    include_favicon: True\n",
      "    include_images: True\n",
      "    query: Current weather in Kolkata today\n",
      "    search_depth: advanced\n",
      "    start_date: None\n",
      "    time_range: day\n",
      "    topic: general\n",
      "=================================\u001b[1m Tool Message \u001b[0m=================================\n",
      "Name: tavily_search\n",
      "\n",
      "{\"query\": \"Current weather in Kolkata today\", \"follow_up_questions\": null, \"answer\": null, \"images\": [\"https://www.financialexpress.com/wp-content/uploads/2025/03/Kolkata-Weather-IPL-2025.jpg?w=620\", \"https://www.sangbadpratidin.in/wp-content/uploads/2024/07/21st-july_weather.jpg\", \"https://static.tnn.in/thumb/msid-112303014,thumbsize-1545380,width-1280,height-720,resizemode-75/112303014.jpg\", \"https://static.tnn.in/thumb/msid-110815777,thumbsize-36522,width-1280,height-720,resizemode-75/110815777.jpg\", \"https://4.bp.blogspot.com/-UngS_5kKJvI/WlJOg27W8vI/AAAAAAAAAx4/SFLUuRRdzDYLujAt3NQmxriLd0h3V_uKwCLcBGAs/s1600/india+max.jpg\"], \"results\": [{\"url\": \"https://www.timeanddate.com/weather/india/kolkata\", \"title\": \"Weather for Kolkata, West Bengal, India - Time and Date\", \"content\": \"timeanddate.com\\nFlag for India\\n\\n# Weather in Kolkata, West Bengal, India\\n\\nBroken clouds.\\n\\nFeels Like: 105 °F  \\nForecast: 92 / 82 °F  \\nWind: No wind\\n\\n|  |  |\\n| --- | --- |\\n| Location: | Calcutta / Dum Dum |\\n| Current Time: | Jul 21, 2025 at 10:29:44 am |\\n| Latest Report: | Jul 21, 2025 at 10:00 am |\\n| Visibility: | 2 mi |\\n| Pressure: | 29.59 \\\"Hg |\\n| Humidity: | 71% |\\n| Dew Point: | 79 °F |\\n\\nLocation of Kolkata\\nLocation\\n\\n## Upcoming 5 hours [...] | Amount of Rain | 0.01\\\" | 0.03\\\" | 0.02\\\" | 0.00\\\" | 0.01\\\" | 0.02\\\" | 0.02\\\" |\\n| Amount of Snow | 0.00\\\" | 0.00\\\" | 0.00\\\" | 0.00\\\" | 0.00\\\" | 0.00\\\" | 0.00\\\" |\\n|  |  |  |  |  |  |  |  |\\n| --- | --- | --- | --- | --- | --- | --- | --- |\\n| \\\\ Updated Monday, July 21, 2025 7:12:31 am Kolkata time - Weather by CustomWeather, © 2025 | | | | | | | | [...] | Feels Like | 102 °F | 106 °F | 98 °F | 95 °F | 106 °F | 108 °F | 100 °F |\\n| Wind Speed | 4 mph | 4 mph | 9 mph | 6 mph | 6 mph | 6 mph | 10 mph |\\n| Wind Direction | ESE ↑ | S ↑ | S ↑ | SSW ↑ | S ↑ | S ↑ | S ↑ |\\n| Humidity | 75% | 70% | 83% | 87% | 73% | 69% | 83% |\\n| Dew Point | 79 °F | 79 °F | 79 °F | 79 °F | 80 °F | 79 °F | 80 °F |\\n| Visibility | 6 mi | 8 mi | 8 mi | 6 mi | 6 mi | 7 mi | 7 mi |\\n| Probability of Precipitation | 10% | 47% | 28% | 0% | 10% | 28% | 30% |\", \"score\": 0.9496742, \"raw_content\": null, \"favicon\": \"https://c.tadst.com/favicon-48x48.png\"}, {\"url\": \"https://www.ventusky.com/kolkata\", \"title\": \"Kolkata - Weather Forecast Maps - Ventusky\", \"content\": \"# Ventusky: Weather Forecast Maps\\n\\nHail\\n\\n# Kolkata\\n\\n|  |  |\\n| --- | --- |\\n| overcast | 32 °C |\\n|  |\\n| Wind  0 km/h |\\n\\novercast\\n\\n|  |  |\\n| --- | --- |\\n| Humidity | 71 % |\\n| Visibility | 3 km |\\n| Clouds | 80 % |\\n| Cloud base | 548 m |\\n\\nWeather report from station Calcutta/dum Dum, Distance: 10 km (10:00 2025/07/21)\\n\\n## Weather for the next 24 hours [...] | 02:00 | 05:00 | 08:00 | 11:00 | 14:00 | 17:00 | 20:00 | 23:00 |\\n| --- | --- | --- | --- | --- | --- | --- | --- |\\n| mostly cloudy 27 °C 0 mm 10 %  S  3 km/h | mostly cloudy 27 °C 0 mm 10 %  SE  1 km/h | clear sky with few clouds 30 °C 0 mm 20 %  S  3 km/h | mostly cloudy 33 °C 0 mm 20 %  S  5 km/h | overcast 34 °C 0 mm 30 %  E  3 km/h | overcast 31 °C 0.1 mm 70 %  S  5 km/h | mixed with rain showers 29 °C 0.6 mm 70 %  S  3 km/h | mostly cloudy 28 °C 0 mm 10 %  S  3 km/h | [...] | overcast 32 °C 0 mm 40 %  SE  4 km/h | overcast 33 °C 0 mm 40 %  E  5 km/h | overcast 33 °C 0.1 mm 70 %  E  5 km/h | overcast 33 °C 0.1 mm 80 %  SE  6 km/h | overcast 33 °C 0.1 mm 80 %  SE  6 km/h | mixed with rain showers 32 °C 0.6 mm 90 %  SE  7 km/h | rain, thunderstorms likely 31 °C 1 mm 90 %  SE  6 km/h | rain, thunderstorms likely 30 °C 1 mm 90 %  S  7 km/h | overcast 30 °C 0.1 mm 90 %  S  7 km/h | overcast 29 °C 0 mm 30 %  S  5 km/h | mostly cloudy 29 °C 0 mm 10 %  S  3 km/h | mostly\", \"score\": 0.8732259, \"raw_content\": null, \"favicon\": \"https://cdnstatic.ventusky.com/images_v2/favicon.ico\"}], \"response_time\": 5.57}\n",
      "==================================\u001b[1m Ai Message \u001b[0m==================================\n",
      "\n",
      "The current weather in Kolkata is mostly cloudy with a temperature of 32°C. The wind speed is 0 km/h, and the humidity is 71%. There is a possibility of rain and thunderstorms later in the day.\n"
     ]
    }
   ],
   "source": [
    "events = app.stream(None, config, stream_mode=\"values\")\n",
    "for event in events:\n",
    "    event[\"messages\"][-1].pretty_print()"
   ]
  },
  {
   "cell_type": "code",
   "execution_count": 14,
   "id": "b1551dcf",
   "metadata": {},
   "outputs": [],
   "source": [
    "for even in events:\n",
    "    print(event)"
   ]
  },
  {
   "cell_type": "code",
   "execution_count": null,
   "id": "e42ea2c8",
   "metadata": {},
   "outputs": [],
   "source": []
  }
 ],
 "metadata": {
  "kernelspec": {
   "display_name": "myenv",
   "language": "python",
   "name": "python3"
  },
  "language_info": {
   "codemirror_mode": {
    "name": "ipython",
    "version": 3
   },
   "file_extension": ".py",
   "mimetype": "text/x-python",
   "name": "python",
   "nbconvert_exporter": "python",
   "pygments_lexer": "ipython3",
   "version": "3.10.1"
  }
 },
 "nbformat": 4,
 "nbformat_minor": 5
}
