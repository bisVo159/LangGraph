{
 "cells": [
  {
   "cell_type": "code",
   "execution_count": 3,
   "id": "90502e4e",
   "metadata": {},
   "outputs": [],
   "source": [
    "from langgraph.graph import StateGraph, START, END, add_messages\n",
    "from langgraph.types import Command, interrupt\n",
    "from typing import TypedDict, Annotated, List\n",
    "from langgraph.checkpoint.memory import MemorySaver\n",
    "from langchain_groq import ChatGroq\n",
    "from langchain_core.messages import HumanMessage, SystemMessage, AIMessage\n",
    "import uuid"
   ]
  },
  {
   "cell_type": "code",
   "execution_count": 4,
   "id": "1ab65a98",
   "metadata": {},
   "outputs": [],
   "source": [
    "llm = ChatGroq(model=\"llama-3.1-8b-instant\")"
   ]
  },
  {
   "cell_type": "code",
   "execution_count": 5,
   "id": "1ca95fea",
   "metadata": {},
   "outputs": [],
   "source": [
    "class State(TypedDict): \n",
    "    linkedin_topic: str\n",
    "    generated_post: Annotated[List[str], add_messages]\n",
    "    human_feedback: Annotated[List[str], add_messages]"
   ]
  },
  {
   "cell_type": "code",
   "execution_count": 14,
   "id": "0f49d8b6",
   "metadata": {},
   "outputs": [],
   "source": [
    "def model(state: State): \n",
    "    \"\"\" Here, we're using the LLM to generate a LinkedIn post with human feedback incorporated \"\"\"\n",
    "\n",
    "    print(\"[model] Generating content\")\n",
    "    linkedin_topic = state[\"linkedin_topic\"]\n",
    "    feedback = state[\"human_feedback\"] if \"human_feedback\" in state else [\"No Feedback yet\"]\n",
    "\n",
    "    # Here, we define the prompt \n",
    "    prompt = f\"\"\"\n",
    "        LinkedIn Topic: {linkedin_topic}\n",
    "        Human Feedback: {feedback[-1] if feedback else \"No feedback yet\"}\n",
    "\n",
    "        Generate a structured and well-written LinkedIn post based on the given topic.\n",
    "\n",
    "        Consider previous human feedback to refine the reponse. \n",
    "    \"\"\"\n",
    "\n",
    "    response = llm.invoke([\n",
    "        SystemMessage(content=\"You are an expert LinkedIn content writer\"), \n",
    "        HumanMessage(content=prompt)\n",
    "    ])\n",
    "\n",
    "    geneated_linkedin_post = response.content\n",
    "\n",
    "    # print(f\"[model_node] Generated post:\\n{geneated_linkedin_post}\\n\")\n",
    "\n",
    "    return {\n",
    "       \"generated_post\": [AIMessage(content=geneated_linkedin_post)] , \n",
    "    }"
   ]
  },
  {
   "cell_type": "code",
   "execution_count": null,
   "id": "c3001381",
   "metadata": {},
   "outputs": [],
   "source": [
    "def human_node(state: State): \n",
    "    \"\"\"Human Intervention node - loops back to model unless input is done\"\"\"\n",
    "\n",
    "    print(\"\\n [human_node] awaiting human feedback...\")\n",
    "\n",
    "    generated_post = state[\"generated_post\"]\n",
    "\n",
    "    # Interrupt to get user feedback\n",
    "\n",
    "    user_feedback = interrupt(\n",
    "        {\n",
    "            \"generated_post\": generated_post, \n",
    "            \"message\": \"Provide feedback or type 'done' to finish\"\n",
    "        }\n",
    "    )\n",
    "\n",
    "    # print(f\"[human_node] Received human feedback: {user_feedback}\")\n",
    "\n",
    "    # If user types \"done\", transition to END node\n",
    "    if user_feedback.lower() == \"done\": \n",
    "        return Command(update={\"human_feedback\": state[\"human_feedback\"] + [\"Finalised\"]}, goto=\"end_node\")\n",
    "\n",
    "    # Otherwise, update feedback and return to model for re-generation\n",
    "    return Command(update={\"human_feedback\": state[\"human_feedback\"] + [user_feedback]}, goto=\"model\")"
   ]
  },
  {
   "cell_type": "code",
   "execution_count": 15,
   "id": "410af6a0",
   "metadata": {},
   "outputs": [],
   "source": [
    "def end_node(state: State): \n",
    "    \"\"\" Final node \"\"\"\n",
    "    print(\"\\n[end_node] Process finished\")\n",
    "    print(\"Final Generated Post:\", state[\"generated_post\"][-1])\n",
    "    print(\"Final Human Feedback\", state[\"human_feedback\"])\n",
    "    return {\"generated_post\": state[\"generated_post\"], \"human_feedback\": state[\"human_feedback\"]}"
   ]
  },
  {
   "cell_type": "code",
   "execution_count": 16,
   "id": "8e02278d",
   "metadata": {},
   "outputs": [],
   "source": [
    "graph = StateGraph(State)\n",
    "graph.add_node(\"model\", model)\n",
    "graph.add_node(\"human_node\", human_node)\n",
    "graph.add_node(\"end_node\", end_node)\n",
    "\n",
    "graph.set_entry_point(\"model\")\n",
    "\n",
    "# Define the flow\n",
    "\n",
    "graph.add_edge(START, \"model\")\n",
    "graph.add_edge(\"model\", \"human_node\")\n",
    "\n",
    "graph.set_finish_point(\"end_node\")\n",
    "\n",
    "# Enable Interrupt mechanism\n",
    "checkpointer = MemorySaver()\n",
    "app = graph.compile(checkpointer=checkpointer)"
   ]
  },
  {
   "cell_type": "code",
   "execution_count": 17,
   "id": "23d20317",
   "metadata": {},
   "outputs": [],
   "source": [
    "thread_config = {\"configurable\": {\n",
    "    \"thread_id\": uuid.uuid4()\n",
    "}}\n",
    "\n",
    "linkedin_topic = input(\"Enter your LinkedIn topic: \")\n",
    "initial_state = {\n",
    "    \"linkedin_topic\": linkedin_topic, \n",
    "    \"generated_post\": [], \n",
    "    \"human_feedback\": []\n",
    "}"
   ]
  },
  {
   "cell_type": "code",
   "execution_count": 18,
   "id": "89fbd355",
   "metadata": {},
   "outputs": [
    {
     "name": "stdout",
     "output_type": "stream",
     "text": [
      "[model] Generating content\n",
      "{'model': {'generated_post': [AIMessage(content=\"As we continue to navigate the ever-changing job market, one thing is clear: Artificial Intelligence (AI) is transforming the way we work. But what does this mean for the future of employment?\\n\\n**The Rise of AI: Opportunities and Challenges**\\n\\nAs AI technologies advance, we're witnessing a shift in the job market like never before. On one hand, AI is empowering businesses to automate routine tasks, freeing up human employees to focus on high-value tasks that require creativity, empathy, and problem-solving skills.\\n\\nOn the other hand, AI is also displacing jobs that are repetitive, predictable, or can be easily automated. According to a recent report, up to 30% of jobs in the US may be at risk of being automated by 2030.\\n\\n**Jobs of the Future: What to Expect**\\n\\nWhile AI may displace some jobs, it's also creating new ones. Here are some emerging roles that are likely to thrive in the age of AI:\\n\\n1. **AI and Machine Learning Experts**: As AI becomes more pervasive, the demand for professionals who can develop, implement, and maintain AI systems is skyrocketing.\\n2. **Data Scientists**: With the increasing amount of data generated by AI systems, data scientists will play a critical role in analyzing and interpreting these insights.\\n3. **Cybersecurity Experts**: As AI systems become more widespread, the risk of cyber threats also increases. Cybersecurity experts will be essential in protecting these systems from malicious attacks.\\n4. **Digital Transformation Consultants**: As businesses adapt to the changing job market, digital transformation consultants will help organizations navigate this shift and develop strategies to stay ahead of the curve.\\n\\n**What Can You Do to Stay Ahead?**\\n\\nIf you're concerned about the impact of AI on your job, here are some tips to help you stay ahead:\\n\\n1. **Upskill and Reskill**: Invest in training and education to develop skills that are complementary to AI, such as creativity, empathy, and problem-solving.\\n2. **Stay Curious**: Continuously learn about the latest developments in AI and how they're impacting your industry.\\n3. **Network and Build Relationships**: Build relationships with people in your industry and stay connected with thought leaders who are driving innovation.\\n\\nThe future of work is uncertain, but one thing is clear: AI is here to stay. By staying adaptable, upskilling, and reskilling, you can thrive in this new landscape and unlock new opportunities.\\n\\n**What are your thoughts on the impact of AI on the job market? Share your comments below!**\\n\\n#AI #JobMarket #FutureOfWork #Upskill #Reskill #DigitalTransformation\", additional_kwargs={}, response_metadata={}, id='0a8e1c08-e22d-4e0b-a92a-46f996410bf3')]}}\n",
      "model  :  {'generated_post': [AIMessage(content=\"As we continue to navigate the ever-changing job market, one thing is clear: Artificial Intelligence (AI) is transforming the way we work. But what does this mean for the future of employment?\\n\\n**The Rise of AI: Opportunities and Challenges**\\n\\nAs AI technologies advance, we're witnessing a shift in the job market like never before. On one hand, AI is empowering businesses to automate routine tasks, freeing up human employees to focus on high-value tasks that require creativity, empathy, and problem-solving skills.\\n\\nOn the other hand, AI is also displacing jobs that are repetitive, predictable, or can be easily automated. According to a recent report, up to 30% of jobs in the US may be at risk of being automated by 2030.\\n\\n**Jobs of the Future: What to Expect**\\n\\nWhile AI may displace some jobs, it's also creating new ones. Here are some emerging roles that are likely to thrive in the age of AI:\\n\\n1. **AI and Machine Learning Experts**: As AI becomes more pervasive, the demand for professionals who can develop, implement, and maintain AI systems is skyrocketing.\\n2. **Data Scientists**: With the increasing amount of data generated by AI systems, data scientists will play a critical role in analyzing and interpreting these insights.\\n3. **Cybersecurity Experts**: As AI systems become more widespread, the risk of cyber threats also increases. Cybersecurity experts will be essential in protecting these systems from malicious attacks.\\n4. **Digital Transformation Consultants**: As businesses adapt to the changing job market, digital transformation consultants will help organizations navigate this shift and develop strategies to stay ahead of the curve.\\n\\n**What Can You Do to Stay Ahead?**\\n\\nIf you're concerned about the impact of AI on your job, here are some tips to help you stay ahead:\\n\\n1. **Upskill and Reskill**: Invest in training and education to develop skills that are complementary to AI, such as creativity, empathy, and problem-solving.\\n2. **Stay Curious**: Continuously learn about the latest developments in AI and how they're impacting your industry.\\n3. **Network and Build Relationships**: Build relationships with people in your industry and stay connected with thought leaders who are driving innovation.\\n\\nThe future of work is uncertain, but one thing is clear: AI is here to stay. By staying adaptable, upskilling, and reskilling, you can thrive in this new landscape and unlock new opportunities.\\n\\n**What are your thoughts on the impact of AI on the job market? Share your comments below!**\\n\\n#AI #JobMarket #FutureOfWork #Upskill #Reskill #DigitalTransformation\", additional_kwargs={}, response_metadata={}, id='0a8e1c08-e22d-4e0b-a92a-46f996410bf3')]}\n",
      "\n",
      " [human_node] awaiting human feedback...\n",
      "{'__interrupt__': (Interrupt(value={'generated_post': [AIMessage(content=\"As we continue to navigate the ever-changing job market, one thing is clear: Artificial Intelligence (AI) is transforming the way we work. But what does this mean for the future of employment?\\n\\n**The Rise of AI: Opportunities and Challenges**\\n\\nAs AI technologies advance, we're witnessing a shift in the job market like never before. On one hand, AI is empowering businesses to automate routine tasks, freeing up human employees to focus on high-value tasks that require creativity, empathy, and problem-solving skills.\\n\\nOn the other hand, AI is also displacing jobs that are repetitive, predictable, or can be easily automated. According to a recent report, up to 30% of jobs in the US may be at risk of being automated by 2030.\\n\\n**Jobs of the Future: What to Expect**\\n\\nWhile AI may displace some jobs, it's also creating new ones. Here are some emerging roles that are likely to thrive in the age of AI:\\n\\n1. **AI and Machine Learning Experts**: As AI becomes more pervasive, the demand for professionals who can develop, implement, and maintain AI systems is skyrocketing.\\n2. **Data Scientists**: With the increasing amount of data generated by AI systems, data scientists will play a critical role in analyzing and interpreting these insights.\\n3. **Cybersecurity Experts**: As AI systems become more widespread, the risk of cyber threats also increases. Cybersecurity experts will be essential in protecting these systems from malicious attacks.\\n4. **Digital Transformation Consultants**: As businesses adapt to the changing job market, digital transformation consultants will help organizations navigate this shift and develop strategies to stay ahead of the curve.\\n\\n**What Can You Do to Stay Ahead?**\\n\\nIf you're concerned about the impact of AI on your job, here are some tips to help you stay ahead:\\n\\n1. **Upskill and Reskill**: Invest in training and education to develop skills that are complementary to AI, such as creativity, empathy, and problem-solving.\\n2. **Stay Curious**: Continuously learn about the latest developments in AI and how they're impacting your industry.\\n3. **Network and Build Relationships**: Build relationships with people in your industry and stay connected with thought leaders who are driving innovation.\\n\\nThe future of work is uncertain, but one thing is clear: AI is here to stay. By staying adaptable, upskilling, and reskilling, you can thrive in this new landscape and unlock new opportunities.\\n\\n**What are your thoughts on the impact of AI on the job market? Share your comments below!**\\n\\n#AI #JobMarket #FutureOfWork #Upskill #Reskill #DigitalTransformation\", additional_kwargs={}, response_metadata={}, id='0a8e1c08-e22d-4e0b-a92a-46f996410bf3')], 'message': \"Provide feedback or type 'done' to finish\"}, resumable=True, ns=['human_node:ebd60cfc-ed3f-6592-4705-94d0f896ded5']),)}\n",
      "__interrupt__  :  (Interrupt(value={'generated_post': [AIMessage(content=\"As we continue to navigate the ever-changing job market, one thing is clear: Artificial Intelligence (AI) is transforming the way we work. But what does this mean for the future of employment?\\n\\n**The Rise of AI: Opportunities and Challenges**\\n\\nAs AI technologies advance, we're witnessing a shift in the job market like never before. On one hand, AI is empowering businesses to automate routine tasks, freeing up human employees to focus on high-value tasks that require creativity, empathy, and problem-solving skills.\\n\\nOn the other hand, AI is also displacing jobs that are repetitive, predictable, or can be easily automated. According to a recent report, up to 30% of jobs in the US may be at risk of being automated by 2030.\\n\\n**Jobs of the Future: What to Expect**\\n\\nWhile AI may displace some jobs, it's also creating new ones. Here are some emerging roles that are likely to thrive in the age of AI:\\n\\n1. **AI and Machine Learning Experts**: As AI becomes more pervasive, the demand for professionals who can develop, implement, and maintain AI systems is skyrocketing.\\n2. **Data Scientists**: With the increasing amount of data generated by AI systems, data scientists will play a critical role in analyzing and interpreting these insights.\\n3. **Cybersecurity Experts**: As AI systems become more widespread, the risk of cyber threats also increases. Cybersecurity experts will be essential in protecting these systems from malicious attacks.\\n4. **Digital Transformation Consultants**: As businesses adapt to the changing job market, digital transformation consultants will help organizations navigate this shift and develop strategies to stay ahead of the curve.\\n\\n**What Can You Do to Stay Ahead?**\\n\\nIf you're concerned about the impact of AI on your job, here are some tips to help you stay ahead:\\n\\n1. **Upskill and Reskill**: Invest in training and education to develop skills that are complementary to AI, such as creativity, empathy, and problem-solving.\\n2. **Stay Curious**: Continuously learn about the latest developments in AI and how they're impacting your industry.\\n3. **Network and Build Relationships**: Build relationships with people in your industry and stay connected with thought leaders who are driving innovation.\\n\\nThe future of work is uncertain, but one thing is clear: AI is here to stay. By staying adaptable, upskilling, and reskilling, you can thrive in this new landscape and unlock new opportunities.\\n\\n**What are your thoughts on the impact of AI on the job market? Share your comments below!**\\n\\n#AI #JobMarket #FutureOfWork #Upskill #Reskill #DigitalTransformation\", additional_kwargs={}, response_metadata={}, id='0a8e1c08-e22d-4e0b-a92a-46f996410bf3')], 'message': \"Provide feedback or type 'done' to finish\"}, resumable=True, ns=['human_node:ebd60cfc-ed3f-6592-4705-94d0f896ded5']),)\n",
      "\n",
      " [human_node] awaiting human feedback...\n",
      "[human_node] Received human feedback: make it shorter\n",
      "[model] Generating content\n",
      "\n",
      " [human_node] awaiting human feedback...\n",
      "\n",
      " [human_node] awaiting human feedback...\n",
      "[human_node] Received human feedback: done\n",
      "\n",
      "[end_node] Process finished\n",
      "Final Generated Post: content=\"**The AI Revolution: Navigating the Shift in the Job Market**\\n\\nThe rise of artificial intelligence (AI) is transforming the job market at an unprecedented pace. While AI has the potential to drive innovation and growth, it also raises concerns about job displacement and the future of work.\\n\\n**The Numbers Don't Lie**\\n\\n* By 2025, AI is expected to displace 85 million jobs globally, while creating 97 million new ones (Source: World Economic Forum)\\n* 42% of businesses say AI has increased productivity, but only 27% report it has created new job opportunities (Source: Gartner)\\n\\n**The Future of Work: 3 Key Takeaways**\\n\\n1. **Upskilling & Reskilling**: Adapt to the changing job market by acquiring new skills that complement AI, such as creativity, empathy, and problem-solving.\\n2. **Embracing Augmentation**: Leverage AI to enhance your work, rather than replacing it. Focus on high-value tasks that require human touch and intuition.\\n3. **Staying Agile**: Be prepared to pivot and adapt to new technologies and job requirements. Stay curious, and continually update your skills to stay relevant.\\n\\n**Conclusion**\\n\\nThe AI revolution is here to stay. While it may disrupt some job roles, it also presents opportunities for growth and innovation. By embracing the shift and upskilling ourselves, we can thrive in this new landscape.\\n\\n**Let's discuss**: How do you see AI impacting your job or industry? Share your thoughts and insights in the comments below!\\n\\n**#AI #FutureOfWork #Upskilling #Reskilling #Innovation**\" additional_kwargs={} response_metadata={} id='50694840-66aa-49b7-94e1-ead6e17dd2a1'\n",
      "Final Human Feedback [HumanMessage(content='make it shorter', additional_kwargs={}, response_metadata={}, id='7e23f381-f1b0-4cf5-8197-c0e93e0777da'), HumanMessage(content='Finalised', additional_kwargs={}, response_metadata={}, id='288ab8f9-22f8-4caf-8af8-1a0e512f3748')]\n"
     ]
    }
   ],
   "source": [
    "for chunk in app.stream(initial_state, config=thread_config):\n",
    "    print(chunk)\n",
    "    for node_id, value in chunk.items():\n",
    "        print(node_id,\" : \",value)\n",
    "        \n",
    "        #  If we reach an interrupt, continuously ask for human feedback\n",
    "\n",
    "        if(node_id == \"__interrupt__\"):\n",
    "            while True: \n",
    "                user_feedback = input(\"Provide feedback (or type 'done' when finished): \")\n",
    "\n",
    "                # Resume the graph execution with the user's feedback\n",
    "                app.invoke(Command(resume=user_feedback), config=thread_config)\n",
    "\n",
    "                # Exit loop if user says done\n",
    "                if user_feedback.lower() == \"done\":\n",
    "                    break"
   ]
  },
  {
   "cell_type": "code",
   "execution_count": null,
   "id": "f8f10bc2",
   "metadata": {},
   "outputs": [],
   "source": []
  },
  {
   "cell_type": "code",
   "execution_count": null,
   "id": "ed1c3663",
   "metadata": {},
   "outputs": [],
   "source": []
  }
 ],
 "metadata": {
  "kernelspec": {
   "display_name": "myenv",
   "language": "python",
   "name": "python3"
  },
  "language_info": {
   "codemirror_mode": {
    "name": "ipython",
    "version": 3
   },
   "file_extension": ".py",
   "mimetype": "text/x-python",
   "name": "python",
   "nbconvert_exporter": "python",
   "pygments_lexer": "ipython3",
   "version": "3.10.1"
  }
 },
 "nbformat": 4,
 "nbformat_minor": 5
}
