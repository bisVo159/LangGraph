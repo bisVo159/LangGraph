{
 "cells": [
  {
   "cell_type": "code",
   "execution_count": 2,
   "id": "67a2ec0f",
   "metadata": {},
   "outputs": [],
   "source": [
    "from langgraph.graph import StateGraph, START, END\n",
    "from typing import TypedDict\n",
    "from langchain_google_genai import ChatGoogleGenerativeAI\n",
    "from dotenv import load_dotenv\n",
    "from langgraph.checkpoint.memory import InMemorySaver"
   ]
  },
  {
   "cell_type": "code",
   "execution_count": 3,
   "id": "6dda320f",
   "metadata": {},
   "outputs": [],
   "source": [
    "load_dotenv()\n",
    "llm=ChatGoogleGenerativeAI(model=\"gemini-2.5-flash\")"
   ]
  },
  {
   "cell_type": "code",
   "execution_count": 4,
   "id": "654bdefe",
   "metadata": {},
   "outputs": [],
   "source": [
    "class JokeState(TypedDict):\n",
    "\n",
    "    topic: str\n",
    "    joke: str\n",
    "    explanation: str"
   ]
  },
  {
   "cell_type": "code",
   "execution_count": 5,
   "id": "661f67ca",
   "metadata": {},
   "outputs": [],
   "source": [
    "def generate_joke(state: JokeState):\n",
    "\n",
    "    prompt = f'generate a joke on the topic {state[\"topic\"]}'\n",
    "    response = llm.invoke(prompt).content\n",
    "\n",
    "    return {'joke': response}"
   ]
  },
  {
   "cell_type": "code",
   "execution_count": 6,
   "id": "3fd4d5f7",
   "metadata": {},
   "outputs": [],
   "source": [
    "def generate_explanation(state: JokeState):\n",
    "\n",
    "    prompt = f'write an explanation for the joke - {state[\"joke\"]}'\n",
    "    response = llm.invoke(prompt).content\n",
    "\n",
    "    return {'explanation': response}"
   ]
  },
  {
   "cell_type": "code",
   "execution_count": 7,
   "id": "d4218432",
   "metadata": {},
   "outputs": [],
   "source": [
    "graph = StateGraph(JokeState)\n",
    "\n",
    "graph.add_node('generate_joke', generate_joke)\n",
    "graph.add_node('generate_explanation', generate_explanation)\n",
    "\n",
    "graph.add_edge(START, 'generate_joke')\n",
    "graph.add_edge('generate_joke', 'generate_explanation')\n",
    "graph.add_edge('generate_explanation', END)\n",
    "\n",
    "checkpointer = InMemorySaver()\n",
    "\n",
    "workflow = graph.compile(checkpointer=checkpointer)"
   ]
  },
  {
   "cell_type": "code",
   "execution_count": 8,
   "id": "98390fc8",
   "metadata": {},
   "outputs": [
    {
     "data": {
      "text/plain": [
       "{'topic': 'pizza',\n",
       " 'joke': 'Why did the pizza apply for a loan?\\nBecause it was a little short on **dough**!',\n",
       " 'explanation': 'This is a classic play on words, also known as a **pun**!\\n\\nHere\\'s why it\\'s funny:\\n\\n1.  **\"Short on dough\" (Meaning 1 - Slang for money):** When someone applies for a loan, it\\'s because they need money. In informal English, \"dough\" is a common slang term for money (like \"cash\" or \"bucks\"). So, if the pizza was \"short on dough,\" it means it didn\\'t have enough money. This is the meaning implied by the idea of applying for a loan.\\n\\n2.  **\"Dough\" (Meaning 2 - Literal ingredient):** \"Dough\" also literally refers to the main ingredient of pizza – the mixture of flour, water, yeast, etc., that the crust is made from. A pizza is quite literally made of dough!\\n\\nThe joke works because it cleverly uses the word \"dough\" to mean **both** things at once. The setup makes you think about money, but the punchline uses the word in a way that also refers directly to the pizza itself, creating a humorous and unexpected double meaning.'}"
      ]
     },
     "execution_count": 8,
     "metadata": {},
     "output_type": "execute_result"
    }
   ],
   "source": [
    "config1 = {\"configurable\": {\"thread_id\": \"1\"}}\n",
    "workflow.invoke({'topic':'pizza'}, config=config1)"
   ]
  },
  {
   "cell_type": "code",
   "execution_count": 9,
   "id": "831904b0",
   "metadata": {},
   "outputs": [
    {
     "data": {
      "text/plain": [
       "StateSnapshot(values={'topic': 'pizza', 'joke': 'Why did the pizza apply for a loan?\\nBecause it was a little short on **dough**!', 'explanation': 'This is a classic play on words, also known as a **pun**!\\n\\nHere\\'s why it\\'s funny:\\n\\n1.  **\"Short on dough\" (Meaning 1 - Slang for money):** When someone applies for a loan, it\\'s because they need money. In informal English, \"dough\" is a common slang term for money (like \"cash\" or \"bucks\"). So, if the pizza was \"short on dough,\" it means it didn\\'t have enough money. This is the meaning implied by the idea of applying for a loan.\\n\\n2.  **\"Dough\" (Meaning 2 - Literal ingredient):** \"Dough\" also literally refers to the main ingredient of pizza – the mixture of flour, water, yeast, etc., that the crust is made from. A pizza is quite literally made of dough!\\n\\nThe joke works because it cleverly uses the word \"dough\" to mean **both** things at once. The setup makes you think about money, but the punchline uses the word in a way that also refers directly to the pizza itself, creating a humorous and unexpected double meaning.'}, next=(), config={'configurable': {'thread_id': '1', 'checkpoint_ns': '', 'checkpoint_id': '1f0702bf-86dd-634d-8002-632009fbb773'}}, metadata={'source': 'loop', 'step': 2, 'parents': {}, 'thread_id': '1'}, created_at='2025-08-03T05:37:40.233710+00:00', parent_config={'configurable': {'thread_id': '1', 'checkpoint_ns': '', 'checkpoint_id': '1f0702bf-4767-6a2f-8001-8b11205db2da'}}, tasks=(), interrupts=())"
      ]
     },
     "execution_count": 9,
     "metadata": {},
     "output_type": "execute_result"
    }
   ],
   "source": [
    "workflow.get_state(config1)"
   ]
  },
  {
   "cell_type": "code",
   "execution_count": 11,
   "id": "a244a137",
   "metadata": {},
   "outputs": [
    {
     "data": {
      "text/plain": [
       "[StateSnapshot(values={'topic': 'pizza', 'joke': 'Why did the pizza apply for a loan?\\nBecause it was a little short on **dough**!', 'explanation': 'This is a classic play on words, also known as a **pun**!\\n\\nHere\\'s why it\\'s funny:\\n\\n1.  **\"Short on dough\" (Meaning 1 - Slang for money):** When someone applies for a loan, it\\'s because they need money. In informal English, \"dough\" is a common slang term for money (like \"cash\" or \"bucks\"). So, if the pizza was \"short on dough,\" it means it didn\\'t have enough money. This is the meaning implied by the idea of applying for a loan.\\n\\n2.  **\"Dough\" (Meaning 2 - Literal ingredient):** \"Dough\" also literally refers to the main ingredient of pizza – the mixture of flour, water, yeast, etc., that the crust is made from. A pizza is quite literally made of dough!\\n\\nThe joke works because it cleverly uses the word \"dough\" to mean **both** things at once. The setup makes you think about money, but the punchline uses the word in a way that also refers directly to the pizza itself, creating a humorous and unexpected double meaning.'}, next=(), config={'configurable': {'thread_id': '1', 'checkpoint_ns': '', 'checkpoint_id': '1f0702bf-86dd-634d-8002-632009fbb773'}}, metadata={'source': 'loop', 'step': 2, 'parents': {}, 'thread_id': '1'}, created_at='2025-08-03T05:37:40.233710+00:00', parent_config={'configurable': {'thread_id': '1', 'checkpoint_ns': '', 'checkpoint_id': '1f0702bf-4767-6a2f-8001-8b11205db2da'}}, tasks=(), interrupts=()),\n",
       " StateSnapshot(values={'topic': 'pizza', 'joke': 'Why did the pizza apply for a loan?\\nBecause it was a little short on **dough**!'}, next=('generate_explanation',), config={'configurable': {'thread_id': '1', 'checkpoint_ns': '', 'checkpoint_id': '1f0702bf-4767-6a2f-8001-8b11205db2da'}}, metadata={'source': 'loop', 'step': 1, 'parents': {}, 'thread_id': '1'}, created_at='2025-08-03T05:37:33.579524+00:00', parent_config={'configurable': {'thread_id': '1', 'checkpoint_ns': '', 'checkpoint_id': '1f0702be-d54a-6a72-8000-2a533a1aca91'}}, tasks=(PregelTask(id='7271cdc0-8314-21fc-8a58-5eb779ec9698', name='generate_explanation', path=('__pregel_pull', 'generate_explanation'), error=None, interrupts=(), state=None, result={'explanation': 'This is a classic play on words, also known as a **pun**!\\n\\nHere\\'s why it\\'s funny:\\n\\n1.  **\"Short on dough\" (Meaning 1 - Slang for money):** When someone applies for a loan, it\\'s because they need money. In informal English, \"dough\" is a common slang term for money (like \"cash\" or \"bucks\"). So, if the pizza was \"short on dough,\" it means it didn\\'t have enough money. This is the meaning implied by the idea of applying for a loan.\\n\\n2.  **\"Dough\" (Meaning 2 - Literal ingredient):** \"Dough\" also literally refers to the main ingredient of pizza – the mixture of flour, water, yeast, etc., that the crust is made from. A pizza is quite literally made of dough!\\n\\nThe joke works because it cleverly uses the word \"dough\" to mean **both** things at once. The setup makes you think about money, but the punchline uses the word in a way that also refers directly to the pizza itself, creating a humorous and unexpected double meaning.'}),), interrupts=()),\n",
       " StateSnapshot(values={'topic': 'pizza'}, next=('generate_joke',), config={'configurable': {'thread_id': '1', 'checkpoint_ns': '', 'checkpoint_id': '1f0702be-d54a-6a72-8000-2a533a1aca91'}}, metadata={'source': 'loop', 'step': 0, 'parents': {}, 'thread_id': '1'}, created_at='2025-08-03T05:37:21.613886+00:00', parent_config={'configurable': {'thread_id': '1', 'checkpoint_ns': '', 'checkpoint_id': '1f0702be-d543-6550-bfff-4e4b4b013573'}}, tasks=(PregelTask(id='3850dc68-6793-3b02-e28c-0f3b1c88a61a', name='generate_joke', path=('__pregel_pull', 'generate_joke'), error=None, interrupts=(), state=None, result={'joke': 'Why did the pizza apply for a loan?\\nBecause it was a little short on **dough**!'}),), interrupts=()),\n",
       " StateSnapshot(values={}, next=('__start__',), config={'configurable': {'thread_id': '1', 'checkpoint_ns': '', 'checkpoint_id': '1f0702be-d543-6550-bfff-4e4b4b013573'}}, metadata={'source': 'input', 'step': -1, 'parents': {}, 'thread_id': '1'}, created_at='2025-08-03T05:37:21.610888+00:00', parent_config=None, tasks=(PregelTask(id='056dba2b-c7e1-c5f0-dba6-d1011cee6c56', name='__start__', path=('__pregel_pull', '__start__'), error=None, interrupts=(), state=None, result={'topic': 'pizza'}),), interrupts=())]"
      ]
     },
     "execution_count": 11,
     "metadata": {},
     "output_type": "execute_result"
    }
   ],
   "source": [
    "list(workflow.get_state_history(config1))"
   ]
  },
  {
   "cell_type": "code",
   "execution_count": 26,
   "id": "7284c2bb",
   "metadata": {},
   "outputs": [
    {
     "data": {
      "text/plain": [
       "{'topic': 'pasta',\n",
       " 'joke': 'Why did the pasta break up with the sauce?\\n\\nBecause it felt too **smothered**!',\n",
       " 'explanation': 'This joke plays on the double meaning of the word \"smothered\":\\n\\n1.  **Literal Meaning (Food):** When pasta is served with a very thick or abundant amount of sauce, it\\'s often described as being \"smothered\" in sauce. The sauce completely covers and envelops the pasta.\\n\\n2.  **Figurative Meaning (Relationships):** In a relationship, someone feels \"smothered\" when they feel overwhelmed, suffocated, or controlled by another person\\'s excessive attention, affection, or demands. It implies a lack of personal space or independence.\\n\\nThe humor comes from **personifying** the pasta and giving it human feelings. It takes a literal description of how pasta is served (\"smothered in sauce\") and applies the figurative, emotional meaning of \"smothered\" to explain why it would \"break up\" with the sauce. The punchline makes a relatable human relationship problem out of a culinary term.'}"
      ]
     },
     "execution_count": 26,
     "metadata": {},
     "output_type": "execute_result"
    }
   ],
   "source": [
    "config2 = {\"configurable\": {\"thread_id\": \"2\"}}\n",
    "workflow.invoke({'topic':'pasta'}, config=config2)"
   ]
  },
  {
   "cell_type": "code",
   "execution_count": 27,
   "id": "66169856",
   "metadata": {},
   "outputs": [
    {
     "data": {
      "text/plain": [
       "StateSnapshot(values={'topic': 'pizza', 'joke': 'Why did the pizza apply for a loan?\\nBecause it was a little short on **dough**!', 'explanation': 'This is a classic play on words, also known as a **pun**!\\n\\nHere\\'s why it\\'s funny:\\n\\n1.  **\"Short on dough\" (Meaning 1 - Slang for money):** When someone applies for a loan, it\\'s because they need money. In informal English, \"dough\" is a common slang term for money (like \"cash\" or \"bucks\"). So, if the pizza was \"short on dough,\" it means it didn\\'t have enough money. This is the meaning implied by the idea of applying for a loan.\\n\\n2.  **\"Dough\" (Meaning 2 - Literal ingredient):** \"Dough\" also literally refers to the main ingredient of pizza – the mixture of flour, water, yeast, etc., that the crust is made from. A pizza is quite literally made of dough!\\n\\nThe joke works because it cleverly uses the word \"dough\" to mean **both** things at once. The setup makes you think about money, but the punchline uses the word in a way that also refers directly to the pizza itself, creating a humorous and unexpected double meaning.'}, next=(), config={'configurable': {'thread_id': '1', 'checkpoint_ns': '', 'checkpoint_id': '1f0702bf-86dd-634d-8002-632009fbb773'}}, metadata={'source': 'loop', 'step': 2, 'parents': {}, 'thread_id': '1'}, created_at='2025-08-03T05:37:40.233710+00:00', parent_config={'configurable': {'thread_id': '1', 'checkpoint_ns': '', 'checkpoint_id': '1f0702bf-4767-6a2f-8001-8b11205db2da'}}, tasks=(), interrupts=())"
      ]
     },
     "execution_count": 27,
     "metadata": {},
     "output_type": "execute_result"
    }
   ],
   "source": [
    "workflow.get_state(config1)"
   ]
  },
  {
   "cell_type": "code",
   "execution_count": 28,
   "id": "2469ae33",
   "metadata": {},
   "outputs": [
    {
     "data": {
      "text/plain": [
       "[StateSnapshot(values={'topic': 'pasta', 'joke': 'Why did the pasta break up with the sauce?\\n\\nBecause it felt too **smothered**!', 'explanation': 'This joke plays on the double meaning of the word \"smothered\":\\n\\n1.  **Literal Meaning (Food):** When pasta is served with a very thick or abundant amount of sauce, it\\'s often described as being \"smothered\" in sauce. The sauce completely covers and envelops the pasta.\\n\\n2.  **Figurative Meaning (Relationships):** In a relationship, someone feels \"smothered\" when they feel overwhelmed, suffocated, or controlled by another person\\'s excessive attention, affection, or demands. It implies a lack of personal space or independence.\\n\\nThe humor comes from **personifying** the pasta and giving it human feelings. It takes a literal description of how pasta is served (\"smothered in sauce\") and applies the figurative, emotional meaning of \"smothered\" to explain why it would \"break up\" with the sauce. The punchline makes a relatable human relationship problem out of a culinary term.'}, next=(), config={'configurable': {'thread_id': '2', 'checkpoint_ns': '', 'checkpoint_id': '1f0706d0-89f4-6ff1-8006-1e266ec54235'}}, metadata={'source': 'loop', 'step': 6, 'parents': {}, 'thread_id': '2'}, created_at='2025-08-03T13:23:24.688996+00:00', parent_config={'configurable': {'thread_id': '2', 'checkpoint_ns': '', 'checkpoint_id': '1f0706d0-51e3-6980-8005-204abf4d6cee'}}, tasks=(), interrupts=()),\n",
       " StateSnapshot(values={'topic': 'pasta', 'joke': 'Why did the pasta break up with the sauce?\\n\\nBecause it felt too **smothered**!', 'explanation': 'This joke is a classic example of a **pun**, which is a play on words that have similar sounds but different meanings.\\n\\nHere\\'s the breakdown:\\n\\n1.  **\"Impasta\"**: This is the punchline.\\n2.  **\"Impostor\"**: This is the word \"impasta\" sounds exactly like. An **impostor** is a person who pretends to be someone else in order to deceive or defraud others. People who act as impostors can get arrested for fraud, identity theft, or other deceptive crimes.\\n3.  **\"Pasta\"**: The setup of the joke is about a piece of pasta.\\n\\nThe humor comes from the silly idea that a piece of pasta could commit a crime by being an \"impostor\" (an \"impasta\"), pretending to be something it\\'s not, just like a human impostor. It\\'s a lighthearted, unexpected twist on the word \"impostor\" using a food item.'}, next=('generate_explanation',), config={'configurable': {'thread_id': '2', 'checkpoint_ns': '', 'checkpoint_id': '1f0706d0-51e3-6980-8005-204abf4d6cee'}}, metadata={'source': 'loop', 'step': 5, 'parents': {}, 'thread_id': '2'}, created_at='2025-08-03T13:23:18.809843+00:00', parent_config={'configurable': {'thread_id': '2', 'checkpoint_ns': '', 'checkpoint_id': '1f0706cf-cc5c-6894-8004-3e4a3666b43a'}}, tasks=(PregelTask(id='7095fca9-329b-46fc-c069-0ccf22c52395', name='generate_explanation', path=('__pregel_pull', 'generate_explanation'), error=None, interrupts=(), state=None, result={'explanation': 'This joke plays on the double meaning of the word \"smothered\":\\n\\n1.  **Literal Meaning (Food):** When pasta is served with a very thick or abundant amount of sauce, it\\'s often described as being \"smothered\" in sauce. The sauce completely covers and envelops the pasta.\\n\\n2.  **Figurative Meaning (Relationships):** In a relationship, someone feels \"smothered\" when they feel overwhelmed, suffocated, or controlled by another person\\'s excessive attention, affection, or demands. It implies a lack of personal space or independence.\\n\\nThe humor comes from **personifying** the pasta and giving it human feelings. It takes a literal description of how pasta is served (\"smothered in sauce\") and applies the figurative, emotional meaning of \"smothered\" to explain why it would \"break up\" with the sauce. The punchline makes a relatable human relationship problem out of a culinary term.'}),), interrupts=()),\n",
       " StateSnapshot(values={'topic': 'pasta', 'joke': 'Why did the pasta get arrested?\\n\\nBecause it was an **impasta**!', 'explanation': 'This joke is a classic example of a **pun**, which is a play on words that have similar sounds but different meanings.\\n\\nHere\\'s the breakdown:\\n\\n1.  **\"Impasta\"**: This is the punchline.\\n2.  **\"Impostor\"**: This is the word \"impasta\" sounds exactly like. An **impostor** is a person who pretends to be someone else in order to deceive or defraud others. People who act as impostors can get arrested for fraud, identity theft, or other deceptive crimes.\\n3.  **\"Pasta\"**: The setup of the joke is about a piece of pasta.\\n\\nThe humor comes from the silly idea that a piece of pasta could commit a crime by being an \"impostor\" (an \"impasta\"), pretending to be something it\\'s not, just like a human impostor. It\\'s a lighthearted, unexpected twist on the word \"impostor\" using a food item.'}, next=('generate_joke',), config={'configurable': {'thread_id': '2', 'checkpoint_ns': '', 'checkpoint_id': '1f0706cf-cc5c-6894-8004-3e4a3666b43a'}}, metadata={'source': 'loop', 'step': 4, 'parents': {}, 'thread_id': '2'}, created_at='2025-08-03T13:23:04.808462+00:00', parent_config={'configurable': {'thread_id': '2', 'checkpoint_ns': '', 'checkpoint_id': '1f0706cf-cc48-6d25-8003-b0bf8a13c95e'}}, tasks=(PregelTask(id='b574a21e-53e2-6fb9-6dd6-96a77a91a9e1', name='generate_joke', path=('__pregel_pull', 'generate_joke'), error=None, interrupts=(), state=None, result={'joke': 'Why did the pasta break up with the sauce?\\n\\nBecause it felt too **smothered**!'}),), interrupts=()),\n",
       " StateSnapshot(values={'topic': 'pasta', 'joke': 'Why did the pasta get arrested?\\n\\nBecause it was an **impasta**!', 'explanation': 'This joke is a classic example of a **pun**, which is a play on words that have similar sounds but different meanings.\\n\\nHere\\'s the breakdown:\\n\\n1.  **\"Impasta\"**: This is the punchline.\\n2.  **\"Impostor\"**: This is the word \"impasta\" sounds exactly like. An **impostor** is a person who pretends to be someone else in order to deceive or defraud others. People who act as impostors can get arrested for fraud, identity theft, or other deceptive crimes.\\n3.  **\"Pasta\"**: The setup of the joke is about a piece of pasta.\\n\\nThe humor comes from the silly idea that a piece of pasta could commit a crime by being an \"impostor\" (an \"impasta\"), pretending to be something it\\'s not, just like a human impostor. It\\'s a lighthearted, unexpected twist on the word \"impostor\" using a food item.'}, next=('__start__',), config={'configurable': {'thread_id': '2', 'checkpoint_ns': '', 'checkpoint_id': '1f0706cf-cc48-6d25-8003-b0bf8a13c95e'}}, metadata={'source': 'input', 'step': 3, 'parents': {}, 'thread_id': '2'}, created_at='2025-08-03T13:23:04.800387+00:00', parent_config={'configurable': {'thread_id': '2', 'checkpoint_ns': '', 'checkpoint_id': '1f0702c4-239c-6bc0-8002-94d91cbc279e'}}, tasks=(PregelTask(id='ce96b951-4858-20fc-141f-f854f056da18', name='__start__', path=('__pregel_pull', '__start__'), error=None, interrupts=(), state=None, result={'topic': 'pasta'}),), interrupts=()),\n",
       " StateSnapshot(values={'topic': 'pasta', 'joke': 'Why did the pasta get arrested?\\n\\nBecause it was an **impasta**!', 'explanation': 'This joke is a classic example of a **pun**, which is a play on words that have similar sounds but different meanings.\\n\\nHere\\'s the breakdown:\\n\\n1.  **\"Impasta\"**: This is the punchline.\\n2.  **\"Impostor\"**: This is the word \"impasta\" sounds exactly like. An **impostor** is a person who pretends to be someone else in order to deceive or defraud others. People who act as impostors can get arrested for fraud, identity theft, or other deceptive crimes.\\n3.  **\"Pasta\"**: The setup of the joke is about a piece of pasta.\\n\\nThe humor comes from the silly idea that a piece of pasta could commit a crime by being an \"impostor\" (an \"impasta\"), pretending to be something it\\'s not, just like a human impostor. It\\'s a lighthearted, unexpected twist on the word \"impostor\" using a food item.'}, next=(), config={'configurable': {'thread_id': '2', 'checkpoint_ns': '', 'checkpoint_id': '1f0702c4-239c-6bc0-8002-94d91cbc279e'}}, metadata={'source': 'loop', 'step': 2, 'parents': {}, 'thread_id': '2'}, created_at='2025-08-03T05:39:44.044128+00:00', parent_config={'configurable': {'thread_id': '2', 'checkpoint_ns': '', 'checkpoint_id': '1f0702c3-e926-699f-8001-07c3d56e9917'}}, tasks=(), interrupts=()),\n",
       " StateSnapshot(values={'topic': 'pasta', 'joke': 'Why did the pasta get arrested?\\n\\nBecause it was an **impasta**!'}, next=('generate_explanation',), config={'configurable': {'thread_id': '2', 'checkpoint_ns': '', 'checkpoint_id': '1f0702c3-e926-699f-8001-07c3d56e9917'}}, metadata={'source': 'loop', 'step': 1, 'parents': {}, 'thread_id': '2'}, created_at='2025-08-03T05:39:37.913999+00:00', parent_config={'configurable': {'thread_id': '2', 'checkpoint_ns': '', 'checkpoint_id': '1f0702c3-9d95-64ab-8000-412b7915cfd6'}}, tasks=(PregelTask(id='8676fcff-844a-07a2-3e68-d3cfbfb95f5e', name='generate_explanation', path=('__pregel_pull', 'generate_explanation'), error=None, interrupts=(), state=None, result={'explanation': 'This joke is a classic example of a **pun**, which is a play on words that have similar sounds but different meanings.\\n\\nHere\\'s the breakdown:\\n\\n1.  **\"Impasta\"**: This is the punchline.\\n2.  **\"Impostor\"**: This is the word \"impasta\" sounds exactly like. An **impostor** is a person who pretends to be someone else in order to deceive or defraud others. People who act as impostors can get arrested for fraud, identity theft, or other deceptive crimes.\\n3.  **\"Pasta\"**: The setup of the joke is about a piece of pasta.\\n\\nThe humor comes from the silly idea that a piece of pasta could commit a crime by being an \"impostor\" (an \"impasta\"), pretending to be something it\\'s not, just like a human impostor. It\\'s a lighthearted, unexpected twist on the word \"impostor\" using a food item.'}),), interrupts=()),\n",
       " StateSnapshot(values={'topic': 'pasta'}, next=('generate_joke',), config={'configurable': {'thread_id': '2', 'checkpoint_ns': '', 'checkpoint_id': '1f0702c3-9d95-64ab-8000-412b7915cfd6'}}, metadata={'source': 'loop', 'step': 0, 'parents': {}, 'thread_id': '2'}, created_at='2025-08-03T05:39:29.990161+00:00', parent_config={'configurable': {'thread_id': '2', 'checkpoint_ns': '', 'checkpoint_id': '1f0702c3-9d8e-6e21-bfff-d61aba4fac57'}}, tasks=(PregelTask(id='3375edc9-8ffd-8ad7-232a-3a5ac7756460', name='generate_joke', path=('__pregel_pull', 'generate_joke'), error=None, interrupts=(), state=None, result={'joke': 'Why did the pasta get arrested?\\n\\nBecause it was an **impasta**!'}),), interrupts=()),\n",
       " StateSnapshot(values={}, next=('__start__',), config={'configurable': {'thread_id': '2', 'checkpoint_ns': '', 'checkpoint_id': '1f0702c3-9d8e-6e21-bfff-d61aba4fac57'}}, metadata={'source': 'input', 'step': -1, 'parents': {}, 'thread_id': '2'}, created_at='2025-08-03T05:39:29.987536+00:00', parent_config=None, tasks=(PregelTask(id='f4358db4-a054-0679-bda9-aeb94ffaf53f', name='__start__', path=('__pregel_pull', '__start__'), error=None, interrupts=(), state=None, result={'topic': 'pasta'}),), interrupts=())]"
      ]
     },
     "execution_count": 28,
     "metadata": {},
     "output_type": "execute_result"
    }
   ],
   "source": [
    "list(workflow.get_state_history(config2))"
   ]
  },
  {
   "cell_type": "code",
   "execution_count": 29,
   "id": "4373687f",
   "metadata": {},
   "outputs": [
    {
     "data": {
      "text/plain": [
       "[StateSnapshot(values={'topic': 'pasta', 'joke': 'Why did the pasta break up with the sauce?\\n\\nBecause it felt too **smothered**!', 'explanation': 'This joke plays on the double meaning of the word \"smothered\":\\n\\n1.  **Literal Meaning (Food):** When pasta is served with a very thick or abundant amount of sauce, it\\'s often described as being \"smothered\" in sauce. The sauce completely covers and envelops the pasta.\\n\\n2.  **Figurative Meaning (Relationships):** In a relationship, someone feels \"smothered\" when they feel overwhelmed, suffocated, or controlled by another person\\'s excessive attention, affection, or demands. It implies a lack of personal space or independence.\\n\\nThe humor comes from **personifying** the pasta and giving it human feelings. It takes a literal description of how pasta is served (\"smothered in sauce\") and applies the figurative, emotional meaning of \"smothered\" to explain why it would \"break up\" with the sauce. The punchline makes a relatable human relationship problem out of a culinary term.'}, next=(), config={'configurable': {'thread_id': '2', 'checkpoint_ns': '', 'checkpoint_id': '1f0706d0-89f4-6ff1-8006-1e266ec54235'}}, metadata={'source': 'loop', 'step': 6, 'parents': {}, 'thread_id': '2'}, created_at='2025-08-03T13:23:24.688996+00:00', parent_config={'configurable': {'thread_id': '2', 'checkpoint_ns': '', 'checkpoint_id': '1f0706d0-51e3-6980-8005-204abf4d6cee'}}, tasks=(), interrupts=()),\n",
       " StateSnapshot(values={'topic': 'pasta', 'joke': 'Why did the pasta break up with the sauce?\\n\\nBecause it felt too **smothered**!', 'explanation': 'This joke is a classic example of a **pun**, which is a play on words that have similar sounds but different meanings.\\n\\nHere\\'s the breakdown:\\n\\n1.  **\"Impasta\"**: This is the punchline.\\n2.  **\"Impostor\"**: This is the word \"impasta\" sounds exactly like. An **impostor** is a person who pretends to be someone else in order to deceive or defraud others. People who act as impostors can get arrested for fraud, identity theft, or other deceptive crimes.\\n3.  **\"Pasta\"**: The setup of the joke is about a piece of pasta.\\n\\nThe humor comes from the silly idea that a piece of pasta could commit a crime by being an \"impostor\" (an \"impasta\"), pretending to be something it\\'s not, just like a human impostor. It\\'s a lighthearted, unexpected twist on the word \"impostor\" using a food item.'}, next=('generate_explanation',), config={'configurable': {'thread_id': '2', 'checkpoint_ns': '', 'checkpoint_id': '1f0706d0-51e3-6980-8005-204abf4d6cee'}}, metadata={'source': 'loop', 'step': 5, 'parents': {}, 'thread_id': '2'}, created_at='2025-08-03T13:23:18.809843+00:00', parent_config={'configurable': {'thread_id': '2', 'checkpoint_ns': '', 'checkpoint_id': '1f0706cf-cc5c-6894-8004-3e4a3666b43a'}}, tasks=(PregelTask(id='7095fca9-329b-46fc-c069-0ccf22c52395', name='generate_explanation', path=('__pregel_pull', 'generate_explanation'), error=None, interrupts=(), state=None, result={'explanation': 'This joke plays on the double meaning of the word \"smothered\":\\n\\n1.  **Literal Meaning (Food):** When pasta is served with a very thick or abundant amount of sauce, it\\'s often described as being \"smothered\" in sauce. The sauce completely covers and envelops the pasta.\\n\\n2.  **Figurative Meaning (Relationships):** In a relationship, someone feels \"smothered\" when they feel overwhelmed, suffocated, or controlled by another person\\'s excessive attention, affection, or demands. It implies a lack of personal space or independence.\\n\\nThe humor comes from **personifying** the pasta and giving it human feelings. It takes a literal description of how pasta is served (\"smothered in sauce\") and applies the figurative, emotional meaning of \"smothered\" to explain why it would \"break up\" with the sauce. The punchline makes a relatable human relationship problem out of a culinary term.'}),), interrupts=()),\n",
       " StateSnapshot(values={'topic': 'pasta', 'joke': 'Why did the pasta get arrested?\\n\\nBecause it was an **impasta**!', 'explanation': 'This joke is a classic example of a **pun**, which is a play on words that have similar sounds but different meanings.\\n\\nHere\\'s the breakdown:\\n\\n1.  **\"Impasta\"**: This is the punchline.\\n2.  **\"Impostor\"**: This is the word \"impasta\" sounds exactly like. An **impostor** is a person who pretends to be someone else in order to deceive or defraud others. People who act as impostors can get arrested for fraud, identity theft, or other deceptive crimes.\\n3.  **\"Pasta\"**: The setup of the joke is about a piece of pasta.\\n\\nThe humor comes from the silly idea that a piece of pasta could commit a crime by being an \"impostor\" (an \"impasta\"), pretending to be something it\\'s not, just like a human impostor. It\\'s a lighthearted, unexpected twist on the word \"impostor\" using a food item.'}, next=('generate_joke',), config={'configurable': {'thread_id': '2', 'checkpoint_ns': '', 'checkpoint_id': '1f0706cf-cc5c-6894-8004-3e4a3666b43a'}}, metadata={'source': 'loop', 'step': 4, 'parents': {}, 'thread_id': '2'}, created_at='2025-08-03T13:23:04.808462+00:00', parent_config={'configurable': {'thread_id': '2', 'checkpoint_ns': '', 'checkpoint_id': '1f0706cf-cc48-6d25-8003-b0bf8a13c95e'}}, tasks=(PregelTask(id='b574a21e-53e2-6fb9-6dd6-96a77a91a9e1', name='generate_joke', path=('__pregel_pull', 'generate_joke'), error=None, interrupts=(), state=None, result={'joke': 'Why did the pasta break up with the sauce?\\n\\nBecause it felt too **smothered**!'}),), interrupts=()),\n",
       " StateSnapshot(values={'topic': 'pasta', 'joke': 'Why did the pasta get arrested?\\n\\nBecause it was an **impasta**!', 'explanation': 'This joke is a classic example of a **pun**, which is a play on words that have similar sounds but different meanings.\\n\\nHere\\'s the breakdown:\\n\\n1.  **\"Impasta\"**: This is the punchline.\\n2.  **\"Impostor\"**: This is the word \"impasta\" sounds exactly like. An **impostor** is a person who pretends to be someone else in order to deceive or defraud others. People who act as impostors can get arrested for fraud, identity theft, or other deceptive crimes.\\n3.  **\"Pasta\"**: The setup of the joke is about a piece of pasta.\\n\\nThe humor comes from the silly idea that a piece of pasta could commit a crime by being an \"impostor\" (an \"impasta\"), pretending to be something it\\'s not, just like a human impostor. It\\'s a lighthearted, unexpected twist on the word \"impostor\" using a food item.'}, next=('__start__',), config={'configurable': {'thread_id': '2', 'checkpoint_ns': '', 'checkpoint_id': '1f0706cf-cc48-6d25-8003-b0bf8a13c95e'}}, metadata={'source': 'input', 'step': 3, 'parents': {}, 'thread_id': '2'}, created_at='2025-08-03T13:23:04.800387+00:00', parent_config={'configurable': {'thread_id': '2', 'checkpoint_ns': '', 'checkpoint_id': '1f0702c4-239c-6bc0-8002-94d91cbc279e'}}, tasks=(PregelTask(id='ce96b951-4858-20fc-141f-f854f056da18', name='__start__', path=('__pregel_pull', '__start__'), error=None, interrupts=(), state=None, result={'topic': 'pasta'}),), interrupts=()),\n",
       " StateSnapshot(values={'topic': 'pasta', 'joke': 'Why did the pasta get arrested?\\n\\nBecause it was an **impasta**!', 'explanation': 'This joke is a classic example of a **pun**, which is a play on words that have similar sounds but different meanings.\\n\\nHere\\'s the breakdown:\\n\\n1.  **\"Impasta\"**: This is the punchline.\\n2.  **\"Impostor\"**: This is the word \"impasta\" sounds exactly like. An **impostor** is a person who pretends to be someone else in order to deceive or defraud others. People who act as impostors can get arrested for fraud, identity theft, or other deceptive crimes.\\n3.  **\"Pasta\"**: The setup of the joke is about a piece of pasta.\\n\\nThe humor comes from the silly idea that a piece of pasta could commit a crime by being an \"impostor\" (an \"impasta\"), pretending to be something it\\'s not, just like a human impostor. It\\'s a lighthearted, unexpected twist on the word \"impostor\" using a food item.'}, next=(), config={'configurable': {'thread_id': '2', 'checkpoint_ns': '', 'checkpoint_id': '1f0702c4-239c-6bc0-8002-94d91cbc279e'}}, metadata={'source': 'loop', 'step': 2, 'parents': {}, 'thread_id': '2'}, created_at='2025-08-03T05:39:44.044128+00:00', parent_config={'configurable': {'thread_id': '2', 'checkpoint_ns': '', 'checkpoint_id': '1f0702c3-e926-699f-8001-07c3d56e9917'}}, tasks=(), interrupts=()),\n",
       " StateSnapshot(values={'topic': 'pasta', 'joke': 'Why did the pasta get arrested?\\n\\nBecause it was an **impasta**!'}, next=('generate_explanation',), config={'configurable': {'thread_id': '2', 'checkpoint_ns': '', 'checkpoint_id': '1f0702c3-e926-699f-8001-07c3d56e9917'}}, metadata={'source': 'loop', 'step': 1, 'parents': {}, 'thread_id': '2'}, created_at='2025-08-03T05:39:37.913999+00:00', parent_config={'configurable': {'thread_id': '2', 'checkpoint_ns': '', 'checkpoint_id': '1f0702c3-9d95-64ab-8000-412b7915cfd6'}}, tasks=(PregelTask(id='8676fcff-844a-07a2-3e68-d3cfbfb95f5e', name='generate_explanation', path=('__pregel_pull', 'generate_explanation'), error=None, interrupts=(), state=None, result={'explanation': 'This joke is a classic example of a **pun**, which is a play on words that have similar sounds but different meanings.\\n\\nHere\\'s the breakdown:\\n\\n1.  **\"Impasta\"**: This is the punchline.\\n2.  **\"Impostor\"**: This is the word \"impasta\" sounds exactly like. An **impostor** is a person who pretends to be someone else in order to deceive or defraud others. People who act as impostors can get arrested for fraud, identity theft, or other deceptive crimes.\\n3.  **\"Pasta\"**: The setup of the joke is about a piece of pasta.\\n\\nThe humor comes from the silly idea that a piece of pasta could commit a crime by being an \"impostor\" (an \"impasta\"), pretending to be something it\\'s not, just like a human impostor. It\\'s a lighthearted, unexpected twist on the word \"impostor\" using a food item.'}),), interrupts=()),\n",
       " StateSnapshot(values={'topic': 'pasta'}, next=('generate_joke',), config={'configurable': {'thread_id': '2', 'checkpoint_ns': '', 'checkpoint_id': '1f0702c3-9d95-64ab-8000-412b7915cfd6'}}, metadata={'source': 'loop', 'step': 0, 'parents': {}, 'thread_id': '2'}, created_at='2025-08-03T05:39:29.990161+00:00', parent_config={'configurable': {'thread_id': '2', 'checkpoint_ns': '', 'checkpoint_id': '1f0702c3-9d8e-6e21-bfff-d61aba4fac57'}}, tasks=(PregelTask(id='3375edc9-8ffd-8ad7-232a-3a5ac7756460', name='generate_joke', path=('__pregel_pull', 'generate_joke'), error=None, interrupts=(), state=None, result={'joke': 'Why did the pasta get arrested?\\n\\nBecause it was an **impasta**!'}),), interrupts=()),\n",
       " StateSnapshot(values={}, next=('__start__',), config={'configurable': {'thread_id': '2', 'checkpoint_ns': '', 'checkpoint_id': '1f0702c3-9d8e-6e21-bfff-d61aba4fac57'}}, metadata={'source': 'input', 'step': -1, 'parents': {}, 'thread_id': '2'}, created_at='2025-08-03T05:39:29.987536+00:00', parent_config=None, tasks=(PregelTask(id='f4358db4-a054-0679-bda9-aeb94ffaf53f', name='__start__', path=('__pregel_pull', '__start__'), error=None, interrupts=(), state=None, result={'topic': 'pasta'}),), interrupts=())]"
      ]
     },
     "execution_count": 29,
     "metadata": {},
     "output_type": "execute_result"
    }
   ],
   "source": [
    "list(workflow.get_state_history(config2))"
   ]
  },
  {
   "cell_type": "markdown",
   "id": "bb9acc5a",
   "metadata": {},
   "source": [
    "Fault Tolerance"
   ]
  },
  {
   "cell_type": "code",
   "execution_count": null,
   "id": "d037529b",
   "metadata": {},
   "outputs": [],
   "source": [
    "import time"
   ]
  },
  {
   "cell_type": "code",
   "execution_count": 16,
   "id": "70c588ba",
   "metadata": {},
   "outputs": [],
   "source": [
    "class CrashState(TypedDict):\n",
    "    input: str\n",
    "    step1: str\n",
    "    step2: str\n",
    "    step3: str"
   ]
  },
  {
   "cell_type": "code",
   "execution_count": 18,
   "id": "cc089cd5",
   "metadata": {},
   "outputs": [],
   "source": [
    "def step_1(state: CrashState) -> CrashState:\n",
    "    print(\"✅ Step 1 executed\")\n",
    "    return {\"step1\": \"done\", \"input\": state[\"input\"]}\n",
    "\n",
    "def step_2(state: CrashState) -> CrashState:\n",
    "    print(\"⏳ Step 2 hanging... now manually interrupt from the notebook toolbar (STOP button)\")\n",
    "    time.sleep(100)  # Simulate long-running hang\n",
    "    return {\"step2\": \"done\"}\n",
    "\n",
    "def step_3(state: CrashState) -> CrashState:\n",
    "    print(\"✅ Step 3 executed\")\n",
    "    return {\"step3\": \"done\"}"
   ]
  },
  {
   "cell_type": "code",
   "execution_count": 19,
   "id": "feb4c1fc",
   "metadata": {},
   "outputs": [],
   "source": [
    "builder = StateGraph(CrashState)\n",
    "builder.add_node(\"step_1\", step_1)\n",
    "builder.add_node(\"step_2\", step_2)\n",
    "builder.add_node(\"step_3\", step_3)\n",
    "\n",
    "builder.set_entry_point(\"step_1\")\n",
    "builder.add_edge(\"step_1\", \"step_2\")\n",
    "builder.add_edge(\"step_2\", \"step_3\")\n",
    "builder.add_edge(\"step_3\", END)\n",
    "\n",
    "checkpointer = InMemorySaver()\n",
    "graph = builder.compile(checkpointer=checkpointer)"
   ]
  },
  {
   "cell_type": "code",
   "execution_count": 20,
   "id": "4918396f",
   "metadata": {},
   "outputs": [
    {
     "name": "stdout",
     "output_type": "stream",
     "text": [
      "▶️ Running graph: Please manually interrupt during Step 2...\n",
      "✅ Step 1 executed\n",
      "⏳ Step 2 hanging... now manually interrupt from the notebook toolbar (STOP button)\n",
      "❌ Kernel manually interrupted (crash simulated).\n"
     ]
    }
   ],
   "source": [
    "try:\n",
    "    print(\"▶️ Running graph: Please manually interrupt during Step 2...\")\n",
    "    graph.invoke({\"input\": \"start\"}, config={\"configurable\": {\"thread_id\": 'thread-1'}})\n",
    "except KeyboardInterrupt:\n",
    "    print(\"❌ Kernel manually interrupted (crash simulated).\")"
   ]
  },
  {
   "cell_type": "code",
   "execution_count": 22,
   "id": "d996c285",
   "metadata": {},
   "outputs": [
    {
     "data": {
      "text/plain": [
       "StateSnapshot(values={'input': 'start', 'step1': 'done'}, next=('step_2',), config={'configurable': {'thread_id': 'thread-1', 'checkpoint_ns': '', 'checkpoint_id': '1f0702d6-4510-6263-8001-4b826f97683c'}}, metadata={'source': 'loop', 'step': 1, 'parents': {}, 'thread_id': 'thread-1'}, created_at='2025-08-03T05:47:50.735523+00:00', parent_config={'configurable': {'thread_id': 'thread-1', 'checkpoint_ns': '', 'checkpoint_id': '1f0702d6-450c-673c-8000-385aad5af456'}}, tasks=(PregelTask(id='d21448df-347c-6a57-8e85-095da8cff5b0', name='step_2', path=('__pregel_pull', 'step_2'), error=None, interrupts=(), state=None, result=None),), interrupts=())"
      ]
     },
     "execution_count": 22,
     "metadata": {},
     "output_type": "execute_result"
    }
   ],
   "source": [
    "graph.get_state({\"configurable\": {\"thread_id\": 'thread-1'}})"
   ]
  },
  {
   "cell_type": "code",
   "execution_count": 23,
   "id": "ea931b52",
   "metadata": {},
   "outputs": [
    {
     "data": {
      "text/plain": [
       "[StateSnapshot(values={'input': 'start', 'step1': 'done'}, next=('step_2',), config={'configurable': {'thread_id': 'thread-1', 'checkpoint_ns': '', 'checkpoint_id': '1f0702d6-4510-6263-8001-4b826f97683c'}}, metadata={'source': 'loop', 'step': 1, 'parents': {}, 'thread_id': 'thread-1'}, created_at='2025-08-03T05:47:50.735523+00:00', parent_config={'configurable': {'thread_id': 'thread-1', 'checkpoint_ns': '', 'checkpoint_id': '1f0702d6-450c-673c-8000-385aad5af456'}}, tasks=(PregelTask(id='d21448df-347c-6a57-8e85-095da8cff5b0', name='step_2', path=('__pregel_pull', 'step_2'), error=None, interrupts=(), state=None, result=None),), interrupts=()),\n",
       " StateSnapshot(values={'input': 'start'}, next=('step_1',), config={'configurable': {'thread_id': 'thread-1', 'checkpoint_ns': '', 'checkpoint_id': '1f0702d6-450c-673c-8000-385aad5af456'}}, metadata={'source': 'loop', 'step': 0, 'parents': {}, 'thread_id': 'thread-1'}, created_at='2025-08-03T05:47:50.734009+00:00', parent_config={'configurable': {'thread_id': 'thread-1', 'checkpoint_ns': '', 'checkpoint_id': '1f0702d6-4506-678a-bfff-5f3db242c77a'}}, tasks=(PregelTask(id='1e839cf0-1d26-733a-209a-84e807f6c880', name='step_1', path=('__pregel_pull', 'step_1'), error=None, interrupts=(), state=None, result={'step1': 'done', 'input': 'start'}),), interrupts=()),\n",
       " StateSnapshot(values={}, next=('__start__',), config={'configurable': {'thread_id': 'thread-1', 'checkpoint_ns': '', 'checkpoint_id': '1f0702d6-4506-678a-bfff-5f3db242c77a'}}, metadata={'source': 'input', 'step': -1, 'parents': {}, 'thread_id': 'thread-1'}, created_at='2025-08-03T05:47:50.731559+00:00', parent_config=None, tasks=(PregelTask(id='17ddebae-b5ea-70ac-be98-c468658eb707', name='__start__', path=('__pregel_pull', '__start__'), error=None, interrupts=(), state=None, result={'input': 'start'}),), interrupts=())]"
      ]
     },
     "execution_count": 23,
     "metadata": {},
     "output_type": "execute_result"
    }
   ],
   "source": [
    "list(graph.get_state_history({\"configurable\": {\"thread_id\": 'thread-1'}}))"
   ]
  },
  {
   "cell_type": "code",
   "execution_count": 24,
   "id": "06734614",
   "metadata": {},
   "outputs": [
    {
     "name": "stdout",
     "output_type": "stream",
     "text": [
      "\n",
      "🔁 Re-running the graph to demonstrate fault tolerance...\n",
      "⏳ Step 2 hanging... now manually interrupt from the notebook toolbar (STOP button)\n",
      "✅ Step 3 executed\n",
      "\n",
      "✅ Final State: {'input': 'start', 'step1': 'done', 'step2': 'done', 'step3': 'done'}\n"
     ]
    }
   ],
   "source": [
    "# 6. Re-run to show fault-tolerant resume\n",
    "print(\"\\n🔁 Re-running the graph to demonstrate fault tolerance...\")\n",
    "final_state = graph.invoke(None, config={\"configurable\": {\"thread_id\": 'thread-1'}})\n",
    "print(\"\\n✅ Final State:\", final_state)"
   ]
  },
  {
   "cell_type": "code",
   "execution_count": 25,
   "id": "dbd767a5",
   "metadata": {},
   "outputs": [
    {
     "data": {
      "text/plain": [
       "[StateSnapshot(values={'input': 'start', 'step1': 'done', 'step2': 'done', 'step3': 'done'}, next=(), config={'configurable': {'thread_id': 'thread-1', 'checkpoint_ns': '', 'checkpoint_id': '1f0706b3-a0ea-6278-8003-66534f6a63a2'}}, metadata={'source': 'loop', 'step': 3, 'parents': {}, 'thread_id': 'thread-1'}, created_at='2025-08-03T13:10:28.633458+00:00', parent_config={'configurable': {'thread_id': 'thread-1', 'checkpoint_ns': '', 'checkpoint_id': '1f0706b3-a0d9-6128-8002-dc574e322020'}}, tasks=(), interrupts=()),\n",
       " StateSnapshot(values={'input': 'start', 'step1': 'done', 'step2': 'done'}, next=('step_3',), config={'configurable': {'thread_id': 'thread-1', 'checkpoint_ns': '', 'checkpoint_id': '1f0706b3-a0d9-6128-8002-dc574e322020'}}, metadata={'source': 'loop', 'step': 2, 'parents': {}, 'thread_id': 'thread-1'}, created_at='2025-08-03T13:10:28.625457+00:00', parent_config={'configurable': {'thread_id': 'thread-1', 'checkpoint_ns': '', 'checkpoint_id': '1f0702d6-4510-6263-8001-4b826f97683c'}}, tasks=(PregelTask(id='79a1e421-038e-92a9-2eb4-d833c5db5cdf', name='step_3', path=('__pregel_pull', 'step_3'), error=None, interrupts=(), state=None, result={'step3': 'done'}),), interrupts=()),\n",
       " StateSnapshot(values={'input': 'start', 'step1': 'done'}, next=('step_2',), config={'configurable': {'thread_id': 'thread-1', 'checkpoint_ns': '', 'checkpoint_id': '1f0702d6-4510-6263-8001-4b826f97683c'}}, metadata={'source': 'loop', 'step': 1, 'parents': {}, 'thread_id': 'thread-1'}, created_at='2025-08-03T05:47:50.735523+00:00', parent_config={'configurable': {'thread_id': 'thread-1', 'checkpoint_ns': '', 'checkpoint_id': '1f0702d6-450c-673c-8000-385aad5af456'}}, tasks=(PregelTask(id='d21448df-347c-6a57-8e85-095da8cff5b0', name='step_2', path=('__pregel_pull', 'step_2'), error=None, interrupts=(), state=None, result={'step2': 'done'}),), interrupts=()),\n",
       " StateSnapshot(values={'input': 'start'}, next=('step_1',), config={'configurable': {'thread_id': 'thread-1', 'checkpoint_ns': '', 'checkpoint_id': '1f0702d6-450c-673c-8000-385aad5af456'}}, metadata={'source': 'loop', 'step': 0, 'parents': {}, 'thread_id': 'thread-1'}, created_at='2025-08-03T05:47:50.734009+00:00', parent_config={'configurable': {'thread_id': 'thread-1', 'checkpoint_ns': '', 'checkpoint_id': '1f0702d6-4506-678a-bfff-5f3db242c77a'}}, tasks=(PregelTask(id='1e839cf0-1d26-733a-209a-84e807f6c880', name='step_1', path=('__pregel_pull', 'step_1'), error=None, interrupts=(), state=None, result={'step1': 'done', 'input': 'start'}),), interrupts=()),\n",
       " StateSnapshot(values={}, next=('__start__',), config={'configurable': {'thread_id': 'thread-1', 'checkpoint_ns': '', 'checkpoint_id': '1f0702d6-4506-678a-bfff-5f3db242c77a'}}, metadata={'source': 'input', 'step': -1, 'parents': {}, 'thread_id': 'thread-1'}, created_at='2025-08-03T05:47:50.731559+00:00', parent_config=None, tasks=(PregelTask(id='17ddebae-b5ea-70ac-be98-c468658eb707', name='__start__', path=('__pregel_pull', '__start__'), error=None, interrupts=(), state=None, result={'input': 'start'}),), interrupts=())]"
      ]
     },
     "execution_count": 25,
     "metadata": {},
     "output_type": "execute_result"
    }
   ],
   "source": [
    "list(graph.get_state_history({\"configurable\": {\"thread_id\": 'thread-1'}}))"
   ]
  },
  {
   "cell_type": "markdown",
   "id": "8d26c9ea",
   "metadata": {},
   "source": [
    "Time Travel"
   ]
  },
  {
   "cell_type": "code",
   "execution_count": 31,
   "id": "069954ce",
   "metadata": {},
   "outputs": [
    {
     "data": {
      "text/plain": [
       "StateSnapshot(values={'topic': 'pizza'}, next=('generate_joke',), config={'configurable': {'thread_id': '1', 'checkpoint_id': '1f0702be-d54a-6a72-8000-2a533a1aca91'}}, metadata={'source': 'loop', 'step': 0, 'parents': {}, 'thread_id': '1'}, created_at='2025-08-03T05:37:21.613886+00:00', parent_config={'configurable': {'thread_id': '1', 'checkpoint_ns': '', 'checkpoint_id': '1f0702be-d543-6550-bfff-4e4b4b013573'}}, tasks=(PregelTask(id='3850dc68-6793-3b02-e28c-0f3b1c88a61a', name='generate_joke', path=('__pregel_pull', 'generate_joke'), error=None, interrupts=(), state=None, result={'joke': 'Why did the pizza apply for a loan?\\nBecause it was a little short on **dough**!'}),), interrupts=())"
      ]
     },
     "execution_count": 31,
     "metadata": {},
     "output_type": "execute_result"
    }
   ],
   "source": [
    "workflow.get_state({'configurable': {'thread_id': '1', 'checkpoint_id': '1f0702be-d54a-6a72-8000-2a533a1aca91'}})"
   ]
  },
  {
   "cell_type": "code",
   "execution_count": 32,
   "id": "e74974c2",
   "metadata": {},
   "outputs": [
    {
     "data": {
      "text/plain": [
       "{'topic': 'pizza',\n",
       " 'joke': 'Why did the pizza get a promotion?\\n\\nBecause it had enough **dough**!',\n",
       " 'explanation': 'This is a classic pun! Here\\'s why it\\'s funny:\\n\\n1.  **\"Dough\" (Meaning 1 - Literal):** \"Dough\" is the unbaked mixture of flour, water, etc., that the crust of a pizza is made from. So, a pizza literally has \"dough.\"\\n\\n2.  **\"Dough\" (Meaning 2 - Slang):** \"Dough\" is a common slang term for **money**.\\n\\nThe humor comes from the double meaning.\\n\\n*   When we hear \"Why did the pizza get a promotion?\", our minds might first think of the literal pizza dough.\\n*   But \"getting a promotion\" in a job usually means you\\'re moving up, getting more responsibility, and (most importantly for the joke) **earning more money**.\\n\\nSo, the joke plays on the idea that the pizza \"had enough **money**\" (dough) to be considered valuable or successful enough for a promotion, even though it\\'s a pizza and its \"dough\" is just its crust!'}"
      ]
     },
     "execution_count": 32,
     "metadata": {},
     "output_type": "execute_result"
    }
   ],
   "source": [
    "workflow.invoke(None,{'configurable': {'thread_id': '1', 'checkpoint_id': '1f0702be-d54a-6a72-8000-2a533a1aca91'}})"
   ]
  },
  {
   "cell_type": "code",
   "execution_count": 33,
   "id": "4e52ee8e",
   "metadata": {},
   "outputs": [
    {
     "data": {
      "text/plain": [
       "[StateSnapshot(values={'topic': 'pizza', 'joke': 'Why did the pizza get a promotion?\\n\\nBecause it had enough **dough**!', 'explanation': 'This is a classic pun! Here\\'s why it\\'s funny:\\n\\n1.  **\"Dough\" (Meaning 1 - Literal):** \"Dough\" is the unbaked mixture of flour, water, etc., that the crust of a pizza is made from. So, a pizza literally has \"dough.\"\\n\\n2.  **\"Dough\" (Meaning 2 - Slang):** \"Dough\" is a common slang term for **money**.\\n\\nThe humor comes from the double meaning.\\n\\n*   When we hear \"Why did the pizza get a promotion?\", our minds might first think of the literal pizza dough.\\n*   But \"getting a promotion\" in a job usually means you\\'re moving up, getting more responsibility, and (most importantly for the joke) **earning more money**.\\n\\nSo, the joke plays on the idea that the pizza \"had enough **money**\" (dough) to be considered valuable or successful enough for a promotion, even though it\\'s a pizza and its \"dough\" is just its crust!'}, next=(), config={'configurable': {'thread_id': '1', 'checkpoint_ns': '', 'checkpoint_id': '1f0706e8-3150-6311-8002-3dc4526299e5'}}, metadata={'source': 'loop', 'step': 2, 'parents': {}, 'thread_id': '1'}, created_at='2025-08-03T13:33:59.639118+00:00', parent_config={'configurable': {'thread_id': '1', 'checkpoint_ns': '', 'checkpoint_id': '1f0706e7-f6f5-6723-8001-53d371e05a57'}}, tasks=(), interrupts=()),\n",
       " StateSnapshot(values={'topic': 'pizza', 'joke': 'Why did the pizza get a promotion?\\n\\nBecause it had enough **dough**!'}, next=('generate_explanation',), config={'configurable': {'thread_id': '1', 'checkpoint_ns': '', 'checkpoint_id': '1f0706e7-f6f5-6723-8001-53d371e05a57'}}, metadata={'source': 'loop', 'step': 1, 'parents': {}, 'thread_id': '1'}, created_at='2025-08-03T13:33:53.520208+00:00', parent_config={'configurable': {'thread_id': '1', 'checkpoint_ns': '', 'checkpoint_id': '1f0702be-d54a-6a72-8000-2a533a1aca91'}}, tasks=(PregelTask(id='91d67c1a-c476-1761-2204-9b853dcf31ac', name='generate_explanation', path=('__pregel_pull', 'generate_explanation'), error=None, interrupts=(), state=None, result={'explanation': 'This is a classic pun! Here\\'s why it\\'s funny:\\n\\n1.  **\"Dough\" (Meaning 1 - Literal):** \"Dough\" is the unbaked mixture of flour, water, etc., that the crust of a pizza is made from. So, a pizza literally has \"dough.\"\\n\\n2.  **\"Dough\" (Meaning 2 - Slang):** \"Dough\" is a common slang term for **money**.\\n\\nThe humor comes from the double meaning.\\n\\n*   When we hear \"Why did the pizza get a promotion?\", our minds might first think of the literal pizza dough.\\n*   But \"getting a promotion\" in a job usually means you\\'re moving up, getting more responsibility, and (most importantly for the joke) **earning more money**.\\n\\nSo, the joke plays on the idea that the pizza \"had enough **money**\" (dough) to be considered valuable or successful enough for a promotion, even though it\\'s a pizza and its \"dough\" is just its crust!'}),), interrupts=()),\n",
       " StateSnapshot(values={'topic': 'pizza', 'joke': 'Why did the pizza apply for a loan?\\nBecause it was a little short on **dough**!', 'explanation': 'This is a classic play on words, also known as a **pun**!\\n\\nHere\\'s why it\\'s funny:\\n\\n1.  **\"Short on dough\" (Meaning 1 - Slang for money):** When someone applies for a loan, it\\'s because they need money. In informal English, \"dough\" is a common slang term for money (like \"cash\" or \"bucks\"). So, if the pizza was \"short on dough,\" it means it didn\\'t have enough money. This is the meaning implied by the idea of applying for a loan.\\n\\n2.  **\"Dough\" (Meaning 2 - Literal ingredient):** \"Dough\" also literally refers to the main ingredient of pizza – the mixture of flour, water, yeast, etc., that the crust is made from. A pizza is quite literally made of dough!\\n\\nThe joke works because it cleverly uses the word \"dough\" to mean **both** things at once. The setup makes you think about money, but the punchline uses the word in a way that also refers directly to the pizza itself, creating a humorous and unexpected double meaning.'}, next=(), config={'configurable': {'thread_id': '1', 'checkpoint_ns': '', 'checkpoint_id': '1f0702bf-86dd-634d-8002-632009fbb773'}}, metadata={'source': 'loop', 'step': 2, 'parents': {}, 'thread_id': '1'}, created_at='2025-08-03T05:37:40.233710+00:00', parent_config={'configurable': {'thread_id': '1', 'checkpoint_ns': '', 'checkpoint_id': '1f0702bf-4767-6a2f-8001-8b11205db2da'}}, tasks=(), interrupts=()),\n",
       " StateSnapshot(values={'topic': 'pizza', 'joke': 'Why did the pizza apply for a loan?\\nBecause it was a little short on **dough**!'}, next=('generate_explanation',), config={'configurable': {'thread_id': '1', 'checkpoint_ns': '', 'checkpoint_id': '1f0702bf-4767-6a2f-8001-8b11205db2da'}}, metadata={'source': 'loop', 'step': 1, 'parents': {}, 'thread_id': '1'}, created_at='2025-08-03T05:37:33.579524+00:00', parent_config={'configurable': {'thread_id': '1', 'checkpoint_ns': '', 'checkpoint_id': '1f0702be-d54a-6a72-8000-2a533a1aca91'}}, tasks=(PregelTask(id='7271cdc0-8314-21fc-8a58-5eb779ec9698', name='generate_explanation', path=('__pregel_pull', 'generate_explanation'), error=None, interrupts=(), state=None, result={'explanation': 'This is a classic play on words, also known as a **pun**!\\n\\nHere\\'s why it\\'s funny:\\n\\n1.  **\"Short on dough\" (Meaning 1 - Slang for money):** When someone applies for a loan, it\\'s because they need money. In informal English, \"dough\" is a common slang term for money (like \"cash\" or \"bucks\"). So, if the pizza was \"short on dough,\" it means it didn\\'t have enough money. This is the meaning implied by the idea of applying for a loan.\\n\\n2.  **\"Dough\" (Meaning 2 - Literal ingredient):** \"Dough\" also literally refers to the main ingredient of pizza – the mixture of flour, water, yeast, etc., that the crust is made from. A pizza is quite literally made of dough!\\n\\nThe joke works because it cleverly uses the word \"dough\" to mean **both** things at once. The setup makes you think about money, but the punchline uses the word in a way that also refers directly to the pizza itself, creating a humorous and unexpected double meaning.'}),), interrupts=()),\n",
       " StateSnapshot(values={'topic': 'pizza'}, next=('generate_joke',), config={'configurable': {'thread_id': '1', 'checkpoint_ns': '', 'checkpoint_id': '1f0702be-d54a-6a72-8000-2a533a1aca91'}}, metadata={'source': 'loop', 'step': 0, 'parents': {}, 'thread_id': '1'}, created_at='2025-08-03T05:37:21.613886+00:00', parent_config={'configurable': {'thread_id': '1', 'checkpoint_ns': '', 'checkpoint_id': '1f0702be-d543-6550-bfff-4e4b4b013573'}}, tasks=(PregelTask(id='3850dc68-6793-3b02-e28c-0f3b1c88a61a', name='generate_joke', path=('__pregel_pull', 'generate_joke'), error=None, interrupts=(), state=None, result={'joke': 'Why did the pizza apply for a loan?\\nBecause it was a little short on **dough**!'}),), interrupts=()),\n",
       " StateSnapshot(values={}, next=('__start__',), config={'configurable': {'thread_id': '1', 'checkpoint_ns': '', 'checkpoint_id': '1f0702be-d543-6550-bfff-4e4b4b013573'}}, metadata={'source': 'input', 'step': -1, 'parents': {}, 'thread_id': '1'}, created_at='2025-08-03T05:37:21.610888+00:00', parent_config=None, tasks=(PregelTask(id='056dba2b-c7e1-c5f0-dba6-d1011cee6c56', name='__start__', path=('__pregel_pull', '__start__'), error=None, interrupts=(), state=None, result={'topic': 'pizza'}),), interrupts=())]"
      ]
     },
     "execution_count": 33,
     "metadata": {},
     "output_type": "execute_result"
    }
   ],
   "source": [
    "list(workflow.get_state_history(config1))"
   ]
  },
  {
   "cell_type": "markdown",
   "id": "a4d31073",
   "metadata": {},
   "source": [
    "Updating State"
   ]
  },
  {
   "cell_type": "code",
   "execution_count": 37,
   "id": "94efed40",
   "metadata": {},
   "outputs": [
    {
     "data": {
      "text/plain": [
       "{'configurable': {'thread_id': '1',\n",
       "  'checkpoint_ns': '',\n",
       "  'checkpoint_id': '1f07071f-5829-6ed0-8001-42baa638ff9d'}}"
      ]
     },
     "execution_count": 37,
     "metadata": {},
     "output_type": "execute_result"
    }
   ],
   "source": [
    "workflow.update_state({'configurable': {'thread_id': '1', 'checkpoint_ns': '', 'checkpoint_id': '1f0702be-d54a-6a72-8000-2a533a1aca91'}},{'topic': 'somosa'})"
   ]
  },
  {
   "cell_type": "code",
   "execution_count": 38,
   "id": "0bb537cc",
   "metadata": {},
   "outputs": [
    {
     "data": {
      "text/plain": [
       "[StateSnapshot(values={'topic': 'somosa'}, next=('generate_joke',), config={'configurable': {'thread_id': '1', 'checkpoint_ns': '', 'checkpoint_id': '1f07071f-5829-6ed0-8001-42baa638ff9d'}}, metadata={'source': 'update', 'step': 1, 'parents': {}, 'thread_id': '1'}, created_at='2025-08-03T13:58:40.107899+00:00', parent_config={'configurable': {'thread_id': '1', 'checkpoint_ns': '', 'checkpoint_id': '1f0702be-d54a-6a72-8000-2a533a1aca91'}}, tasks=(PregelTask(id='50974456-14ca-c337-6f96-aa54fe5a16bc', name='generate_joke', path=('__pregel_pull', 'generate_joke'), error=None, interrupts=(), state=None, result=None),), interrupts=()),\n",
       " StateSnapshot(values={'topic': 'pizza'}, next=('generate_joke',), config={'configurable': {'thread_id': '1', 'checkpoint_ns': '', 'checkpoint_id': '1f07071b-d387-6c91-8001-8af4ec1de1d5'}}, metadata={'source': 'update', 'step': 1, 'parents': {}, 'thread_id': '1'}, created_at='2025-08-03T13:57:05.669646+00:00', parent_config={'configurable': {'thread_id': '1', 'checkpoint_ns': '', 'checkpoint_id': '1f0702be-d54a-6a72-8000-2a533a1aca91'}}, tasks=(PregelTask(id='42f3ffda-d56d-eaa0-3c41-e6a8e2762e83', name='generate_joke', path=('__pregel_pull', 'generate_joke'), error=None, interrupts=(), state=None, result=None),), interrupts=()),\n",
       " StateSnapshot(values={'topic': 'pizza'}, next=('generate_joke',), config={'configurable': {'thread_id': '1', 'checkpoint_ns': '', 'checkpoint_id': '1f070718-e673-6d45-8000-2891ae2647c4'}}, metadata={'source': 'update', 'step': 0, 'parents': {}, 'thread_id': '1'}, created_at='2025-08-03T13:55:47.123130+00:00', parent_config={'configurable': {'thread_id': '1', 'checkpoint_ns': '', 'checkpoint_id': '1f0702be-d543-6550-bfff-4e4b4b013573'}}, tasks=(PregelTask(id='87308b9f-bdf0-edf1-728f-b91601bb3170', name='generate_joke', path=('__pregel_pull', 'generate_joke'), error=None, interrupts=(), state=None, result=None),), interrupts=()),\n",
       " StateSnapshot(values={'topic': 'pizza', 'joke': 'Why did the pizza get a promotion?\\n\\nBecause it had enough **dough**!', 'explanation': 'This is a classic pun! Here\\'s why it\\'s funny:\\n\\n1.  **\"Dough\" (Meaning 1 - Literal):** \"Dough\" is the unbaked mixture of flour, water, etc., that the crust of a pizza is made from. So, a pizza literally has \"dough.\"\\n\\n2.  **\"Dough\" (Meaning 2 - Slang):** \"Dough\" is a common slang term for **money**.\\n\\nThe humor comes from the double meaning.\\n\\n*   When we hear \"Why did the pizza get a promotion?\", our minds might first think of the literal pizza dough.\\n*   But \"getting a promotion\" in a job usually means you\\'re moving up, getting more responsibility, and (most importantly for the joke) **earning more money**.\\n\\nSo, the joke plays on the idea that the pizza \"had enough **money**\" (dough) to be considered valuable or successful enough for a promotion, even though it\\'s a pizza and its \"dough\" is just its crust!'}, next=(), config={'configurable': {'thread_id': '1', 'checkpoint_ns': '', 'checkpoint_id': '1f0706e8-3150-6311-8002-3dc4526299e5'}}, metadata={'source': 'loop', 'step': 2, 'parents': {}, 'thread_id': '1'}, created_at='2025-08-03T13:33:59.639118+00:00', parent_config={'configurable': {'thread_id': '1', 'checkpoint_ns': '', 'checkpoint_id': '1f0706e7-f6f5-6723-8001-53d371e05a57'}}, tasks=(), interrupts=()),\n",
       " StateSnapshot(values={'topic': 'pizza', 'joke': 'Why did the pizza get a promotion?\\n\\nBecause it had enough **dough**!'}, next=('generate_explanation',), config={'configurable': {'thread_id': '1', 'checkpoint_ns': '', 'checkpoint_id': '1f0706e7-f6f5-6723-8001-53d371e05a57'}}, metadata={'source': 'loop', 'step': 1, 'parents': {}, 'thread_id': '1'}, created_at='2025-08-03T13:33:53.520208+00:00', parent_config={'configurable': {'thread_id': '1', 'checkpoint_ns': '', 'checkpoint_id': '1f0702be-d54a-6a72-8000-2a533a1aca91'}}, tasks=(PregelTask(id='91d67c1a-c476-1761-2204-9b853dcf31ac', name='generate_explanation', path=('__pregel_pull', 'generate_explanation'), error=None, interrupts=(), state=None, result={'explanation': 'This is a classic pun! Here\\'s why it\\'s funny:\\n\\n1.  **\"Dough\" (Meaning 1 - Literal):** \"Dough\" is the unbaked mixture of flour, water, etc., that the crust of a pizza is made from. So, a pizza literally has \"dough.\"\\n\\n2.  **\"Dough\" (Meaning 2 - Slang):** \"Dough\" is a common slang term for **money**.\\n\\nThe humor comes from the double meaning.\\n\\n*   When we hear \"Why did the pizza get a promotion?\", our minds might first think of the literal pizza dough.\\n*   But \"getting a promotion\" in a job usually means you\\'re moving up, getting more responsibility, and (most importantly for the joke) **earning more money**.\\n\\nSo, the joke plays on the idea that the pizza \"had enough **money**\" (dough) to be considered valuable or successful enough for a promotion, even though it\\'s a pizza and its \"dough\" is just its crust!'}),), interrupts=()),\n",
       " StateSnapshot(values={'topic': 'pizza', 'joke': 'Why did the pizza apply for a loan?\\nBecause it was a little short on **dough**!', 'explanation': 'This is a classic play on words, also known as a **pun**!\\n\\nHere\\'s why it\\'s funny:\\n\\n1.  **\"Short on dough\" (Meaning 1 - Slang for money):** When someone applies for a loan, it\\'s because they need money. In informal English, \"dough\" is a common slang term for money (like \"cash\" or \"bucks\"). So, if the pizza was \"short on dough,\" it means it didn\\'t have enough money. This is the meaning implied by the idea of applying for a loan.\\n\\n2.  **\"Dough\" (Meaning 2 - Literal ingredient):** \"Dough\" also literally refers to the main ingredient of pizza – the mixture of flour, water, yeast, etc., that the crust is made from. A pizza is quite literally made of dough!\\n\\nThe joke works because it cleverly uses the word \"dough\" to mean **both** things at once. The setup makes you think about money, but the punchline uses the word in a way that also refers directly to the pizza itself, creating a humorous and unexpected double meaning.'}, next=(), config={'configurable': {'thread_id': '1', 'checkpoint_ns': '', 'checkpoint_id': '1f0702bf-86dd-634d-8002-632009fbb773'}}, metadata={'source': 'loop', 'step': 2, 'parents': {}, 'thread_id': '1'}, created_at='2025-08-03T05:37:40.233710+00:00', parent_config={'configurable': {'thread_id': '1', 'checkpoint_ns': '', 'checkpoint_id': '1f0702bf-4767-6a2f-8001-8b11205db2da'}}, tasks=(), interrupts=()),\n",
       " StateSnapshot(values={'topic': 'pizza', 'joke': 'Why did the pizza apply for a loan?\\nBecause it was a little short on **dough**!'}, next=('generate_explanation',), config={'configurable': {'thread_id': '1', 'checkpoint_ns': '', 'checkpoint_id': '1f0702bf-4767-6a2f-8001-8b11205db2da'}}, metadata={'source': 'loop', 'step': 1, 'parents': {}, 'thread_id': '1'}, created_at='2025-08-03T05:37:33.579524+00:00', parent_config={'configurable': {'thread_id': '1', 'checkpoint_ns': '', 'checkpoint_id': '1f0702be-d54a-6a72-8000-2a533a1aca91'}}, tasks=(PregelTask(id='7271cdc0-8314-21fc-8a58-5eb779ec9698', name='generate_explanation', path=('__pregel_pull', 'generate_explanation'), error=None, interrupts=(), state=None, result={'explanation': 'This is a classic play on words, also known as a **pun**!\\n\\nHere\\'s why it\\'s funny:\\n\\n1.  **\"Short on dough\" (Meaning 1 - Slang for money):** When someone applies for a loan, it\\'s because they need money. In informal English, \"dough\" is a common slang term for money (like \"cash\" or \"bucks\"). So, if the pizza was \"short on dough,\" it means it didn\\'t have enough money. This is the meaning implied by the idea of applying for a loan.\\n\\n2.  **\"Dough\" (Meaning 2 - Literal ingredient):** \"Dough\" also literally refers to the main ingredient of pizza – the mixture of flour, water, yeast, etc., that the crust is made from. A pizza is quite literally made of dough!\\n\\nThe joke works because it cleverly uses the word \"dough\" to mean **both** things at once. The setup makes you think about money, but the punchline uses the word in a way that also refers directly to the pizza itself, creating a humorous and unexpected double meaning.'}),), interrupts=()),\n",
       " StateSnapshot(values={'topic': 'pizza'}, next=('generate_joke',), config={'configurable': {'thread_id': '1', 'checkpoint_ns': '', 'checkpoint_id': '1f0702be-d54a-6a72-8000-2a533a1aca91'}}, metadata={'source': 'loop', 'step': 0, 'parents': {}, 'thread_id': '1'}, created_at='2025-08-03T05:37:21.613886+00:00', parent_config={'configurable': {'thread_id': '1', 'checkpoint_ns': '', 'checkpoint_id': '1f0702be-d543-6550-bfff-4e4b4b013573'}}, tasks=(PregelTask(id='3850dc68-6793-3b02-e28c-0f3b1c88a61a', name='generate_joke', path=('__pregel_pull', 'generate_joke'), error=None, interrupts=(), state=None, result={'joke': 'Why did the pizza apply for a loan?\\nBecause it was a little short on **dough**!'}),), interrupts=()),\n",
       " StateSnapshot(values={}, next=('__start__',), config={'configurable': {'thread_id': '1', 'checkpoint_ns': '', 'checkpoint_id': '1f0702be-d543-6550-bfff-4e4b4b013573'}}, metadata={'source': 'input', 'step': -1, 'parents': {}, 'thread_id': '1'}, created_at='2025-08-03T05:37:21.610888+00:00', parent_config=None, tasks=(PregelTask(id='056dba2b-c7e1-c5f0-dba6-d1011cee6c56', name='__start__', path=('__pregel_pull', '__start__'), error=None, interrupts=(), state=None, result={'topic': 'pizza'}),), interrupts=())]"
      ]
     },
     "execution_count": 38,
     "metadata": {},
     "output_type": "execute_result"
    }
   ],
   "source": [
    "list(workflow.get_state_history(config1))\n"
   ]
  },
  {
   "cell_type": "code",
   "execution_count": 40,
   "id": "077cea20",
   "metadata": {},
   "outputs": [
    {
     "data": {
      "text/plain": [
       "{'topic': 'somosa',\n",
       " 'joke': 'Why was the samosa always so stressed out?\\n\\nBecause it felt constantly *stuffed* with problems, and was trying to keep a *crisp* exterior!',\n",
       " 'explanation': 'This joke is a play on words, using the literal characteristics of a samosa to describe very human feelings of stress and anxiety.\\n\\nHere\\'s the breakdown:\\n\\n1.  **\"Stuffed\" with problems:**\\n    *   **Literal meaning (for a samosa):** A samosa is literally \"stuffed\" or filled with a delicious mixture of potatoes, peas, and spices.\\n    *   **Figurative meaning (for a person):** When someone says they are \"stuffed with problems,\" it means they are overwhelmed, burdened, or have too many issues and worries to handle.\\n\\n2.  **Keeping a \"crisp\" exterior:**\\n    *   **Literal meaning (for a samosa):** A well-made samosa has a \"crisp\" or crunchy outer pastry shell, which is part of its appeal.\\n    *   **Figurative meaning (for a person):** To keep a \"crisp exterior\" means to appear calm, composed, and in control on the outside, even when you\\'re feeling stressed, anxious, or overwhelmed on the inside. It\\'s about maintaining a facade of being put-together.\\n\\n**Why it\\'s funny:**\\n\\nThe humor comes from the **anthropomorphism** (giving human qualities to an inanimate object) and the clever **pun** on the words \"stuffed\" and \"crisp.\" We can all relate to feeling \"stuffed with problems\" and trying to maintain a \"crisp exterior\" in our own lives, so applying these very human experiences to a samosa creates a relatable and amusing image.'}"
      ]
     },
     "execution_count": 40,
     "metadata": {},
     "output_type": "execute_result"
    }
   ],
   "source": [
    "workflow.invoke(None,{'configurable': {'thread_id': '1', 'checkpoint_id': '1f07071f-5829-6ed0-8001-42baa638ff9d'}})"
   ]
  },
  {
   "cell_type": "code",
   "execution_count": 41,
   "id": "0bd535ff",
   "metadata": {},
   "outputs": [
    {
     "data": {
      "text/plain": [
       "[StateSnapshot(values={'topic': 'somosa', 'joke': 'Why was the samosa always so stressed out?\\n\\nBecause it felt constantly *stuffed* with problems, and was trying to keep a *crisp* exterior!', 'explanation': 'This joke is a play on words, using the literal characteristics of a samosa to describe very human feelings of stress and anxiety.\\n\\nHere\\'s the breakdown:\\n\\n1.  **\"Stuffed\" with problems:**\\n    *   **Literal meaning (for a samosa):** A samosa is literally \"stuffed\" or filled with a delicious mixture of potatoes, peas, and spices.\\n    *   **Figurative meaning (for a person):** When someone says they are \"stuffed with problems,\" it means they are overwhelmed, burdened, or have too many issues and worries to handle.\\n\\n2.  **Keeping a \"crisp\" exterior:**\\n    *   **Literal meaning (for a samosa):** A well-made samosa has a \"crisp\" or crunchy outer pastry shell, which is part of its appeal.\\n    *   **Figurative meaning (for a person):** To keep a \"crisp exterior\" means to appear calm, composed, and in control on the outside, even when you\\'re feeling stressed, anxious, or overwhelmed on the inside. It\\'s about maintaining a facade of being put-together.\\n\\n**Why it\\'s funny:**\\n\\nThe humor comes from the **anthropomorphism** (giving human qualities to an inanimate object) and the clever **pun** on the words \"stuffed\" and \"crisp.\" We can all relate to feeling \"stuffed with problems\" and trying to maintain a \"crisp exterior\" in our own lives, so applying these very human experiences to a samosa creates a relatable and amusing image.'}, next=(), config={'configurable': {'thread_id': '1', 'checkpoint_ns': '', 'checkpoint_id': '1f070728-e500-6ae0-8003-fec1237b821a'}}, metadata={'source': 'loop', 'step': 3, 'parents': {}, 'thread_id': '1'}, created_at='2025-08-03T14:02:56.467836+00:00', parent_config={'configurable': {'thread_id': '1', 'checkpoint_ns': '', 'checkpoint_id': '1f070728-9c6a-6ca4-8002-e32d8dc1d63b'}}, tasks=(), interrupts=()),\n",
       " StateSnapshot(values={'topic': 'somosa', 'joke': 'Why was the samosa always so stressed out?\\n\\nBecause it felt constantly *stuffed* with problems, and was trying to keep a *crisp* exterior!'}, next=('generate_explanation',), config={'configurable': {'thread_id': '1', 'checkpoint_ns': '', 'checkpoint_id': '1f070728-9c6a-6ca4-8002-e32d8dc1d63b'}}, metadata={'source': 'loop', 'step': 2, 'parents': {}, 'thread_id': '1'}, created_at='2025-08-03T14:02:48.856694+00:00', parent_config={'configurable': {'thread_id': '1', 'checkpoint_ns': '', 'checkpoint_id': '1f07071f-5829-6ed0-8001-42baa638ff9d'}}, tasks=(PregelTask(id='0fd482a4-5095-b9a4-440a-071a6a4d7b2d', name='generate_explanation', path=('__pregel_pull', 'generate_explanation'), error=None, interrupts=(), state=None, result={'explanation': 'This joke is a play on words, using the literal characteristics of a samosa to describe very human feelings of stress and anxiety.\\n\\nHere\\'s the breakdown:\\n\\n1.  **\"Stuffed\" with problems:**\\n    *   **Literal meaning (for a samosa):** A samosa is literally \"stuffed\" or filled with a delicious mixture of potatoes, peas, and spices.\\n    *   **Figurative meaning (for a person):** When someone says they are \"stuffed with problems,\" it means they are overwhelmed, burdened, or have too many issues and worries to handle.\\n\\n2.  **Keeping a \"crisp\" exterior:**\\n    *   **Literal meaning (for a samosa):** A well-made samosa has a \"crisp\" or crunchy outer pastry shell, which is part of its appeal.\\n    *   **Figurative meaning (for a person):** To keep a \"crisp exterior\" means to appear calm, composed, and in control on the outside, even when you\\'re feeling stressed, anxious, or overwhelmed on the inside. It\\'s about maintaining a facade of being put-together.\\n\\n**Why it\\'s funny:**\\n\\nThe humor comes from the **anthropomorphism** (giving human qualities to an inanimate object) and the clever **pun** on the words \"stuffed\" and \"crisp.\" We can all relate to feeling \"stuffed with problems\" and trying to maintain a \"crisp exterior\" in our own lives, so applying these very human experiences to a samosa creates a relatable and amusing image.'}),), interrupts=()),\n",
       " StateSnapshot(values={'topic': 'pizza', 'joke': 'Why did the pizza go to the art museum?\\n\\nBecause it heard they had a *masterpiece* of a pie-ce!', 'explanation': 'This joke is a classic example of **wordplay**, specifically a **pun**!\\n\\nHere\\'s why it\\'s funny:\\n\\n1.  **\"Masterpiece\"**: In the context of an art museum, a \"masterpiece\" is a truly exceptional or famous work of art. This is the setup\\'s implied meaning.\\n\\n2.  **\"Pie-ce\"**:\\n    *   **Sounds like \"piece\"**: The \"pie-ce\" part of the punchline sounds exactly like the \"piece\" in \"masterpiece.\"\\n    *   **Refers to \"pie\"**: Pizza is often informally referred to as a \"pizza pie\" or just \"pie\" (especially in American English, e.g., \"a slice of pie\").\\n\\n3.  **The Pun**: The joke cleverly combines these two ideas. \"Master-pie-ce\" sounds like a \"masterpiece\" (a great work of art), but it also means a \"masterful piece of pie\" (a really delicious or perfect piece of pizza).\\n\\n**In short:** The pizza went to the museum not to see art, but because it heard there was an exceptionally good piece of *pizza* there, playing on the sound of \"masterpiece.\" The humor comes from the unexpected food-related twist on a high-culture concept.'}, next=(), config={'configurable': {'thread_id': '1', 'checkpoint_ns': '', 'checkpoint_id': '1f070722-b514-6bfd-8002-f7a9afafe00c'}}, metadata={'source': 'loop', 'step': 2, 'parents': {}, 'thread_id': '1'}, created_at='2025-08-03T14:00:10.381618+00:00', parent_config={'configurable': {'thread_id': '1', 'checkpoint_ns': '', 'checkpoint_id': '1f070722-6bcb-67f0-8001-69a54b5c9ac3'}}, tasks=(), interrupts=()),\n",
       " StateSnapshot(values={'topic': 'pizza', 'joke': 'Why did the pizza go to the art museum?\\n\\nBecause it heard they had a *masterpiece* of a pie-ce!'}, next=('generate_explanation',), config={'configurable': {'thread_id': '1', 'checkpoint_ns': '', 'checkpoint_id': '1f070722-6bcb-67f0-8001-69a54b5c9ac3'}}, metadata={'source': 'loop', 'step': 1, 'parents': {}, 'thread_id': '1'}, created_at='2025-08-03T14:00:02.697009+00:00', parent_config={'configurable': {'thread_id': '1', 'checkpoint_ns': '', 'checkpoint_id': '1f0702be-d54a-6a72-8000-2a533a1aca91'}}, tasks=(PregelTask(id='48a40e6d-f737-ba76-9077-91f18435b485', name='generate_explanation', path=('__pregel_pull', 'generate_explanation'), error=None, interrupts=(), state=None, result={'explanation': 'This joke is a classic example of **wordplay**, specifically a **pun**!\\n\\nHere\\'s why it\\'s funny:\\n\\n1.  **\"Masterpiece\"**: In the context of an art museum, a \"masterpiece\" is a truly exceptional or famous work of art. This is the setup\\'s implied meaning.\\n\\n2.  **\"Pie-ce\"**:\\n    *   **Sounds like \"piece\"**: The \"pie-ce\" part of the punchline sounds exactly like the \"piece\" in \"masterpiece.\"\\n    *   **Refers to \"pie\"**: Pizza is often informally referred to as a \"pizza pie\" or just \"pie\" (especially in American English, e.g., \"a slice of pie\").\\n\\n3.  **The Pun**: The joke cleverly combines these two ideas. \"Master-pie-ce\" sounds like a \"masterpiece\" (a great work of art), but it also means a \"masterful piece of pie\" (a really delicious or perfect piece of pizza).\\n\\n**In short:** The pizza went to the museum not to see art, but because it heard there was an exceptionally good piece of *pizza* there, playing on the sound of \"masterpiece.\" The humor comes from the unexpected food-related twist on a high-culture concept.'}),), interrupts=()),\n",
       " StateSnapshot(values={'topic': 'somosa'}, next=('generate_joke',), config={'configurable': {'thread_id': '1', 'checkpoint_ns': '', 'checkpoint_id': '1f07071f-5829-6ed0-8001-42baa638ff9d'}}, metadata={'source': 'update', 'step': 1, 'parents': {}, 'thread_id': '1'}, created_at='2025-08-03T13:58:40.107899+00:00', parent_config={'configurable': {'thread_id': '1', 'checkpoint_ns': '', 'checkpoint_id': '1f0702be-d54a-6a72-8000-2a533a1aca91'}}, tasks=(PregelTask(id='50974456-14ca-c337-6f96-aa54fe5a16bc', name='generate_joke', path=('__pregel_pull', 'generate_joke'), error=None, interrupts=(), state=None, result={'joke': 'Why was the samosa always so stressed out?\\n\\nBecause it felt constantly *stuffed* with problems, and was trying to keep a *crisp* exterior!'}),), interrupts=()),\n",
       " StateSnapshot(values={'topic': 'pizza'}, next=('generate_joke',), config={'configurable': {'thread_id': '1', 'checkpoint_ns': '', 'checkpoint_id': '1f07071b-d387-6c91-8001-8af4ec1de1d5'}}, metadata={'source': 'update', 'step': 1, 'parents': {}, 'thread_id': '1'}, created_at='2025-08-03T13:57:05.669646+00:00', parent_config={'configurable': {'thread_id': '1', 'checkpoint_ns': '', 'checkpoint_id': '1f0702be-d54a-6a72-8000-2a533a1aca91'}}, tasks=(PregelTask(id='42f3ffda-d56d-eaa0-3c41-e6a8e2762e83', name='generate_joke', path=('__pregel_pull', 'generate_joke'), error=None, interrupts=(), state=None, result=None),), interrupts=()),\n",
       " StateSnapshot(values={'topic': 'pizza'}, next=('generate_joke',), config={'configurable': {'thread_id': '1', 'checkpoint_ns': '', 'checkpoint_id': '1f070718-e673-6d45-8000-2891ae2647c4'}}, metadata={'source': 'update', 'step': 0, 'parents': {}, 'thread_id': '1'}, created_at='2025-08-03T13:55:47.123130+00:00', parent_config={'configurable': {'thread_id': '1', 'checkpoint_ns': '', 'checkpoint_id': '1f0702be-d543-6550-bfff-4e4b4b013573'}}, tasks=(PregelTask(id='87308b9f-bdf0-edf1-728f-b91601bb3170', name='generate_joke', path=('__pregel_pull', 'generate_joke'), error=None, interrupts=(), state=None, result=None),), interrupts=()),\n",
       " StateSnapshot(values={'topic': 'pizza', 'joke': 'Why did the pizza get a promotion?\\n\\nBecause it had enough **dough**!', 'explanation': 'This is a classic pun! Here\\'s why it\\'s funny:\\n\\n1.  **\"Dough\" (Meaning 1 - Literal):** \"Dough\" is the unbaked mixture of flour, water, etc., that the crust of a pizza is made from. So, a pizza literally has \"dough.\"\\n\\n2.  **\"Dough\" (Meaning 2 - Slang):** \"Dough\" is a common slang term for **money**.\\n\\nThe humor comes from the double meaning.\\n\\n*   When we hear \"Why did the pizza get a promotion?\", our minds might first think of the literal pizza dough.\\n*   But \"getting a promotion\" in a job usually means you\\'re moving up, getting more responsibility, and (most importantly for the joke) **earning more money**.\\n\\nSo, the joke plays on the idea that the pizza \"had enough **money**\" (dough) to be considered valuable or successful enough for a promotion, even though it\\'s a pizza and its \"dough\" is just its crust!'}, next=(), config={'configurable': {'thread_id': '1', 'checkpoint_ns': '', 'checkpoint_id': '1f0706e8-3150-6311-8002-3dc4526299e5'}}, metadata={'source': 'loop', 'step': 2, 'parents': {}, 'thread_id': '1'}, created_at='2025-08-03T13:33:59.639118+00:00', parent_config={'configurable': {'thread_id': '1', 'checkpoint_ns': '', 'checkpoint_id': '1f0706e7-f6f5-6723-8001-53d371e05a57'}}, tasks=(), interrupts=()),\n",
       " StateSnapshot(values={'topic': 'pizza', 'joke': 'Why did the pizza get a promotion?\\n\\nBecause it had enough **dough**!'}, next=('generate_explanation',), config={'configurable': {'thread_id': '1', 'checkpoint_ns': '', 'checkpoint_id': '1f0706e7-f6f5-6723-8001-53d371e05a57'}}, metadata={'source': 'loop', 'step': 1, 'parents': {}, 'thread_id': '1'}, created_at='2025-08-03T13:33:53.520208+00:00', parent_config={'configurable': {'thread_id': '1', 'checkpoint_ns': '', 'checkpoint_id': '1f0702be-d54a-6a72-8000-2a533a1aca91'}}, tasks=(PregelTask(id='91d67c1a-c476-1761-2204-9b853dcf31ac', name='generate_explanation', path=('__pregel_pull', 'generate_explanation'), error=None, interrupts=(), state=None, result={'explanation': 'This is a classic pun! Here\\'s why it\\'s funny:\\n\\n1.  **\"Dough\" (Meaning 1 - Literal):** \"Dough\" is the unbaked mixture of flour, water, etc., that the crust of a pizza is made from. So, a pizza literally has \"dough.\"\\n\\n2.  **\"Dough\" (Meaning 2 - Slang):** \"Dough\" is a common slang term for **money**.\\n\\nThe humor comes from the double meaning.\\n\\n*   When we hear \"Why did the pizza get a promotion?\", our minds might first think of the literal pizza dough.\\n*   But \"getting a promotion\" in a job usually means you\\'re moving up, getting more responsibility, and (most importantly for the joke) **earning more money**.\\n\\nSo, the joke plays on the idea that the pizza \"had enough **money**\" (dough) to be considered valuable or successful enough for a promotion, even though it\\'s a pizza and its \"dough\" is just its crust!'}),), interrupts=()),\n",
       " StateSnapshot(values={'topic': 'pizza', 'joke': 'Why did the pizza apply for a loan?\\nBecause it was a little short on **dough**!', 'explanation': 'This is a classic play on words, also known as a **pun**!\\n\\nHere\\'s why it\\'s funny:\\n\\n1.  **\"Short on dough\" (Meaning 1 - Slang for money):** When someone applies for a loan, it\\'s because they need money. In informal English, \"dough\" is a common slang term for money (like \"cash\" or \"bucks\"). So, if the pizza was \"short on dough,\" it means it didn\\'t have enough money. This is the meaning implied by the idea of applying for a loan.\\n\\n2.  **\"Dough\" (Meaning 2 - Literal ingredient):** \"Dough\" also literally refers to the main ingredient of pizza – the mixture of flour, water, yeast, etc., that the crust is made from. A pizza is quite literally made of dough!\\n\\nThe joke works because it cleverly uses the word \"dough\" to mean **both** things at once. The setup makes you think about money, but the punchline uses the word in a way that also refers directly to the pizza itself, creating a humorous and unexpected double meaning.'}, next=(), config={'configurable': {'thread_id': '1', 'checkpoint_ns': '', 'checkpoint_id': '1f0702bf-86dd-634d-8002-632009fbb773'}}, metadata={'source': 'loop', 'step': 2, 'parents': {}, 'thread_id': '1'}, created_at='2025-08-03T05:37:40.233710+00:00', parent_config={'configurable': {'thread_id': '1', 'checkpoint_ns': '', 'checkpoint_id': '1f0702bf-4767-6a2f-8001-8b11205db2da'}}, tasks=(), interrupts=()),\n",
       " StateSnapshot(values={'topic': 'pizza', 'joke': 'Why did the pizza apply for a loan?\\nBecause it was a little short on **dough**!'}, next=('generate_explanation',), config={'configurable': {'thread_id': '1', 'checkpoint_ns': '', 'checkpoint_id': '1f0702bf-4767-6a2f-8001-8b11205db2da'}}, metadata={'source': 'loop', 'step': 1, 'parents': {}, 'thread_id': '1'}, created_at='2025-08-03T05:37:33.579524+00:00', parent_config={'configurable': {'thread_id': '1', 'checkpoint_ns': '', 'checkpoint_id': '1f0702be-d54a-6a72-8000-2a533a1aca91'}}, tasks=(PregelTask(id='7271cdc0-8314-21fc-8a58-5eb779ec9698', name='generate_explanation', path=('__pregel_pull', 'generate_explanation'), error=None, interrupts=(), state=None, result={'explanation': 'This is a classic play on words, also known as a **pun**!\\n\\nHere\\'s why it\\'s funny:\\n\\n1.  **\"Short on dough\" (Meaning 1 - Slang for money):** When someone applies for a loan, it\\'s because they need money. In informal English, \"dough\" is a common slang term for money (like \"cash\" or \"bucks\"). So, if the pizza was \"short on dough,\" it means it didn\\'t have enough money. This is the meaning implied by the idea of applying for a loan.\\n\\n2.  **\"Dough\" (Meaning 2 - Literal ingredient):** \"Dough\" also literally refers to the main ingredient of pizza – the mixture of flour, water, yeast, etc., that the crust is made from. A pizza is quite literally made of dough!\\n\\nThe joke works because it cleverly uses the word \"dough\" to mean **both** things at once. The setup makes you think about money, but the punchline uses the word in a way that also refers directly to the pizza itself, creating a humorous and unexpected double meaning.'}),), interrupts=()),\n",
       " StateSnapshot(values={'topic': 'pizza'}, next=('generate_joke',), config={'configurable': {'thread_id': '1', 'checkpoint_ns': '', 'checkpoint_id': '1f0702be-d54a-6a72-8000-2a533a1aca91'}}, metadata={'source': 'loop', 'step': 0, 'parents': {}, 'thread_id': '1'}, created_at='2025-08-03T05:37:21.613886+00:00', parent_config={'configurable': {'thread_id': '1', 'checkpoint_ns': '', 'checkpoint_id': '1f0702be-d543-6550-bfff-4e4b4b013573'}}, tasks=(PregelTask(id='3850dc68-6793-3b02-e28c-0f3b1c88a61a', name='generate_joke', path=('__pregel_pull', 'generate_joke'), error=None, interrupts=(), state=None, result={'joke': 'Why did the pizza apply for a loan?\\nBecause it was a little short on **dough**!'}),), interrupts=()),\n",
       " StateSnapshot(values={}, next=('__start__',), config={'configurable': {'thread_id': '1', 'checkpoint_ns': '', 'checkpoint_id': '1f0702be-d543-6550-bfff-4e4b4b013573'}}, metadata={'source': 'input', 'step': -1, 'parents': {}, 'thread_id': '1'}, created_at='2025-08-03T05:37:21.610888+00:00', parent_config=None, tasks=(PregelTask(id='056dba2b-c7e1-c5f0-dba6-d1011cee6c56', name='__start__', path=('__pregel_pull', '__start__'), error=None, interrupts=(), state=None, result={'topic': 'pizza'}),), interrupts=())]"
      ]
     },
     "execution_count": 41,
     "metadata": {},
     "output_type": "execute_result"
    }
   ],
   "source": [
    "list(workflow.get_state_history(config1))\n"
   ]
  },
  {
   "cell_type": "code",
   "execution_count": null,
   "id": "4f11706e",
   "metadata": {},
   "outputs": [],
   "source": []
  }
 ],
 "metadata": {
  "kernelspec": {
   "display_name": "myenv",
   "language": "python",
   "name": "python3"
  },
  "language_info": {
   "codemirror_mode": {
    "name": "ipython",
    "version": 3
   },
   "file_extension": ".py",
   "mimetype": "text/x-python",
   "name": "python",
   "nbconvert_exporter": "python",
   "pygments_lexer": "ipython3",
   "version": "3.10.1"
  }
 },
 "nbformat": 4,
 "nbformat_minor": 5
}
