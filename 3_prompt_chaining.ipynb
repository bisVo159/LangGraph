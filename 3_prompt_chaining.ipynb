{
 "cells": [
  {
   "cell_type": "code",
   "execution_count": 11,
   "id": "348d375a",
   "metadata": {},
   "outputs": [],
   "source": [
    "from langgraph.graph import StateGraph, START, END\n",
    "from langchain_google_genai import ChatGoogleGenerativeAI\n",
    "from typing import TypedDict\n",
    "from dotenv import load_dotenv"
   ]
  },
  {
   "cell_type": "code",
   "execution_count": 12,
   "id": "203f5bf8",
   "metadata": {},
   "outputs": [],
   "source": [
    "load_dotenv()\n",
    "model = ChatGoogleGenerativeAI(model=\"gemini-1.5-flash\")"
   ]
  },
  {
   "cell_type": "code",
   "execution_count": 13,
   "id": "5c21b7a2",
   "metadata": {},
   "outputs": [],
   "source": [
    "class BlogState(TypedDict):\n",
    "    title: str\n",
    "    outline: str\n",
    "    content: str"
   ]
  },
  {
   "cell_type": "code",
   "execution_count": 14,
   "id": "98fc1eef",
   "metadata": {},
   "outputs": [],
   "source": [
    "def generate_outline(state: BlogState) -> BlogState:\n",
    "    title = state['title']\n",
    "    prompt = f\"Generate an outline for a blog post on the topic: {title}\"\n",
    "    outline = model.invoke(prompt).content\n",
    "    state['outline'] = outline\n",
    "    return state"
   ]
  },
  {
   "cell_type": "code",
   "execution_count": 15,
   "id": "92295e8a",
   "metadata": {},
   "outputs": [],
   "source": [
    "def generate_content(state: BlogState) -> BlogState:\n",
    "    title= state['title']\n",
    "    outline = state['outline']\n",
    "    prompt = f\"Write a detailed blog on the title - {title} using the follwing outline \\n {outline}\"\n",
    "    content = model.invoke(prompt).content\n",
    "    state['content'] = content\n",
    "    return state"
   ]
  },
  {
   "cell_type": "code",
   "execution_count": 19,
   "id": "436a5ebc",
   "metadata": {},
   "outputs": [],
   "source": [
    "graph = StateGraph(BlogState)\n",
    "# nodes\n",
    "graph.add_node(\"generate_outline\", generate_outline)\n",
    "graph.add_node(\"generate_content\", generate_content)\n",
    "\n",
    "# edges\n",
    "graph.add_edge(START, \"generate_outline\")\n",
    "graph.add_edge(\"generate_outline\", \"generate_content\")\n",
    "graph.add_edge(\"generate_content\", END)\n",
    "\n",
    "workflow = graph.compile()"
   ]
  },
  {
   "cell_type": "code",
   "execution_count": 20,
   "id": "e5181c11",
   "metadata": {},
   "outputs": [
    {
     "name": "stdout",
     "output_type": "stream",
     "text": [
      "{'title': 'Rise of AI in India', 'outline': \"## Blog Post Outline: The Rise of AI in India\\n\\n**I. Introduction (approx. 100 words)**\\n\\n* Hook: Start with a compelling statistic or anecdote showcasing AI's growing presence in India (e.g., investment figures, a successful AI application).\\n* Briefly define AI and its potential impact.\\n* Thesis statement:  India is experiencing a rapid rise in AI adoption and development, driven by [mention key factors like government initiatives, talent pool, data availability, etc.],  despite facing certain challenges.\\n\\n**II. Driving Forces Behind India's AI Boom (approx. 300 words)**\\n\\n* **A. Government Initiatives:**\\n    * National AI Strategy:  Mention key goals and initiatives.\\n    * Funding and investment programs.\\n    * Regulatory framework (or lack thereof – discuss potential challenges).\\n* **B. Abundant Talent Pool:**\\n    * Large number of engineers and data scientists.\\n    * Growing number of AI-focused educational programs.\\n    * Diaspora contributing expertise.\\n* **C. Data Abundance:**\\n    * Large and diverse population generating vast amounts of data.\\n    * Growing digitalization and adoption of smartphones.\\n    * Opportunities in data analytics and machine learning.\\n* **D. Cost-Effectiveness:**\\n    * Lower operational costs compared to Western countries.\\n    * Attracting global companies seeking outsourcing opportunities.\\n\\n\\n**III. Key Applications of AI in India (approx. 300 words)**\\n\\n* **A. Agriculture:**  Precision farming, crop yield prediction, disease detection.\\n* **B. Healthcare:** Disease diagnosis, drug discovery, personalized medicine, telemedicine.\\n* **C. Fintech:** Fraud detection, credit scoring, algorithmic trading, personalized financial advice.\\n* **D. E-commerce:**  Recommendation systems, personalized marketing, customer service chatbots.\\n* **E. Other sectors:**  Mention examples in transportation, education, manufacturing, etc.  (choose 1-2 relevant examples based on space constraints)\\n\\n\\n**IV. Challenges Facing AI Development in India (approx. 200 words)**\\n\\n* **A. Data Privacy and Security Concerns:**  Addressing ethical considerations and regulatory gaps.\\n* **B. Infrastructure Limitations:**  Addressing digital divide and uneven access to technology.\\n* **C. Skill Gaps:**  Need for upskilling and reskilling the workforce.\\n* **D. Ethical Concerns:**  Bias in algorithms, job displacement, responsible AI development.\\n\\n\\n**V. Future Outlook and Conclusion (approx. 150 words)**\\n\\n* Forecast future growth and trends in AI adoption in India.\\n* Discuss potential for India to become a global AI leader.\\n* Reiterate the importance of addressing challenges to unlock AI's full potential.\\n* Concluding statement emphasizing the transformative power of AI in India's future.\\n\\n\\n**VI. Call to Action (approx. 50 words)**\\n\\n* Encourage readers to share their thoughts and perspectives.\\n* Promote further reading or resources on the topic.\\n\\n\\n**VII.  Optional additions:**\\n\\n* Include relevant images and infographics.\\n* Cite credible sources throughout the blog post.\\n* Consider adding a section on specific successful Indian AI companies or startups.\\n\\n\\nThis outline provides a framework; you can adjust the length and focus of each section based on your target audience and the overall length of your blog post. Remember to maintain a clear and engaging writing style throughout.\", 'content': \"## The Rise of AI in India: A Nation's Intelligent Transformation\\n\\nIndia's tech landscape is undergoing a dramatic shift, fueled by the rapid rise of artificial intelligence (AI).  With investments exceeding \\\\$1 billion in 2022 alone, and a burgeoning ecosystem of startups and research institutions, India is firmly establishing itself as a significant player in the global AI arena. This blog explores the driving forces behind this surge, its key applications, and the challenges that lie ahead.\\n\\n\\n**I. Introduction**\\n\\nArtificial intelligence, the ability of machines to mimic human intelligence, holds immense potential to transform societies.  From automating mundane tasks to driving groundbreaking innovations in healthcare and agriculture, AI's impact is undeniable.  India, with its unique blend of a large, tech-savvy population, a robust engineering talent pool, and proactive government initiatives, is witnessing an unprecedented rise in AI adoption and development.  This growth, however, is not without its hurdles, including concerns around data privacy and infrastructure limitations.\\n\\n\\n**II. Driving Forces Behind India's AI Boom**\\n\\nSeveral factors are converging to propel India's AI revolution:\\n\\n**A. Government Initiatives:** The Indian government has recognized AI's transformative potential and launched the National AI Strategy, aiming to establish India as a global AI leader. This strategy includes substantial funding for research and development, initiatives to promote AI education and skill development, and efforts to create a supportive regulatory framework.  While still evolving, this framework aims to balance innovation with responsible AI development.\\n\\n**B. Abundant Talent Pool:** India boasts a vast pool of skilled engineers and data scientists, a crucial resource for AI development.  Numerous universities and institutions are now offering specialized AI and machine learning programs, further bolstering this talent pipeline.  The Indian diaspora, with its strong presence in the global tech industry, also plays a significant role in knowledge transfer and collaboration.\\n\\n**C. Data Abundance:**  India's massive and diverse population generates a wealth of data, a key ingredient for successful AI applications. The rapid growth of smartphone adoption and digitalization is further fueling this data explosion, creating opportunities in data analytics and machine learning.\\n\\n**D. Cost-Effectiveness:** Compared to Western nations, India offers significantly lower operational costs for AI development and deployment. This cost advantage makes it an attractive destination for global companies seeking outsourcing opportunities, further stimulating the growth of the AI ecosystem.\\n\\n\\n**III. Key Applications of AI in India**\\n\\nAI is rapidly transforming various sectors across India:\\n\\n**A. Agriculture:** Precision farming techniques, powered by AI, are improving crop yields and resource management. AI-driven systems are also being used for early disease detection and pest control, minimizing crop losses.\\n\\n**B. Healthcare:** AI is revolutionizing healthcare through improved disease diagnosis, accelerated drug discovery, and the development of personalized medicine.  Telemedicine platforms, powered by AI, are expanding access to healthcare in remote areas.\\n\\n**C. Fintech:** The financial sector is leveraging AI for fraud detection, credit scoring, algorithmic trading, and personalized financial advice, enhancing efficiency and security.\\n\\n**D. E-commerce:** AI-powered recommendation systems are personalizing customer experiences, while chatbots are streamlining customer service interactions.  AI is also optimizing supply chain management and logistics.\\n\\n**E. Transportation:**  AI is being integrated into traffic management systems to optimize traffic flow and reduce congestion.  Self-driving technology is also emerging as a potential area of growth.\\n\\n\\n**IV. Challenges Facing AI Development in India**\\n\\nDespite the significant progress, India faces several challenges in its AI journey:\\n\\n**A. Data Privacy and Security Concerns:** The increasing use of AI necessitates robust data privacy and security measures.  The development of a comprehensive regulatory framework addressing ethical considerations and potential misuse of data is crucial.\\n\\n**B. Infrastructure Limitations:**  The digital divide remains a significant hurdle, with uneven access to technology and internet connectivity across the country.  Addressing this disparity is essential for inclusive AI adoption.\\n\\n**C. Skill Gaps:**  While India has a large pool of engineers, there's a need for upskilling and reskilling the workforce to meet the specific demands of the AI industry.  Focusing on specialized AI and machine learning skills is crucial.\\n\\n**D. Ethical Concerns:**  Addressing potential biases in algorithms, mitigating job displacement concerns, and ensuring responsible AI development are critical for ensuring equitable and beneficial outcomes.\\n\\n\\n**V. Future Outlook and Conclusion**\\n\\nIndia's AI journey is poised for exponential growth.  With continued government support, a thriving talent pool, and abundant data, India has the potential to become a global AI leader.  However, addressing the challenges related to data privacy, infrastructure, skill gaps, and ethical considerations is paramount to unlocking AI's full transformative potential.  The future of AI in India promises a more efficient, inclusive, and prosperous nation.\\n\\n\\n**VI. Call to Action**\\n\\nShare your thoughts on the future of AI in India in the comments below.  What are the biggest opportunities and challenges you see?  Learn more about AI initiatives in India by visiting [link to relevant resources].\"}\n"
     ]
    }
   ],
   "source": [
    "initial_state = {'title': 'Rise of AI in India'}\n",
    "final_state = workflow.invoke(initial_state)\n",
    "print(final_state)"
   ]
  },
  {
   "cell_type": "code",
   "execution_count": 23,
   "id": "abc8cd70",
   "metadata": {},
   "outputs": [
    {
     "name": "stdout",
     "output_type": "stream",
     "text": [
      "## Blog Post Outline: The Rise of AI in India\n",
      "\n",
      "**I. Introduction (approx. 100 words)**\n",
      "\n",
      "* Hook: Start with a compelling statistic or anecdote showcasing AI's growing presence in India (e.g., investment figures, a successful AI application).\n",
      "* Briefly define AI and its potential impact.\n",
      "* Thesis statement:  India is experiencing a rapid rise in AI adoption and development, driven by [mention key factors like government initiatives, talent pool, data availability, etc.],  despite facing certain challenges.\n",
      "\n",
      "**II. Driving Forces Behind India's AI Boom (approx. 300 words)**\n",
      "\n",
      "* **A. Government Initiatives:**\n",
      "    * National AI Strategy:  Mention key goals and initiatives.\n",
      "    * Funding and investment programs.\n",
      "    * Regulatory framework (or lack thereof – discuss potential challenges).\n",
      "* **B. Abundant Talent Pool:**\n",
      "    * Large number of engineers and data scientists.\n",
      "    * Growing number of AI-focused educational programs.\n",
      "    * Diaspora contributing expertise.\n",
      "* **C. Data Abundance:**\n",
      "    * Large and diverse population generating vast amounts of data.\n",
      "    * Growing digitalization and adoption of smartphones.\n",
      "    * Opportunities in data analytics and machine learning.\n",
      "* **D. Cost-Effectiveness:**\n",
      "    * Lower operational costs compared to Western countries.\n",
      "    * Attracting global companies seeking outsourcing opportunities.\n",
      "\n",
      "\n",
      "**III. Key Applications of AI in India (approx. 300 words)**\n",
      "\n",
      "* **A. Agriculture:**  Precision farming, crop yield prediction, disease detection.\n",
      "* **B. Healthcare:** Disease diagnosis, drug discovery, personalized medicine, telemedicine.\n",
      "* **C. Fintech:** Fraud detection, credit scoring, algorithmic trading, personalized financial advice.\n",
      "* **D. E-commerce:**  Recommendation systems, personalized marketing, customer service chatbots.\n",
      "* **E. Other sectors:**  Mention examples in transportation, education, manufacturing, etc.  (choose 1-2 relevant examples based on space constraints)\n",
      "\n",
      "\n",
      "**IV. Challenges Facing AI Development in India (approx. 200 words)**\n",
      "\n",
      "* **A. Data Privacy and Security Concerns:**  Addressing ethical considerations and regulatory gaps.\n",
      "* **B. Infrastructure Limitations:**  Addressing digital divide and uneven access to technology.\n",
      "* **C. Skill Gaps:**  Need for upskilling and reskilling the workforce.\n",
      "* **D. Ethical Concerns:**  Bias in algorithms, job displacement, responsible AI development.\n",
      "\n",
      "\n",
      "**V. Future Outlook and Conclusion (approx. 150 words)**\n",
      "\n",
      "* Forecast future growth and trends in AI adoption in India.\n",
      "* Discuss potential for India to become a global AI leader.\n",
      "* Reiterate the importance of addressing challenges to unlock AI's full potential.\n",
      "* Concluding statement emphasizing the transformative power of AI in India's future.\n",
      "\n",
      "\n",
      "**VI. Call to Action (approx. 50 words)**\n",
      "\n",
      "* Encourage readers to share their thoughts and perspectives.\n",
      "* Promote further reading or resources on the topic.\n",
      "\n",
      "\n",
      "**VII.  Optional additions:**\n",
      "\n",
      "* Include relevant images and infographics.\n",
      "* Cite credible sources throughout the blog post.\n",
      "* Consider adding a section on specific successful Indian AI companies or startups.\n",
      "\n",
      "\n",
      "This outline provides a framework; you can adjust the length and focus of each section based on your target audience and the overall length of your blog post. Remember to maintain a clear and engaging writing style throughout.\n"
     ]
    }
   ],
   "source": [
    "print(final_state['outline'] )"
   ]
  },
  {
   "cell_type": "code",
   "execution_count": 24,
   "id": "7c9ea8d8",
   "metadata": {},
   "outputs": [
    {
     "name": "stdout",
     "output_type": "stream",
     "text": [
      "## The Rise of AI in India: A Nation's Intelligent Transformation\n",
      "\n",
      "India's tech landscape is undergoing a dramatic shift, fueled by the rapid rise of artificial intelligence (AI).  With investments exceeding \\$1 billion in 2022 alone, and a burgeoning ecosystem of startups and research institutions, India is firmly establishing itself as a significant player in the global AI arena. This blog explores the driving forces behind this surge, its key applications, and the challenges that lie ahead.\n",
      "\n",
      "\n",
      "**I. Introduction**\n",
      "\n",
      "Artificial intelligence, the ability of machines to mimic human intelligence, holds immense potential to transform societies.  From automating mundane tasks to driving groundbreaking innovations in healthcare and agriculture, AI's impact is undeniable.  India, with its unique blend of a large, tech-savvy population, a robust engineering talent pool, and proactive government initiatives, is witnessing an unprecedented rise in AI adoption and development.  This growth, however, is not without its hurdles, including concerns around data privacy and infrastructure limitations.\n",
      "\n",
      "\n",
      "**II. Driving Forces Behind India's AI Boom**\n",
      "\n",
      "Several factors are converging to propel India's AI revolution:\n",
      "\n",
      "**A. Government Initiatives:** The Indian government has recognized AI's transformative potential and launched the National AI Strategy, aiming to establish India as a global AI leader. This strategy includes substantial funding for research and development, initiatives to promote AI education and skill development, and efforts to create a supportive regulatory framework.  While still evolving, this framework aims to balance innovation with responsible AI development.\n",
      "\n",
      "**B. Abundant Talent Pool:** India boasts a vast pool of skilled engineers and data scientists, a crucial resource for AI development.  Numerous universities and institutions are now offering specialized AI and machine learning programs, further bolstering this talent pipeline.  The Indian diaspora, with its strong presence in the global tech industry, also plays a significant role in knowledge transfer and collaboration.\n",
      "\n",
      "**C. Data Abundance:**  India's massive and diverse population generates a wealth of data, a key ingredient for successful AI applications. The rapid growth of smartphone adoption and digitalization is further fueling this data explosion, creating opportunities in data analytics and machine learning.\n",
      "\n",
      "**D. Cost-Effectiveness:** Compared to Western nations, India offers significantly lower operational costs for AI development and deployment. This cost advantage makes it an attractive destination for global companies seeking outsourcing opportunities, further stimulating the growth of the AI ecosystem.\n",
      "\n",
      "\n",
      "**III. Key Applications of AI in India**\n",
      "\n",
      "AI is rapidly transforming various sectors across India:\n",
      "\n",
      "**A. Agriculture:** Precision farming techniques, powered by AI, are improving crop yields and resource management. AI-driven systems are also being used for early disease detection and pest control, minimizing crop losses.\n",
      "\n",
      "**B. Healthcare:** AI is revolutionizing healthcare through improved disease diagnosis, accelerated drug discovery, and the development of personalized medicine.  Telemedicine platforms, powered by AI, are expanding access to healthcare in remote areas.\n",
      "\n",
      "**C. Fintech:** The financial sector is leveraging AI for fraud detection, credit scoring, algorithmic trading, and personalized financial advice, enhancing efficiency and security.\n",
      "\n",
      "**D. E-commerce:** AI-powered recommendation systems are personalizing customer experiences, while chatbots are streamlining customer service interactions.  AI is also optimizing supply chain management and logistics.\n",
      "\n",
      "**E. Transportation:**  AI is being integrated into traffic management systems to optimize traffic flow and reduce congestion.  Self-driving technology is also emerging as a potential area of growth.\n",
      "\n",
      "\n",
      "**IV. Challenges Facing AI Development in India**\n",
      "\n",
      "Despite the significant progress, India faces several challenges in its AI journey:\n",
      "\n",
      "**A. Data Privacy and Security Concerns:** The increasing use of AI necessitates robust data privacy and security measures.  The development of a comprehensive regulatory framework addressing ethical considerations and potential misuse of data is crucial.\n",
      "\n",
      "**B. Infrastructure Limitations:**  The digital divide remains a significant hurdle, with uneven access to technology and internet connectivity across the country.  Addressing this disparity is essential for inclusive AI adoption.\n",
      "\n",
      "**C. Skill Gaps:**  While India has a large pool of engineers, there's a need for upskilling and reskilling the workforce to meet the specific demands of the AI industry.  Focusing on specialized AI and machine learning skills is crucial.\n",
      "\n",
      "**D. Ethical Concerns:**  Addressing potential biases in algorithms, mitigating job displacement concerns, and ensuring responsible AI development are critical for ensuring equitable and beneficial outcomes.\n",
      "\n",
      "\n",
      "**V. Future Outlook and Conclusion**\n",
      "\n",
      "India's AI journey is poised for exponential growth.  With continued government support, a thriving talent pool, and abundant data, India has the potential to become a global AI leader.  However, addressing the challenges related to data privacy, infrastructure, skill gaps, and ethical considerations is paramount to unlocking AI's full transformative potential.  The future of AI in India promises a more efficient, inclusive, and prosperous nation.\n",
      "\n",
      "\n",
      "**VI. Call to Action**\n",
      "\n",
      "Share your thoughts on the future of AI in India in the comments below.  What are the biggest opportunities and challenges you see?  Learn more about AI initiatives in India by visiting [link to relevant resources].\n"
     ]
    }
   ],
   "source": [
    "print(final_state['content'])  "
   ]
  },
  {
   "cell_type": "code",
   "execution_count": null,
   "id": "f3e82f73",
   "metadata": {},
   "outputs": [],
   "source": []
  }
 ],
 "metadata": {
  "kernelspec": {
   "display_name": "myenv",
   "language": "python",
   "name": "python3"
  },
  "language_info": {
   "codemirror_mode": {
    "name": "ipython",
    "version": 3
   },
   "file_extension": ".py",
   "mimetype": "text/x-python",
   "name": "python",
   "nbconvert_exporter": "python",
   "pygments_lexer": "ipython3",
   "version": "3.10.1"
  }
 },
 "nbformat": 4,
 "nbformat_minor": 5
}
